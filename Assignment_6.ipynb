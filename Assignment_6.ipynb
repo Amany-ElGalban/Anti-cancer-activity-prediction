{
  "cells": [
    {
      "cell_type": "markdown",
      "metadata": {
        "id": "MzoMaCdte43K"
      },
      "source": [
        " ---\n",
        " ---\n",
        "##**Problem Formulation** \n",
        "\n",
        " ---\n",
        " ---"
      ]
    },
    {
      "cell_type": "markdown",
      "metadata": {
        "id": "zTE-58D7eqMd"
      },
      "source": [
        "\n",
        "\n",
        "*  **The input:** \n",
        " *  Training dat ( training_data) : it containd the features and the label data.\n",
        " *  Testing data (test_data) : it contains the features.\n",
        "\n",
        "* **the output**\n",
        " * it will be the label data (the raiting column) \n",
        "\n",
        "*  **Function used**  \n",
        " *   classification\n",
        "\n",
        " *   predection\n",
        "\n",
        "*   **Challenges**\n",
        "\n",
        " *   The dataset is not clean, and we need some preprocessing depending on the models we choice,\n",
        " \n",
        "\n",
        "*    **the imapct** \n",
        " *   the impact that the model will fits will on the training data and predect well on the test data or any data that we enter, And that will have a huge impact in real life if that uesd we will be able to predect right and proratize what is important.\n",
        " \n",
        " - we are going to be able to evaluate our mdels correctly and we can help the customer to find what they really want. \n",
        "\n",
        "\n",
        "*    **ideal solution**\n",
        " *   the ideal solutition happens when our model is able to classify and predict very well on any data the model gets , And also that happens when our data is cleaned perfectly  and \n",
        "\n",
        " - it happens when choose the perfecrt model who can deals with type of dat and not to forget the gyperparameter tuning .\n",
        "\n",
        "\n",
        " ---\n",
        "**the experimental protocol used is 'Hold out method'**\n",
        "\n",
        "The following is the process of using the hold-out method for model evaluation:\n",
        "\n",
        "- Split the dataset into two parts\n",
        "\n",
        "- Train the model on the training dataset; While training the model, some fixed set of hyper parameters is selected.\n",
        "\n",
        "- Test or evaluate the model on the held-out test dataset\n",
        "Train the final model on the entire dataset to get a model which can generalize better on the unseen or future dataset. \n",
        "---\n",
        "\n",
        "\n",
        "\n",
        "\n",
        "\n"
      ]
    },
    {
      "cell_type": "markdown",
      "metadata": {
        "id": "NO8Udy-V0zWQ"
      },
      "source": [
        "## **Read the data**"
      ]
    },
    {
      "cell_type": "code",
      "execution_count": 1,
      "metadata": {
        "id": "pxT5M0cPON_d"
      },
      "outputs": [],
      "source": [
        "import numpy as np\n",
        "from tqdm.notebook import tqdm\n",
        "\n",
        "def read_sdf(file):\n",
        "    with open(file, 'r') as rf:\n",
        "        content = rf.read()\n",
        "    samples = content.split('$$$$')\n",
        "    \n",
        "    def parse_sample(s):\n",
        "        lines = s.splitlines()\n",
        "        links = []\n",
        "        nodes = []\n",
        "        label = 0\n",
        "        for l in lines:\n",
        "            if l.strip() == '1.0':\n",
        "                label = 1\n",
        "            if l.strip() == '-1.0':\n",
        "                label = 0\n",
        "            if l.startswith('    '):\n",
        "                feature = l.split()\n",
        "                node = feature[3]\n",
        "                nodes.append(node)\n",
        "            elif l.startswith(' '):\n",
        "                lnk = l.split()\n",
        "                # edge: (from, to,) (1-based index)\n",
        "                if int(lnk[0]) - 1 < len(nodes):\n",
        "                    links.append((\n",
        "                        int(lnk[0])-1, \n",
        "                        int(lnk[1])-1, # zero-based index\n",
        "                        # int(lnk[2]) ignore edge weight\n",
        "                    ))\n",
        "        return nodes, np.array(links), label\n",
        "    \n",
        "    return [parse_sample(s) for s in tqdm(samples) if len(s[0]) > 0]\n",
        "                \n",
        "    \n",
        "        "
      ]
    },
    {
      "cell_type": "code",
      "execution_count": 2,
      "metadata": {
        "colab": {
          "base_uri": "https://localhost:8080/"
        },
        "id": "jlVLaqQ986eM",
        "outputId": "5dc6ab4a-6f93-4bf3-d22f-8f26c71e4473"
      },
      "outputs": [
        {
          "output_type": "stream",
          "name": "stdout",
          "text": [
            "\u001b[K     |████████████████████████████████| 54 kB 2.0 MB/s \n",
            "\u001b[K     |████████████████████████████████| 73 kB 1.4 MB/s \n",
            "\u001b[K     |████████████████████████████████| 346 kB 22.1 MB/s \n",
            "\u001b[K     |████████████████████████████████| 134 kB 44.4 MB/s \n",
            "\u001b[K     |████████████████████████████████| 1.2 MB 19.8 MB/s \n",
            "\u001b[K     |████████████████████████████████| 462 kB 43.3 MB/s \n",
            "\u001b[K     |████████████████████████████████| 79 kB 5.8 MB/s \n",
            "\u001b[K     |████████████████████████████████| 3.6 MB 35.1 MB/s \n",
            "\u001b[K     |████████████████████████████████| 178 kB 19.5 MB/s \n",
            "\u001b[K     |████████████████████████████████| 85 kB 3.1 MB/s \n",
            "\u001b[K     |████████████████████████████████| 41 kB 265 kB/s \n",
            "\u001b[?25h  Building wheel for tf2-gnn (setup.py) ... \u001b[?25l\u001b[?25hdone\n",
            "\u001b[31mERROR: pip's dependency resolver does not currently take into account all the packages that are installed. This behaviour is the source of the following dependency conflicts.\n",
            "arviz 0.11.4 requires typing-extensions<4,>=3.7.4.3, but you have typing-extensions 4.1.1 which is incompatible.\u001b[0m\n"
          ]
        }
      ],
      "source": [
        "!pip install --quiet tf2_gnn\n",
        "from tf2_gnn.layers.gnn import GNN, GNNInput"
      ]
    },
    {
      "cell_type": "code",
      "execution_count": 3,
      "metadata": {
        "colab": {
          "base_uri": "https://localhost:8080/"
        },
        "id": "9fw8ASHlOnKL",
        "outputId": "b2b8319c-104d-46b7-a4ca-28a6b395b6e5"
      },
      "outputs": [
        {
          "output_type": "stream",
          "name": "stdout",
          "text": [
            "Collecting sdf\n",
            "  Downloading SDF-0.3.5-py2.py3-none-any.whl (141 kB)\n",
            "\u001b[?25l\r\u001b[K     |██▎                             | 10 kB 19.6 MB/s eta 0:00:01\r\u001b[K     |████▋                           | 20 kB 26.3 MB/s eta 0:00:01\r\u001b[K     |███████                         | 30 kB 30.4 MB/s eta 0:00:01\r\u001b[K     |█████████▎                      | 40 kB 24.8 MB/s eta 0:00:01\r\u001b[K     |███████████▋                    | 51 kB 19.0 MB/s eta 0:00:01\r\u001b[K     |██████████████                  | 61 kB 19.8 MB/s eta 0:00:01\r\u001b[K     |████████████████▎               | 71 kB 21.4 MB/s eta 0:00:01\r\u001b[K     |██████████████████▌             | 81 kB 22.4 MB/s eta 0:00:01\r\u001b[K     |████████████████████▉           | 92 kB 23.9 MB/s eta 0:00:01\r\u001b[K     |███████████████████████▏        | 102 kB 25.5 MB/s eta 0:00:01\r\u001b[K     |█████████████████████████▌      | 112 kB 25.5 MB/s eta 0:00:01\r\u001b[K     |███████████████████████████▉    | 122 kB 25.5 MB/s eta 0:00:01\r\u001b[K     |██████████████████████████████▏ | 133 kB 25.5 MB/s eta 0:00:01\r\u001b[K     |████████████████████████████████| 141 kB 25.5 MB/s \n",
            "\u001b[?25hRequirement already satisfied: matplotlib in /usr/local/lib/python3.7/dist-packages (from sdf) (3.2.2)\n",
            "Requirement already satisfied: scipy in /usr/local/lib/python3.7/dist-packages (from sdf) (1.4.1)\n",
            "Requirement already satisfied: numpy in /usr/local/lib/python3.7/dist-packages (from sdf) (1.21.5)\n",
            "Requirement already satisfied: h5py in /usr/local/lib/python3.7/dist-packages (from sdf) (3.1.0)\n",
            "Requirement already satisfied: cached-property in /usr/local/lib/python3.7/dist-packages (from h5py->sdf) (1.5.2)\n",
            "Requirement already satisfied: cycler>=0.10 in /usr/local/lib/python3.7/dist-packages (from matplotlib->sdf) (0.11.0)\n",
            "Requirement already satisfied: kiwisolver>=1.0.1 in /usr/local/lib/python3.7/dist-packages (from matplotlib->sdf) (1.4.0)\n",
            "Requirement already satisfied: python-dateutil>=2.1 in /usr/local/lib/python3.7/dist-packages (from matplotlib->sdf) (2.8.2)\n",
            "Requirement already satisfied: pyparsing!=2.0.4,!=2.1.2,!=2.1.6,>=2.0.1 in /usr/local/lib/python3.7/dist-packages (from matplotlib->sdf) (3.0.7)\n",
            "Requirement already satisfied: typing-extensions in /usr/local/lib/python3.7/dist-packages (from kiwisolver>=1.0.1->matplotlib->sdf) (4.1.1)\n",
            "Requirement already satisfied: six>=1.5 in /usr/local/lib/python3.7/dist-packages (from python-dateutil>=2.1->matplotlib->sdf) (1.15.0)\n",
            "Installing collected packages: sdf\n",
            "Successfully installed sdf-0.3.5\n"
          ]
        }
      ],
      "source": [
        "pip install sdf"
      ]
    },
    {
      "cell_type": "code",
      "execution_count": 4,
      "metadata": {
        "colab": {
          "base_uri": "https://localhost:8080/",
          "height": 0,
          "referenced_widgets": [
            "2e1f2d6fa6ea41cdae1ff240a00b65b8",
            "d620108d64984df4aeee809f591dfc8f",
            "3511a5058ec44e1e89920150ca3fc3b3",
            "ff4499885dae45a5bddf93f00d6a1e32",
            "08b5757765694e12b50d9801d86aba3c",
            "f26341c94b484b0aa52eeb3a74389571",
            "67ace2ea65fb473cac983a80497719de",
            "5eb8099719904325b3abf0b5101058f6",
            "8e5f94a033e24ce880a5a2136177a39a",
            "1f4c7fb287264d22a6349aa8f3b6974a",
            "8acd8b1bf3a94573bf455237760f58ff"
          ]
        },
        "id": "LP1P66pFOnPp",
        "outputId": "1ead2dfe-b641-4c85-adda-4f44b0e41387"
      },
      "outputs": [
        {
          "output_type": "display_data",
          "data": {
            "text/plain": [
              "  0%|          | 0/25024 [00:00<?, ?it/s]"
            ],
            "application/vnd.jupyter.widget-view+json": {
              "version_major": 2,
              "version_minor": 0,
              "model_id": "2e1f2d6fa6ea41cdae1ff240a00b65b8"
            }
          },
          "metadata": {}
        }
      ],
      "source": [
        "#read the traing data \n",
        "from sklearn.model_selection import train_test_split\n",
        "training_data = read_sdf('/content/drive/MyDrive/DM_assignment_6/train.sdf')"
      ]
    },
    {
      "cell_type": "code",
      "execution_count": 5,
      "metadata": {
        "colab": {
          "base_uri": "https://localhost:8080/",
          "height": 0,
          "referenced_widgets": [
            "07cd11c68cfd4742bdc7903059a1e69d",
            "968dc281291247439c78a09ec83940ce",
            "869123889ccd4dd68e3a4dffbb11b1d3",
            "8679447dce22466ca0977dc693e93984",
            "6ac9fe6e6aef4b2eafbf950d9c1fbb0a",
            "84a4af0904484e669edae62077eee35d",
            "eb8446811ff14444962144fb813c5c3f",
            "9e44dc2429ab4f78a2989db617d8fc1f",
            "d4441ad41a384a23a8c9fefe72490f42",
            "8bbfea81ac4e42929adf2590f562d3bf",
            "76e7ed1bb9fe44a4877d242b875e2d28"
          ]
        },
        "id": "vRMxI6rtOnSI",
        "outputId": "a28ecad0-3c3a-4c88-bea1-6cb4e5379926"
      },
      "outputs": [
        {
          "output_type": "display_data",
          "data": {
            "text/plain": [
              "  0%|          | 0/12326 [00:00<?, ?it/s]"
            ],
            "application/vnd.jupyter.widget-view+json": {
              "version_major": 2,
              "version_minor": 0,
              "model_id": "07cd11c68cfd4742bdc7903059a1e69d"
            }
          },
          "metadata": {}
        }
      ],
      "source": [
        "#read the test data \n",
        "test_data  = read_sdf(\"/content/drive/MyDrive/DM_assignment_6/test_x.sdf\")"
      ]
    },
    {
      "cell_type": "code",
      "execution_count": 6,
      "metadata": {
        "id": "hgstgZikOnUg"
      },
      "outputs": [],
      "source": [
        " #Splitting traing data \n",
        "training_data, validation_set = train_test_split(training_data, test_size=0.15,)"
      ]
    },
    {
      "cell_type": "markdown",
      "metadata": {
        "id": "xmBsJZQUJ2U6"
      },
      "source": [
        "## Visualizing"
      ]
    },
    {
      "cell_type": "code",
      "execution_count": 7,
      "metadata": {
        "id": "FAttyGJpJ2U8"
      },
      "outputs": [],
      "source": [
        "!pip install --quiet networkx\n",
        "import networkx as nx\n",
        "import matplotlib.pyplot as plt\n",
        "from matplotlib import cm\n",
        "colors = cm.rainbow(np.linspace(0, 1, 50))"
      ]
    },
    {
      "cell_type": "code",
      "execution_count": 8,
      "metadata": {
        "id": "LqthsXuhJ2U-"
      },
      "outputs": [],
      "source": [
        "def visualize(sample):\n",
        "    G=nx.Graph()\n",
        "    nodes = sample[0]\n",
        "    edges = sample[1]\n",
        "    \n",
        "    labeldict={}\n",
        "    node_color=[]\n",
        "    for i,n in enumerate(nodes):\n",
        "        G.add_node(i)\n",
        "        labeldict[i]=n\n",
        "        node_color.append(colors[hash(n)%len(colors)])\n",
        "\n",
        "    # a list of nodes:\n",
        "    for e in edges:\n",
        "        G.add_edge(e[0], e[1])\n",
        "        \n",
        "    nx.draw(G, labels=labeldict, with_labels = True, node_color = node_color)\n",
        "    plt.show()\n",
        "    \n",
        "    return G"
      ]
    },
    {
      "cell_type": "code",
      "execution_count": 9,
      "metadata": {
        "colab": {
          "base_uri": "https://localhost:8080/",
          "height": 0
        },
        "id": "mRmhd0GlJ2VE",
        "outputId": "f8e9faf5-ce2e-4abd-ac32-d026b17666ed"
      },
      "outputs": [
        {
          "output_type": "display_data",
          "data": {
            "text/plain": [
              "<Figure size 432x288 with 1 Axes>"
            ],
            "image/png": "[encoded data removed]"
          },
          "metadata": {}
        },
        {
          "output_type": "execute_result",
          "data": {
            "text/plain": [
              "<networkx.classes.graph.Graph at 0x7fc4651b2f50>"
            ]
          },
          "metadata": {},
          "execution_count": 9
        }
      ],
      "source": [
        "plt.clf()\n",
        "visualize(training_data[20])"
      ]
    },
    {
      "cell_type": "markdown",
      "metadata": {
        "id": "bGWFermAxvH0"
      },
      "source": [
        "## **plotting** "
      ]
    },
    {
      "cell_type": "code",
      "execution_count": 10,
      "metadata": {
        "id": "rc7Eb_2-xsbl"
      },
      "outputs": [],
      "source": [
        "def plot_graphs(history, string):\n",
        "  plt.plot(history.history[string])\n",
        "  plt.plot(history.history['val_'+string])\n",
        "  plt.xlabel(\"Epochs\")\n",
        "  plt.ylabel(string)\n",
        "  plt.legend([string, 'val_'+string])\n",
        "  plt.show()"
      ]
    },
    {
      "cell_type": "markdown",
      "metadata": {
        "id": "YbeYUBssf8VQ"
      },
      "source": [
        "##**PreProcessing**"
      ]
    },
    {
      "cell_type": "markdown",
      "metadata": {
        "id": "rd3nPTlLguxX"
      },
      "source": [
        "###Toknization"
      ]
    },
    {
      "cell_type": "code",
      "execution_count": 11,
      "metadata": {
        "id": "ZjMw8BJ8f-Tf"
      },
      "outputs": [],
      "source": [
        "from tensorflow.keras.preprocessing.text import Tokenizer\n",
        "\n",
        "max_vocab = 500\n",
        "max_len = 100\n",
        "\n",
        "\n",
        "# build vocabulary from training set\n",
        "all_nodes = [s[0] for s in training_data]\n",
        "tokenizer = Tokenizer(num_words=max_vocab)\n",
        "tokenizer.fit_on_texts(all_nodes)"
      ]
    },
    {
      "cell_type": "code",
      "execution_count": 12,
      "metadata": {
        "id": "Mtzc5QzGf-tI"
      },
      "outputs": [],
      "source": [
        "from tensorflow.keras.preprocessing.sequence import pad_sequences\n",
        "import random\n",
        "random.seed(0)\n",
        "\n",
        "def prepare_single_batch(samples):\n",
        "    sample_nodes = [s[0] for s in samples]\n",
        "    sample_nodes = tokenizer.texts_to_sequences(sample_nodes)\n",
        "    sample_nodes = pad_sequences(sample_nodes, padding='post')\n",
        "    max_nodes_len = np.shape(sample_nodes)[1]\n",
        "    edges = [s[1]+i*max_nodes_len for i,s in enumerate(samples)]\n",
        "    edges = [e for e in edges if len(e) > 0]\n",
        "    node_to_graph = [[i]*max_nodes_len for i in range(len(samples))]\n",
        "    \n",
        "    all_nodes = np.reshape(sample_nodes, -1)\n",
        "    all_edges = np.concatenate(edges)\n",
        "\n",
        "    node_to_graph = np.reshape(node_to_graph, -1)\n",
        "    return {\n",
        "        'data': all_nodes,\n",
        "        'edges': all_edges,\n",
        "        'node2grah': node_to_graph,\n",
        "    }, np.array([s[2] for s in samples])\n",
        "\n",
        "\n",
        "\n",
        "def gen_batch(dataset, batch_size=16, repeat=False, shuffle=True):\n",
        "    while True:\n",
        "        dataset = list(dataset)\n",
        "        if shuffle:\n",
        "            random.shuffle(dataset)\n",
        "        l = len(dataset)\n",
        "        for ndx in range(0, l, batch_size):\n",
        "            batch_samples = dataset[ndx:min(ndx + batch_size, l)]\n",
        "            yield prepare_single_batch(batch_samples)\n",
        "        if not repeat:\n",
        "            break\n"
      ]
    },
    {
      "cell_type": "code",
      "execution_count": 13,
      "metadata": {
        "colab": {
          "base_uri": "https://localhost:8080/"
        },
        "id": "ORo3ALE9f-wB",
        "outputId": "0a218e43-fe3b-4d99-8203-65600533ac0b"
      },
      "outputs": [
        {
          "output_type": "stream",
          "name": "stdout",
          "text": [
            "data\n",
            "[2 2 2 3 1 1 1 1 1 1 1 1 1 1 1 1 1 1 1 1 1 1 1 1 1 1 1 5 2 2 3 3 1 1 1 1 1\n",
            " 1 1 1 1 1 0 0 0 0 0 0 0 0 0 0 0 0 2 2 2 2 2 2 3 3 3 3 3 1 1 1 1 1 1 1 1 1\n",
            " 1 1 1 0 0 0 0 4 2 2 3 3 3 1 1 1 1 1 1 1 1 1 1 1 1 1 1 1 1 1 0 0 0 0]\n",
            "edges\n",
            "[[  0   9]\n",
            " [  1  15]\n",
            " [  2  21]\n",
            " [  2  25]\n",
            " [  3   9]\n",
            " [  3  15]\n",
            " [  3  20]\n",
            " [  4   5]\n",
            " [  4   7]\n",
            " [  4  10]\n",
            " [  5   6]\n",
            " [  5  13]\n",
            " [  6   8]\n",
            " [  6  11]\n",
            " [  7   9]\n",
            " [  7  12]\n",
            " [  7  17]\n",
            " [  8  14]\n",
            " [  8  18]\n",
            " [ 10  15]\n",
            " [ 11  12]\n",
            " [ 13  16]\n",
            " [ 14  16]\n",
            " [ 14  19]\n",
            " [ 18  22]\n",
            " [ 19  21]\n",
            " [ 20  23]\n",
            " [ 21  22]\n",
            " [ 23  24]\n",
            " [ 24  26]\n",
            " [ 27  34]\n",
            " [ 28  35]\n",
            " [ 28  39]\n",
            " [ 29  35]\n",
            " [ 30  31]\n",
            " [ 30  32]\n",
            " [ 31  35]\n",
            " [ 32  33]\n",
            " [ 32  36]\n",
            " [ 33  34]\n",
            " [ 34  37]\n",
            " [ 36  38]\n",
            " [ 37  38]\n",
            " [ 39  40]\n",
            " [ 39  41]\n",
            " [ 54  67]\n",
            " [ 54  73]\n",
            " [ 55  70]\n",
            " [ 56  72]\n",
            " [ 57  62]\n",
            " [ 58  74]\n",
            " [ 59  76]\n",
            " [ 60  65]\n",
            " [ 60  67]\n",
            " [ 60  69]\n",
            " [ 61  65]\n",
            " [ 61  75]\n",
            " [ 62  71]\n",
            " [ 62  75]\n",
            " [ 63  71]\n",
            " [ 64  74]\n",
            " [ 65  66]\n",
            " [ 66  68]\n",
            " [ 66  71]\n",
            " [ 67  70]\n",
            " [ 68  69]\n",
            " [ 68  74]\n",
            " [ 70  72]\n",
            " [ 72  73]\n",
            " [ 73  76]\n",
            " [ 81 103]\n",
            " [ 82  88]\n",
            " [ 83  91]\n",
            " [ 84  86]\n",
            " [ 84  88]\n",
            " [ 84  90]\n",
            " [ 85  89]\n",
            " [ 85  90]\n",
            " [ 86  91]\n",
            " [ 87  88]\n",
            " [ 87  89]\n",
            " [ 87  92]\n",
            " [ 89  93]\n",
            " [ 90  97]\n",
            " [ 91  94]\n",
            " [ 92  95]\n",
            " [ 93  96]\n",
            " [ 94  98]\n",
            " [ 94  99]\n",
            " [ 95  96]\n",
            " [ 98 101]\n",
            " [ 99 102]\n",
            " [100 101]\n",
            " [100 102]\n",
            " [100 103]]\n",
            "node2grah\n",
            "[0 0 0 0 0 0 0 0 0 0 0 0 0 0 0 0 0 0 0 0 0 0 0 0 0 0 0 1 1 1 1 1 1 1 1 1 1\n",
            " 1 1 1 1 1 1 1 1 1 1 1 1 1 1 1 1 1 2 2 2 2 2 2 2 2 2 2 2 2 2 2 2 2 2 2 2 2\n",
            " 2 2 2 2 2 2 2 3 3 3 3 3 3 3 3 3 3 3 3 3 3 3 3 3 3 3 3 3 3 3 3 3 3 3]\n",
            "label [0 0 1 0]\n"
          ]
        }
      ],
      "source": [
        "# showing one batch:\n",
        "for train_batch in gen_batch(training_data, batch_size=4):\n",
        "    for k,v in train_batch[0].items():\n",
        "        print(k)\n",
        "        print(v)\n",
        "        pass\n",
        "    print('label', train_batch[1])\n",
        "    break"
      ]
    },
    {
      "cell_type": "markdown",
      "metadata": {
        "id": "E1I67FY8ueZW"
      },
      "source": [
        "## **Trial_1**\n",
        "\n",
        "---"
      ]
    },
    {
      "cell_type": "markdown",
      "metadata": {
        "id": "WNyYfwjhpqtd"
      },
      "source": [
        "###**GNN**"
      ]
    },
    {
      "cell_type": "markdown",
      "metadata": {
        "id": "K9L3LEO9rrG7"
      },
      "source": [
        "----\n",
        "GNN include human behavior detection, traffic control, molecular structure study, recommender system, program verification, logical reasoning, social influence prediction, and adversarial attack prevention. Below shows a graph that models the relationships of people in a social network\n",
        "\n",
        "----\n",
        "**my plans for this trail**\n",
        "- i will take this trial as a base line to the next trial, i don't really know how the model going to react and the base mininmum for the accuracy an loss.\n",
        "\n",
        "----\n",
        "\n",
        "\n",
        "> \n",
        "\n",
        "**Model Hyperparameters**\n",
        "\n",
        "----\n",
        "----\n",
        "- **GNN.get_default_hyperparameters())**. These hyperparameters configure the exact stack of GNN layers:\n",
        "\n",
        "  - \"num_layers\" sets the number of GNN message passing layers (usually, a number between 2 and 16)\n",
        "\n",
        "  - \"message_calculation_class\" configures the message passing style. This chooses the tf2_gnn.layers.message_passing.* layer used in each step.\n",
        "\n",
        "\n",
        "\n",
        "\n",
        "\n",
        "- node_features= embeded \n",
        "  - the first input contains a vector of the words after we change it by using the function Embadding \n",
        "  >\n",
        "\n",
        "- adjacency_lists=(edge)\n",
        "  - the edges are what conects one nodes , their dimention is an arry of two values .\n",
        ">\n",
        "\n",
        "- node_to_graph_map=node2graph\n",
        "  - shows how max_nodes_len,number of edges on one batch \n",
        ">\n",
        "- num_graphs=num_graph\n",
        "  - number of samples\n",
        "\n",
        "- **Epochs** : indicates the number of passes of the entire training dataset   the machine learning algorithm has completed\n",
        " >\n",
        "- **batch_size**: the number of training examples in one forward/backward pass.\n",
        "\n",
        ">\n",
        "- **hidden_dim** : sets the size of the output of all message passing layers.\n",
        "\n"
      ]
    },
    {
      "cell_type": "code",
      "execution_count": null,
      "metadata": {
        "colab": {
          "base_uri": "https://localhost:8080/"
        },
        "id": "vs-d7LyDf-0x",
        "outputId": "76721b1c-b563-4138-9e6d-1284049bdb21"
      },
      "outputs": [
        {
          "name": "stdout",
          "output_type": "stream",
          "text": [
            "gnn_out KerasTensor(type_spec=TensorSpec(shape=(None, 8), dtype=tf.float32, name=None), name='gnn_1/StatefulPartitionedCall:0', description=\"created by layer 'gnn_1'\")\n",
            "mean: KerasTensor(type_spec=TensorSpec(shape=(None, 8), dtype=tf.float32, name=None), name='tf.math.segment_mean_1/SegmentMean:0', description=\"created by layer 'tf.math.segment_mean_1'\")\n",
            "pred: KerasTensor(type_spec=TensorSpec(shape=(None, 1), dtype=tf.float32, name=None), name='dense_1/Sigmoid:0', description=\"created by layer 'dense_1'\")\n",
            "Model: \"model_1\"\n",
            "__________________________________________________________________________________________________\n",
            " Layer (type)                   Output Shape         Param #     Connected to                     \n",
            "==================================================================================================\n",
            " input_6 (InputLayer)           [(None,)]            0           []                               \n",
            "                                                                                                  \n",
            " input_4 (InputLayer)           [(None,)]            0           []                               \n",
            "                                                                                                  \n",
            " tf.math.reduce_max_1 (TFOpLamb  ()                  0           ['input_6[0][0]']                \n",
            " da)                                                                                              \n",
            "                                                                                                  \n",
            " embedding_1 (Embedding)        (None, 20)           10000       ['input_4[0][0]']                \n",
            "                                                                                                  \n",
            " input_5 (InputLayer)           [(None, 2)]          0           []                               \n",
            "                                                                                                  \n",
            " tf.__operators__.add_1 (TFOpLa  ()                  0           ['tf.math.reduce_max_1[0][0]']   \n",
            " mbda)                                                                                            \n",
            "                                                                                                  \n",
            " gnn_1 (GNN)                    (None, 8)            3120        ['embedding_1[0][0]',            \n",
            "                                                                  'input_5[0][0]',                \n",
            "                                                                  'input_6[0][0]',                \n",
            "                                                                  'tf.__operators__.add_1[0][0]'] \n",
            "                                                                                                  \n",
            " tf.math.segment_mean_1 (TFOpLa  (None, 8)           0           ['gnn_1[0][0]',                  \n",
            " mbda)                                                            'input_6[0][0]']                \n",
            "                                                                                                  \n",
            " dense_1 (Dense)                (None, 1)            9           ['tf.math.segment_mean_1[0][0]'] \n",
            "                                                                                                  \n",
            "==================================================================================================\n",
            "Total params: 13,129\n",
            "Trainable params: 13,129\n",
            "Non-trainable params: 0\n",
            "__________________________________________________________________________________________________\n"
          ]
        }
      ],
      "source": [
        "import tensorflow as tf\n",
        "from tensorflow.math import segment_mean\n",
        "from tensorflow import keras\n",
        "from tensorflow.keras import Input, Model\n",
        "from tensorflow.keras.layers import Embedding, Dense\n",
        "from tensorflow.keras.optimizers import Adam\n",
        "\n",
        "data = keras.Input(batch_shape=(None,))\n",
        "\n",
        "edge = keras.Input(batch_shape=(None, 2), dtype=tf.int32)\n",
        "node2graph = keras.Input(batch_shape=(None,), dtype=tf.int32)\n",
        "embeded = Embedding(tokenizer.num_words, 20)(data)\n",
        "\n",
        "# number of graphs (number of samples)\n",
        "num_graph = tf.reduce_max(node2graph)+1\n",
        "\n",
        "gnn_input = GNNInput(\n",
        "    node_features=embeded,\n",
        "    adjacency_lists=(edge,),\n",
        "    node_to_graph_map=node2graph, \n",
        "    num_graphs=num_graph,\n",
        ")\n",
        "\n",
        "params = GNN.get_default_hyperparameters()\n",
        "params[\"hidden_dim\"] = 8\n",
        "# parameter message calcualation class\n",
        "gnn_layer = GNN(params)\n",
        "gnn_out = gnn_layer(gnn_input)\n",
        "\n",
        "print('gnn_out', gnn_out)\n",
        "\n",
        "avg = segment_mean(\n",
        "    data=gnn_out,\n",
        "    segment_ids=node2graph\n",
        ")\n",
        "print('mean:', avg)\n",
        "\n",
        "pred = Dense(1, activation='sigmoid')(avg)\n",
        "print('pred:', pred)\n",
        "\n",
        "model = Model(\n",
        "    inputs={\n",
        "        'data': data,\n",
        "        'edges': edge,\n",
        "        'node2grah': node2graph,\n",
        "    },\n",
        "    outputs=pred\n",
        ")\n",
        "model.summary()"
      ]
    },
    {
      "cell_type": "code",
      "execution_count": null,
      "metadata": {
        "id": "QgKnufFhj4qH"
      },
      "outputs": [],
      "source": [
        "#compile the model\n",
        "model.compile(\n",
        "    loss='BinaryCrossentropy',\n",
        "    metrics=['AUC']\n",
        ")"
      ]
    },
    {
      "cell_type": "code",
      "execution_count": null,
      "metadata": {
        "colab": {
          "base_uri": "https://localhost:8080/"
        },
        "id": "gRnGWtNdj4s2",
        "outputId": "cc6d19d0-7d1b-4360-ccee-4851eeb2f164"
      },
      "outputs": [
        {
          "name": "stdout",
          "output_type": "stream",
          "text": [
            "Epoch 1/30\n"
          ]
        },
        {
          "name": "stderr",
          "output_type": "stream",
          "text": [
            "/usr/local/lib/python3.7/dist-packages/tensorflow/python/framework/indexed_slices.py:446: UserWarning: Converting sparse IndexedSlices(IndexedSlices(indices=Tensor(\"gradients/cond_3_grad/Identity_1:0\", shape=(None,), dtype=int32), values=Tensor(\"gradients/cond_3_grad/Identity:0\", shape=(None, 8), dtype=float32), dense_shape=Tensor(\"gradients/cond_3_grad/Identity_2:0\", shape=(2,), dtype=int32))) to a dense Tensor of unknown shape. This may consume a large amount of memory.\n",
            "  \"shape. This may consume a large amount of memory.\" % value)\n",
            "/usr/local/lib/python3.7/dist-packages/tensorflow/python/framework/indexed_slices.py:446: UserWarning: Converting sparse IndexedSlices(IndexedSlices(indices=Tensor(\"gradients/rgcn_2/embedding_lookup_grad/Reshape_1:0\", shape=(None,), dtype=int32), values=Tensor(\"gradients/rgcn_2/embedding_lookup_grad/Reshape:0\", shape=(None, 8), dtype=float32), dense_shape=Tensor(\"gradients/rgcn_2/embedding_lookup_grad/Cast:0\", shape=(2,), dtype=int32))) to a dense Tensor of unknown shape. This may consume a large amount of memory.\n",
            "  \"shape. This may consume a large amount of memory.\" % value)\n",
            "/usr/local/lib/python3.7/dist-packages/tensorflow/python/framework/indexed_slices.py:446: UserWarning: Converting sparse IndexedSlices(IndexedSlices(indices=Tensor(\"gradients/cond_1_grad/Identity_1:0\", shape=(None,), dtype=int32), values=Tensor(\"gradients/cond_1_grad/Identity:0\", shape=(None, 8), dtype=float32), dense_shape=Tensor(\"gradients/cond_1_grad/Identity_2:0\", shape=(2,), dtype=int32))) to a dense Tensor of unknown shape. This may consume a large amount of memory.\n",
            "  \"shape. This may consume a large amount of memory.\" % value)\n",
            "/usr/local/lib/python3.7/dist-packages/tensorflow/python/framework/indexed_slices.py:446: UserWarning: Converting sparse IndexedSlices(IndexedSlices(indices=Tensor(\"gradients/rgcn/embedding_lookup_grad/Reshape_1:0\", shape=(None,), dtype=int32), values=Tensor(\"gradients/rgcn/embedding_lookup_grad/Reshape:0\", shape=(None, 8), dtype=float32), dense_shape=Tensor(\"gradients/rgcn/embedding_lookup_grad/Cast:0\", shape=(2,), dtype=int32))) to a dense Tensor of unknown shape. This may consume a large amount of memory.\n",
            "  \"shape. This may consume a large amount of memory.\" % value)\n"
          ]
        },
        {
          "name": "stdout",
          "output_type": "stream",
          "text": [
            "665/665 [==============================] - 17s 21ms/step - loss: 0.3296 - auc: 0.4099 - val_loss: 0.2512 - val_auc: 0.3682\n",
            "Epoch 2/30\n",
            "665/665 [==============================] - 13s 19ms/step - loss: 0.2454 - auc: 0.3619 - val_loss: 0.2361 - val_auc: 0.3841\n",
            "Epoch 3/30\n",
            "665/665 [==============================] - 13s 19ms/step - loss: 0.2321 - auc: 0.3750 - val_loss: 0.2256 - val_auc: 0.3883\n",
            "Epoch 4/30\n",
            "665/665 [==============================] - 13s 20ms/step - loss: 0.2195 - auc: 0.3777 - val_loss: 0.2084 - val_auc: 0.3961\n",
            "Epoch 5/30\n",
            "665/665 [==============================] - 14s 21ms/step - loss: 0.2054 - auc: 0.4246 - val_loss: 0.1988 - val_auc: 0.5251\n",
            "Epoch 6/30\n",
            "665/665 [==============================] - 13s 19ms/step - loss: 0.1952 - auc: 0.5587 - val_loss: 0.1918 - val_auc: 0.5857\n",
            "Epoch 7/30\n",
            "665/665 [==============================] - 14s 22ms/step - loss: 0.1927 - auc: 0.5831 - val_loss: 0.1968 - val_auc: 0.6337\n",
            "Epoch 8/30\n",
            "665/665 [==============================] - 13s 20ms/step - loss: 0.1906 - auc: 0.6018 - val_loss: 0.1848 - val_auc: 0.5866\n",
            "Epoch 9/30\n",
            "665/665 [==============================] - 14s 21ms/step - loss: 0.1898 - auc: 0.6167 - val_loss: 0.1885 - val_auc: 0.6622\n",
            "Epoch 10/30\n",
            "665/665 [==============================] - 13s 20ms/step - loss: 0.1901 - auc: 0.6105 - val_loss: 0.1863 - val_auc: 0.6623\n",
            "Epoch 11/30\n",
            "665/665 [==============================] - 13s 19ms/step - loss: 0.1896 - auc: 0.6153 - val_loss: 0.1938 - val_auc: 0.6559\n",
            "Epoch 12/30\n",
            "665/665 [==============================] - 13s 20ms/step - loss: 0.1882 - auc: 0.6308 - val_loss: 0.1901 - val_auc: 0.6523\n",
            "Epoch 13/30\n",
            "665/665 [==============================] - 13s 20ms/step - loss: 0.1870 - auc: 0.6440 - val_loss: 0.1803 - val_auc: 0.6665\n",
            "Epoch 14/30\n",
            "665/665 [==============================] - 13s 20ms/step - loss: 0.1872 - auc: 0.6416 - val_loss: 0.1846 - val_auc: 0.6886\n",
            "Epoch 15/30\n",
            "665/665 [==============================] - 13s 20ms/step - loss: 0.1865 - auc: 0.6430 - val_loss: 0.1859 - val_auc: 0.6883\n",
            "Epoch 16/30\n",
            "665/665 [==============================] - 13s 20ms/step - loss: 0.1852 - auc: 0.6495 - val_loss: 0.1810 - val_auc: 0.6586\n",
            "Epoch 17/30\n",
            "665/665 [==============================] - 14s 21ms/step - loss: 0.1841 - auc: 0.6614 - val_loss: 0.1886 - val_auc: 0.6834\n",
            "Epoch 18/30\n",
            "665/665 [==============================] - 13s 20ms/step - loss: 0.1831 - auc: 0.6619 - val_loss: 0.1805 - val_auc: 0.6765\n",
            "Epoch 19/30\n",
            "665/665 [==============================] - 13s 20ms/step - loss: 0.1826 - auc: 0.6719 - val_loss: 0.1863 - val_auc: 0.6969\n",
            "Epoch 20/30\n",
            "665/665 [==============================] - 13s 20ms/step - loss: 0.1825 - auc: 0.6727 - val_loss: 0.1775 - val_auc: 0.6717\n",
            "Epoch 21/30\n",
            "665/665 [==============================] - 13s 19ms/step - loss: 0.1833 - auc: 0.6634 - val_loss: 0.1877 - val_auc: 0.6773\n",
            "Epoch 22/30\n",
            "665/665 [==============================] - 13s 19ms/step - loss: 0.1823 - auc: 0.6725 - val_loss: 0.1785 - val_auc: 0.7065\n",
            "Epoch 23/30\n",
            "665/665 [==============================] - 13s 20ms/step - loss: 0.1824 - auc: 0.6714 - val_loss: 0.1825 - val_auc: 0.6916\n",
            "Epoch 24/30\n",
            "665/665 [==============================] - 13s 20ms/step - loss: 0.1824 - auc: 0.6685 - val_loss: 0.1744 - val_auc: 0.6873\n",
            "Epoch 25/30\n",
            "665/665 [==============================] - 13s 20ms/step - loss: 0.1814 - auc: 0.6796 - val_loss: 0.1953 - val_auc: 0.6961\n",
            "Epoch 26/30\n",
            "665/665 [==============================] - 13s 20ms/step - loss: 0.1806 - auc: 0.6773 - val_loss: 0.1712 - val_auc: 0.7121\n",
            "Epoch 27/30\n",
            "665/665 [==============================] - 13s 20ms/step - loss: 0.1817 - auc: 0.6734 - val_loss: 0.1826 - val_auc: 0.6898\n",
            "Epoch 28/30\n",
            "665/665 [==============================] - 13s 20ms/step - loss: 0.1814 - auc: 0.6801 - val_loss: 0.1798 - val_auc: 0.6869\n",
            "Epoch 29/30\n",
            "665/665 [==============================] - 13s 20ms/step - loss: 0.1814 - auc: 0.6809 - val_loss: 0.1781 - val_auc: 0.7013\n",
            "Epoch 30/30\n",
            "665/665 [==============================] - 13s 20ms/step - loss: 0.1801 - auc: 0.6904 - val_loss: 0.1811 - val_auc: 0.6629\n"
          ]
        }
      ],
      "source": [
        "#fit the mdel\n",
        "import math\n",
        "\n",
        "batch_size = 32\n",
        "num_batchs = math.ceil(len(training_data) / batch_size)\n",
        "num_batchs_validation = math.ceil(len(validation_set) / batch_size)\n",
        "\n",
        "history = model.fit(\n",
        "    gen_batch(\n",
        "        training_data, batch_size=batch_size, repeat=True\n",
        "    ),\n",
        "    steps_per_epoch=num_batchs,\n",
        "    epochs=30,\n",
        "    validation_data=gen_batch(\n",
        "        validation_set, batch_size=32, repeat=True\n",
        "    ),\n",
        "    validation_steps=num_batchs_validation,\n",
        ")"
      ]
    },
    {
      "cell_type": "code",
      "execution_count": null,
      "metadata": {
        "colab": {
          "base_uri": "https://localhost:8080/",
          "height": 541
        },
        "id": "M0rQI_ecFcSw",
        "outputId": "4423e1b4-2e79-45fc-c1f0-b032d08f7957"
      },
      "outputs": [
        {
          "data": {
            "image/png": "[encoded data removed]",
            "text/plain": [
              "<Figure size 432x288 with 1 Axes>"
            ]
          },
          "metadata": {},
          "output_type": "display_data"
        },
        {
          "data": {
            "image/png": "[encoded data removed]",
            "text/plain": [
              "<Figure size 432x288 with 1 Axes>"
            ]
          },
          "metadata": {},
          "output_type": "display_data"
        }
      ],
      "source": [
        "#showing the loss and val_los from the training data\n",
        "plot_graphs(history, \"loss\")\n",
        "#showing accuracy and val_accuracy from the training data \n",
        "plot_graphs(history, \"auc\")"
      ]
    },
    {
      "cell_type": "code",
      "execution_count": null,
      "metadata": {
        "id": "Uve7IFKZkFL_"
      },
      "outputs": [],
      "source": [
        "y_pred = model.predict(\n",
        "    gen_batch(test_data, batch_size=16, shuffle=False)\n",
        ")\n",
        "y_pred = np.reshape(y_pred, -1)"
      ]
    },
    {
      "cell_type": "code",
      "execution_count": null,
      "metadata": {
        "colab": {
          "base_uri": "https://localhost:8080/"
        },
        "id": "8dku-ZdEkFs4",
        "outputId": "6ca22193-786e-4aad-b452-d767eff3818d"
      },
      "outputs": [
        {
          "data": {
            "text/plain": [
              "12326"
            ]
          },
          "execution_count": 22,
          "metadata": {},
          "output_type": "execute_result"
        }
      ],
      "source": [
        "len(y_pred)"
      ]
    },
    {
      "cell_type": "code",
      "execution_count": null,
      "metadata": {
        "id": "D2vw2_sCkFwA"
      },
      "outputs": [],
      "source": [
        "import pandas as pd \n",
        "submission = pd.DataFrame({'label':y_pred})\n",
        "submission.index.name = 'id'\n",
        "submission.to_csv('/content/drive/MyDrive/DM_assignment_6/output.csv')"
      ]
    },
    {
      "cell_type": "markdown",
      "source": [
        "----\n",
        "- **Ater performing the model we ralize that the model perform well there is no overfitting or underfitting.** \n",
        "\n",
        "----"
      ],
      "metadata": {
        "id": "z8yv6ar__Ddm"
      }
    },
    {
      "cell_type": "markdown",
      "metadata": {
        "id": "c7S57dUZu0Da"
      },
      "source": [
        "## **Trial_2**\n",
        "\n",
        "----"
      ]
    },
    {
      "cell_type": "markdown",
      "metadata": {
        "id": "YxyOumy9Ef3o"
      },
      "source": [
        "### **GGNN**"
      ]
    },
    {
      "cell_type": "markdown",
      "metadata": {
        "id": "ciCmQnj40yAG"
      },
      "source": [
        "e Gated Graph Neural Networks (GG-NNs), our adaptation of GNNs that is suitable\n",
        "for non-sequential outputs. We will describe sequential outputs in the next section. The biggest modification of GNNs is that we use Gated Recurrent Units.\n",
        "\n",
        "-----\n",
        "**My plas for this trail**:\n",
        ">\n",
        "From the previous trial we realize that the model perform well based on the accuracy and the loss. so in this trial im planning to use GGNN which is an adaptation of GNNs so i predect the model will give a higher accuracy and improvment in the accuracy overall.\n",
        "\n",
        "----\n",
        "\n",
        "**Model Hyperparameters**\n",
        "\n",
        "----\n",
        "----\n",
        "\\\n",
        "- **GNN.get_default_hyperparameters())**. These hyperparameters configure the exact stack of GNN layers:\n",
        "\n",
        "  - \"num_layers\" sets the number of GNN message passing layers (usually, a number between 2 and 16)\n",
        "\n",
        "  - \"message_calculation_class\" configures the message passing style. This chooses the tf2_gnn.layers.message_passing.* layer used in each step.\n",
        "\n",
        "- **params[\"num_aggr_MLP_HIDDEN_LAYERS\"]** : this is a new hyperparameter used witht thie layer\n",
        "\n",
        "- **params['message_calculation_class']= 'GGNN'** : to chose the new methon.\n",
        "\n",
        "- **params['num_heads']=4** : to choose the number of heads \n",
        "\n",
        "\\\n",
        "___\n",
        "\n",
        "- node_features= embeded \n",
        "  - the first input contains a vector of the words after we change it by using the function Embadding \n",
        "  >\n",
        "\n",
        "- adjacency_lists=(edge)\n",
        "  - the edges are what conects one nodes , their dimention is an arry of two values .\n",
        ">\n",
        "\n",
        "- node_to_graph_map=node2graph\n",
        "  - shows how max_nodes_len,number of edges on one batch \n",
        ">\n",
        "- num_graphs=num_graph\n",
        "  - number of samples\n",
        "\n",
        "- **Epochs** : indicates the number of passes of the entire training dataset   the machine learning algorithm has completed\n",
        " >\n",
        "- **batch_size**: the number of training examples in one forward/backward pass.\n",
        "\n",
        ">\n",
        "- **hidden_dim** : sets the size of the output of all message passing layers.\n",
        "\n",
        "-----"
      ]
    },
    {
      "cell_type": "code",
      "execution_count": null,
      "metadata": {
        "colab": {
          "base_uri": "https://localhost:8080/"
        },
        "id": "sl11tjnAEf3q",
        "outputId": "11e0da9d-09c9-4ccd-b881-5ee7ed5c825a"
      },
      "outputs": [
        {
          "name": "stdout",
          "output_type": "stream",
          "text": [
            "gnn_out KerasTensor(type_spec=TensorSpec(shape=(None, 64), dtype=tf.float32, name=None), name='gnn_2/StatefulPartitionedCall:0', description=\"created by layer 'gnn_2'\")\n",
            "mean: KerasTensor(type_spec=TensorSpec(shape=(None, 64), dtype=tf.float32, name=None), name='tf.math.segment_mean_2/SegmentMean:0', description=\"created by layer 'tf.math.segment_mean_2'\")\n",
            "pred: KerasTensor(type_spec=TensorSpec(shape=(None, 1), dtype=tf.float32, name=None), name='dense_2/Sigmoid:0', description=\"created by layer 'dense_2'\")\n",
            "Model: \"model_2\"\n",
            "__________________________________________________________________________________________________\n",
            " Layer (type)                   Output Shape         Param #     Connected to                     \n",
            "==================================================================================================\n",
            " input_9 (InputLayer)           [(None,)]            0           []                               \n",
            "                                                                                                  \n",
            " input_7 (InputLayer)           [(None,)]            0           []                               \n",
            "                                                                                                  \n",
            " tf.math.reduce_max_2 (TFOpLamb  ()                  0           ['input_9[0][0]']                \n",
            " da)                                                                                              \n",
            "                                                                                                  \n",
            " embedding_2 (Embedding)        (None, 20)           10000       ['input_7[0][0]']                \n",
            "                                                                                                  \n",
            " input_8 (InputLayer)           [(None, 2)]          0           []                               \n",
            "                                                                                                  \n",
            " tf.__operators__.add_2 (TFOpLa  ()                  0           ['tf.math.reduce_max_2[0][0]']   \n",
            " mbda)                                                                                            \n",
            "                                                                                                  \n",
            " gnn_2 (GNN)                    (None, 64)           171392      ['embedding_2[0][0]',            \n",
            "                                                                  'input_8[0][0]',                \n",
            "                                                                  'input_9[0][0]',                \n",
            "                                                                  'tf.__operators__.add_2[0][0]'] \n",
            "                                                                                                  \n",
            " tf.math.segment_mean_2 (TFOpLa  (None, 64)          0           ['gnn_2[0][0]',                  \n",
            " mbda)                                                            'input_9[0][0]']                \n",
            "                                                                                                  \n",
            " dense_2 (Dense)                (None, 1)            65          ['tf.math.segment_mean_2[0][0]'] \n",
            "                                                                                                  \n",
            "==================================================================================================\n",
            "Total params: 181,457\n",
            "Trainable params: 181,457\n",
            "Non-trainable params: 0\n",
            "__________________________________________________________________________________________________\n"
          ]
        }
      ],
      "source": [
        "import tensorflow as tf\n",
        "from tensorflow.math import segment_mean\n",
        "from tensorflow import keras\n",
        "from tensorflow.keras import Input, Model\n",
        "from tensorflow.keras.layers import Embedding, Dense\n",
        "from tensorflow.keras.optimizers import Adam\n",
        "\n",
        "data = keras.Input(batch_shape=(None,))\n",
        "\n",
        "\n",
        "edge = keras.Input(batch_shape=(None, 2), dtype=tf.int32)\n",
        "node2graph = keras.Input(batch_shape=(None,), dtype=tf.int32)\n",
        "embeded = Embedding(tokenizer.num_words, 20)(data)\n",
        "\n",
        "# number of graphs (number of samples)\n",
        "num_graph = tf.reduce_max(node2graph)+1\n",
        "\n",
        "gnn_input = GNNInput(\n",
        "    node_features=embeded,\n",
        "    adjacency_lists=(edge,),\n",
        "    node_to_graph_map=node2graph, \n",
        "    num_graphs=num_graph,\n",
        ")\n",
        "\n",
        "\n",
        "params = GNN.get_default_hyperparameters()\n",
        "params[\"hidden_dim\"] = 64\n",
        "params[\"num_aggr_MLP_HIDDEN_LAYERS\"] = 32\n",
        "params['message_calculation_class']= 'GGNN'\n",
        "params['num_heads']= 4\n",
        "gnn_layer = GNN(params)\n",
        "\n",
        "gnn_out = gnn_layer(gnn_input)\n",
        "\n",
        "print('gnn_out', gnn_out)\n",
        "\n",
        "\n",
        "avg = segment_mean(\n",
        "    data=gnn_out,\n",
        "    segment_ids=node2graph\n",
        ")\n",
        "print('mean:', avg)\n",
        "\n",
        "pred = Dense(1, activation='sigmoid')(avg)\n",
        "print('pred:', pred)\n",
        "\n",
        "model = Model(\n",
        "    inputs={\n",
        "        'data': data,\n",
        "        'edges': edge,\n",
        "        'node2grah': node2graph,\n",
        "    },\n",
        "    outputs=pred\n",
        ")\n",
        "model.summary()"
      ]
    },
    {
      "cell_type": "code",
      "execution_count": null,
      "metadata": {
        "id": "d1IDNjhYEf3t"
      },
      "outputs": [],
      "source": [
        "#compile the model\n",
        "model.compile(\n",
        "    loss='BinaryCrossentropy',\n",
        "    metrics=['AUC']\n",
        ")"
      ]
    },
    {
      "cell_type": "code",
      "execution_count": null,
      "metadata": {
        "colab": {
          "base_uri": "https://localhost:8080/"
        },
        "id": "JSocHtUfEf3t",
        "outputId": "76d1af38-7594-44cd-c832-1227a03368b7"
      },
      "outputs": [
        {
          "name": "stdout",
          "output_type": "stream",
          "text": [
            "Epoch 1/30\n"
          ]
        },
        {
          "name": "stderr",
          "output_type": "stream",
          "text": [
            "/usr/local/lib/python3.7/dist-packages/tensorflow/python/framework/indexed_slices.py:446: UserWarning: Converting sparse IndexedSlices(IndexedSlices(indices=Tensor(\"gradients/ggnn_3/embedding_lookup_grad/Reshape_1:0\", shape=(None,), dtype=int32), values=Tensor(\"gradients/ggnn_3/embedding_lookup_grad/Reshape:0\", shape=(None, 64), dtype=float32), dense_shape=Tensor(\"gradients/ggnn_3/embedding_lookup_grad/Cast:0\", shape=(2,), dtype=int32))) to a dense Tensor of unknown shape. This may consume a large amount of memory.\n",
            "  \"shape. This may consume a large amount of memory.\" % value)\n",
            "/usr/local/lib/python3.7/dist-packages/tensorflow/python/framework/indexed_slices.py:446: UserWarning: Converting sparse IndexedSlices(IndexedSlices(indices=Tensor(\"gradients/ggnn_2/embedding_lookup_grad/Reshape_1:0\", shape=(None,), dtype=int32), values=Tensor(\"gradients/ggnn_2/embedding_lookup_grad/Reshape:0\", shape=(None, 64), dtype=float32), dense_shape=Tensor(\"gradients/ggnn_2/embedding_lookup_grad/Cast:0\", shape=(2,), dtype=int32))) to a dense Tensor of unknown shape. This may consume a large amount of memory.\n",
            "  \"shape. This may consume a large amount of memory.\" % value)\n",
            "/usr/local/lib/python3.7/dist-packages/tensorflow/python/framework/indexed_slices.py:446: UserWarning: Converting sparse IndexedSlices(IndexedSlices(indices=Tensor(\"gradients/ggnn_1/embedding_lookup_grad/Reshape_1:0\", shape=(None,), dtype=int32), values=Tensor(\"gradients/ggnn_1/embedding_lookup_grad/Reshape:0\", shape=(None, 64), dtype=float32), dense_shape=Tensor(\"gradients/ggnn_1/embedding_lookup_grad/Cast:0\", shape=(2,), dtype=int32))) to a dense Tensor of unknown shape. This may consume a large amount of memory.\n",
            "  \"shape. This may consume a large amount of memory.\" % value)\n",
            "/usr/local/lib/python3.7/dist-packages/tensorflow/python/framework/indexed_slices.py:446: UserWarning: Converting sparse IndexedSlices(IndexedSlices(indices=Tensor(\"gradients/ggnn/embedding_lookup_grad/Reshape_1:0\", shape=(None,), dtype=int32), values=Tensor(\"gradients/ggnn/embedding_lookup_grad/Reshape:0\", shape=(None, 64), dtype=float32), dense_shape=Tensor(\"gradients/ggnn/embedding_lookup_grad/Cast:0\", shape=(2,), dtype=int32))) to a dense Tensor of unknown shape. This may consume a large amount of memory.\n",
            "  \"shape. This may consume a large amount of memory.\" % value)\n"
          ]
        },
        {
          "name": "stdout",
          "output_type": "stream",
          "text": [
            "426/426 [==============================] - 19s 36ms/step - loss: 0.1975 - auc: 0.5955 - val_loss: 0.1869 - val_auc: 0.6582\n",
            "Epoch 2/30\n",
            "426/426 [==============================] - 14s 33ms/step - loss: 0.1870 - auc: 0.6417 - val_loss: 0.1863 - val_auc: 0.6721\n",
            "Epoch 3/30\n",
            "426/426 [==============================] - 14s 32ms/step - loss: 0.1848 - auc: 0.6613 - val_loss: 0.1928 - val_auc: 0.6411\n",
            "Epoch 4/30\n",
            "426/426 [==============================] - 14s 32ms/step - loss: 0.1844 - auc: 0.6651 - val_loss: 0.1895 - val_auc: 0.6601\n",
            "Epoch 5/30\n",
            "426/426 [==============================] - 14s 32ms/step - loss: 0.1789 - auc: 0.7051 - val_loss: 0.1710 - val_auc: 0.7185\n",
            "Epoch 6/30\n",
            "426/426 [==============================] - 14s 33ms/step - loss: 0.1741 - auc: 0.7300 - val_loss: 0.1841 - val_auc: 0.7044\n",
            "Epoch 7/30\n",
            "426/426 [==============================] - 14s 33ms/step - loss: 0.1711 - auc: 0.7456 - val_loss: 0.1664 - val_auc: 0.7388\n",
            "Epoch 8/30\n",
            "426/426 [==============================] - 14s 33ms/step - loss: 0.1707 - auc: 0.7447 - val_loss: 0.1739 - val_auc: 0.6999\n",
            "Epoch 9/30\n",
            "426/426 [==============================] - 14s 32ms/step - loss: 0.1701 - auc: 0.7507 - val_loss: 0.1777 - val_auc: 0.7263\n",
            "Epoch 10/30\n",
            "426/426 [==============================] - 14s 33ms/step - loss: 0.1680 - auc: 0.7504 - val_loss: 0.1676 - val_auc: 0.7623\n",
            "Epoch 11/30\n",
            "426/426 [==============================] - 14s 33ms/step - loss: 0.1670 - auc: 0.7556 - val_loss: 0.1711 - val_auc: 0.7456\n",
            "Epoch 12/30\n",
            "426/426 [==============================] - 14s 33ms/step - loss: 0.1668 - auc: 0.7533 - val_loss: 0.1723 - val_auc: 0.7780\n",
            "Epoch 13/30\n",
            "426/426 [==============================] - 14s 33ms/step - loss: 0.1657 - auc: 0.7611 - val_loss: 0.1559 - val_auc: 0.7704\n",
            "Epoch 14/30\n",
            "426/426 [==============================] - 14s 33ms/step - loss: 0.1644 - auc: 0.7664 - val_loss: 0.1709 - val_auc: 0.7615\n",
            "Epoch 15/30\n",
            "426/426 [==============================] - 14s 33ms/step - loss: 0.1647 - auc: 0.7651 - val_loss: 0.1589 - val_auc: 0.8043\n",
            "Epoch 16/30\n",
            "426/426 [==============================] - 14s 33ms/step - loss: 0.1637 - auc: 0.7686 - val_loss: 0.1723 - val_auc: 0.7514\n",
            "Epoch 17/30\n",
            "426/426 [==============================] - 14s 33ms/step - loss: 0.1616 - auc: 0.7815 - val_loss: 0.1527 - val_auc: 0.8168\n",
            "Epoch 18/30\n",
            "426/426 [==============================] - 14s 33ms/step - loss: 0.1630 - auc: 0.7751 - val_loss: 0.1653 - val_auc: 0.7926\n",
            "Epoch 19/30\n",
            "426/426 [==============================] - 14s 33ms/step - loss: 0.1620 - auc: 0.7733 - val_loss: 0.1623 - val_auc: 0.7947\n",
            "Epoch 20/30\n",
            "426/426 [==============================] - 14s 33ms/step - loss: 0.1603 - auc: 0.7858 - val_loss: 0.1508 - val_auc: 0.7945\n",
            "Epoch 21/30\n",
            "426/426 [==============================] - 14s 33ms/step - loss: 0.1605 - auc: 0.7794 - val_loss: 0.1730 - val_auc: 0.7816\n",
            "Epoch 22/30\n",
            "426/426 [==============================] - 14s 33ms/step - loss: 0.1580 - auc: 0.7956 - val_loss: 0.1618 - val_auc: 0.7907\n",
            "Epoch 23/30\n",
            "426/426 [==============================] - 14s 33ms/step - loss: 0.1583 - auc: 0.7953 - val_loss: 0.1582 - val_auc: 0.7971\n",
            "Epoch 24/30\n",
            "426/426 [==============================] - 14s 33ms/step - loss: 0.1571 - auc: 0.7937 - val_loss: 0.1657 - val_auc: 0.7793\n",
            "Epoch 25/30\n",
            "426/426 [==============================] - 14s 32ms/step - loss: 0.1567 - auc: 0.7930 - val_loss: 0.1507 - val_auc: 0.8328\n",
            "Epoch 26/30\n",
            "426/426 [==============================] - 14s 33ms/step - loss: 0.1548 - auc: 0.7969 - val_loss: 0.1716 - val_auc: 0.7656\n",
            "Epoch 27/30\n",
            "426/426 [==============================] - 14s 33ms/step - loss: 0.1569 - auc: 0.7943 - val_loss: 0.1526 - val_auc: 0.8485\n",
            "Epoch 28/30\n",
            "426/426 [==============================] - 14s 33ms/step - loss: 0.1564 - auc: 0.7920 - val_loss: 0.1598 - val_auc: 0.7959\n",
            "Epoch 29/30\n",
            "426/426 [==============================] - 14s 33ms/step - loss: 0.1542 - auc: 0.8034 - val_loss: 0.1592 - val_auc: 0.7979\n",
            "Epoch 30/30\n",
            "426/426 [==============================] - 14s 33ms/step - loss: 0.1537 - auc: 0.7998 - val_loss: 0.1591 - val_auc: 0.8165\n"
          ]
        }
      ],
      "source": [
        "#fit the model\n",
        "import math\n",
        "\n",
        "batch_size = 50\n",
        "num_batchs = math.ceil(len(training_data) / batch_size)\n",
        "num_batchs_validation = math.ceil(len(validation_set) / batch_size)\n",
        "\n",
        "history = model.fit(\n",
        "    gen_batch(\n",
        "        training_data, batch_size=batch_size, repeat=True\n",
        "    ),\n",
        "    steps_per_epoch=num_batchs,\n",
        "    epochs=30,\n",
        "    validation_data=gen_batch(\n",
        "        validation_set, batch_size=50, repeat=True\n",
        "    ),\n",
        "    validation_steps=num_batchs_validation,\n",
        ")"
      ]
    },
    {
      "cell_type": "code",
      "execution_count": null,
      "metadata": {
        "colab": {
          "base_uri": "https://localhost:8080/",
          "height": 541
        },
        "id": "Z9xJSkfOMXNL",
        "outputId": "408e0de8-003b-499c-fe2d-5894045e2bd1"
      },
      "outputs": [
        {
          "data": {
            "image/png": "[encoded data removed]",
            "text/plain": [
              "<Figure size 432x288 with 1 Axes>"
            ]
          },
          "metadata": {},
          "output_type": "display_data"
        },
        {
          "data": {
            "image/png": "[encoded data removed]",
            "text/plain": [
              "<Figure size 432x288 with 1 Axes>"
            ]
          },
          "metadata": {},
          "output_type": "display_data"
        }
      ],
      "source": [
        "#showing the loss and val_los from the training data\n",
        "plot_graphs(history, \"loss\")\n",
        "#showing accuracy and val_accuracy from the training data \n",
        "plot_graphs(history, \"auc\")"
      ]
    },
    {
      "cell_type": "code",
      "execution_count": null,
      "metadata": {
        "id": "5Cn4cIKsEf3v"
      },
      "outputs": [],
      "source": [
        "y_pred = model.predict(\n",
        "    gen_batch(test_data, batch_size=16, shuffle=False)\n",
        ")\n",
        "y_pred = np.reshape(y_pred, -1)"
      ]
    },
    {
      "cell_type": "code",
      "execution_count": null,
      "metadata": {
        "id": "VKZHDC3qEf3v"
      },
      "outputs": [],
      "source": [
        "import pandas as pd \n",
        "submission = pd.DataFrame({'label':y_pred})\n",
        "submission.index.name = 'id'\n",
        "submission.to_csv('/content/drive/MyDrive/DM_assignment_6/output.csv')"
      ]
    },
    {
      "cell_type": "markdown",
      "source": [
        "----\n",
        "- **Ater performing the model we ralize that the model perform vert well comparing to the previous trial and this is expected, there is no overfitting or underfitting.** \n",
        "\n",
        "----"
      ],
      "metadata": {
        "id": "ZDB4E5uxBypM"
      }
    },
    {
      "cell_type": "markdown",
      "metadata": {
        "id": "-3Obd3wFu6Uv"
      },
      "source": [
        "## **Trial_3**\n",
        "\n",
        "----"
      ]
    },
    {
      "cell_type": "markdown",
      "metadata": {
        "id": "NQXddVZm1pjk"
      },
      "source": [
        "### **RGCN**"
      ]
    },
    {
      "cell_type": "markdown",
      "metadata": {
        "id": "GlJ8jWE41s10"
      },
      "source": [
        "Graph Convolutional Networks (GCNs), a powerful type of neural network designed to work directly on graphs and leverage their structural information."
      ]
    },
    {
      "cell_type": "markdown",
      "metadata": {
        "id": "gN9oJGQ014VT"
      },
      "source": [
        "GCNs are a very powerful neural network architecture for machine learning on graphs. In fact, they are so powerful that even a randomly initiated 2-layer GCN can produce useful feature representations of nodes in networks. The figure below illustrates a 2-dimensional representation of each node in a network produced by such a GCN. Notice that the relative nearness of nodes in the network is preserved in the 2-dimensional representation even without any training.\n",
        "\n",
        "-----\n",
        "**My plas for this trail**:\n",
        ">\n",
        "From the previous trial we realize that the model perform well based on the accuracy and the loss. so in this trial im planning to use RGCN As a message calculation class.\n",
        "\n",
        "----\n",
        "\n",
        "**Model Hyperparameters**\n",
        "\n",
        "----\n",
        "----\n",
        "\\\n",
        "- **GNN.get_default_hyperparameters())**. These hyperparameters configure the exact stack of GNN layers:\n",
        "\n",
        "  - \"num_layers\" sets the number of GNN message passing layers (usually, a number between 2 and 16)\n",
        "\n",
        "  - \"message_calculation_class\" configures the message passing style. This chooses the tf2_gnn.layers.message_passing.* layer used in each step.\n",
        "\n",
        "- **params[\"num_aggr_MLP_HIDDEN_LAYERS\"]=32** : this is a new hyperparameter used witht thie layer\n",
        "\n",
        "- **params['message_calculation_class']= 'RGCN'** : to chose the new methon.\n",
        "\n",
        "\n",
        "\n",
        "\\\n",
        "___\n",
        "\n",
        "- node_features= embeded \n",
        "  - the first input contains a vector of the words after we change it by using the function Embadding \n",
        "  >\n",
        "\n",
        "- adjacency_lists=(edge)\n",
        "  - the edges are what conects one nodes , their dimention is an arry of two values .\n",
        ">\n",
        "\n",
        "- node_to_graph_map=node2graph\n",
        "  - shows how max_nodes_len,number of edges on one batch \n",
        ">\n",
        "- num_graphs=num_graph\n",
        "  - number of samples\n",
        "\n",
        "- **Epochs** : indicates the number of passes of the entire training dataset   the machine learning algorithm has completed\n",
        " >\n",
        "- **batch_size**: the number of training examples in one forward/backward pass.\n",
        "\n",
        ">\n",
        "- **hidden_dim**= 64 : sets the size of the output of all message passing layers.\n",
        "\n",
        "-----"
      ]
    },
    {
      "cell_type": "code",
      "execution_count": null,
      "metadata": {
        "colab": {
          "base_uri": "https://localhost:8080/"
        },
        "id": "jHt4w7q4qOhf",
        "outputId": "48921238-fb7e-472f-8f32-73e9e165d795"
      },
      "outputs": [
        {
          "name": "stdout",
          "output_type": "stream",
          "text": [
            "gnn_out KerasTensor(type_spec=TensorSpec(shape=(None, 64), dtype=tf.float32, name=None), name='gnn_3/StatefulPartitionedCall:0', description=\"created by layer 'gnn_3'\")\n",
            "mean: KerasTensor(type_spec=TensorSpec(shape=(None, 64), dtype=tf.float32, name=None), name='tf.math.segment_mean_3/SegmentMean:0', description=\"created by layer 'tf.math.segment_mean_3'\")\n",
            "pred: KerasTensor(type_spec=TensorSpec(shape=(None, 1), dtype=tf.float32, name=None), name='dense_3/Sigmoid:0', description=\"created by layer 'dense_3'\")\n",
            "Model: \"model_3\"\n",
            "__________________________________________________________________________________________________\n",
            " Layer (type)                   Output Shape         Param #     Connected to                     \n",
            "==================================================================================================\n",
            " input_12 (InputLayer)          [(None,)]            0           []                               \n",
            "                                                                                                  \n",
            " input_10 (InputLayer)          [(None,)]            0           []                               \n",
            "                                                                                                  \n",
            " tf.math.reduce_max_3 (TFOpLamb  ()                  0           ['input_12[0][0]']               \n",
            " da)                                                                                              \n",
            "                                                                                                  \n",
            " embedding_3 (Embedding)        (None, 20)           10000       ['input_10[0][0]']               \n",
            "                                                                                                  \n",
            " input_11 (InputLayer)          [(None, 2)]          0           []                               \n",
            "                                                                                                  \n",
            " tf.__operators__.add_3 (TFOpLa  ()                  0           ['tf.math.reduce_max_3[0][0]']   \n",
            " mbda)                                                                                            \n",
            "                                                                                                  \n",
            " gnn_3 (GNN)                    (None, 64)           71552       ['embedding_3[0][0]',            \n",
            "                                                                  'input_11[0][0]',               \n",
            "                                                                  'input_12[0][0]',               \n",
            "                                                                  'tf.__operators__.add_3[0][0]'] \n",
            "                                                                                                  \n",
            " tf.math.segment_mean_3 (TFOpLa  (None, 64)          0           ['gnn_3[0][0]',                  \n",
            " mbda)                                                            'input_12[0][0]']               \n",
            "                                                                                                  \n",
            " dense_3 (Dense)                (None, 1)            65          ['tf.math.segment_mean_3[0][0]'] \n",
            "                                                                                                  \n",
            "==================================================================================================\n",
            "Total params: 81,617\n",
            "Trainable params: 81,617\n",
            "Non-trainable params: 0\n",
            "__________________________________________________________________________________________________\n"
          ]
        }
      ],
      "source": [
        "import tensorflow as tf\n",
        "from tensorflow.math import segment_mean\n",
        "from tensorflow import keras\n",
        "from tensorflow.keras import Input, Model\n",
        "from tensorflow.keras.layers import Embedding, Dense\n",
        "from tensorflow.keras.optimizers import Adam\n",
        "\n",
        "data = keras.Input(batch_shape=(None,))\n",
        "\n",
        "edge = keras.Input(batch_shape=(None, 2), dtype=tf.int32)\n",
        "node2graph = keras.Input(batch_shape=(None,), dtype=tf.int32)\n",
        "embeded = Embedding(tokenizer.num_words, 20)(data)\n",
        "\n",
        "# number of graphs (number of samples)\n",
        "num_graph = tf.reduce_max(node2graph)+1\n",
        "\n",
        "gnn_input = GNNInput(\n",
        "    node_features=embeded,\n",
        "    adjacency_lists=(edge,),\n",
        "    node_to_graph_map=node2graph, \n",
        "    num_graphs=num_graph,\n",
        ")\n",
        "\n",
        "\n",
        "params = GNN.get_default_hyperparameters()\n",
        "params[\"hidden_dim\"] = 64\n",
        "params[\"num_aggr_MLP_HIDDEN_LAYERS\"] = 32\n",
        "params['message_calculation_class']= 'RGCN'\n",
        "gnn_layer = GNN(params)\n",
        "\n",
        "gnn_out = gnn_layer(gnn_input)\n",
        "\n",
        "print('gnn_out', gnn_out)\n",
        "\n",
        "\n",
        "avg = segment_mean(\n",
        "    data=gnn_out,\n",
        "    segment_ids=node2graph\n",
        ")\n",
        "print('mean:', avg)\n",
        "\n",
        "pred = Dense(1, activation='sigmoid')(avg)\n",
        "print('pred:', pred)\n",
        "\n",
        "model = Model(\n",
        "    inputs={\n",
        "        'data': data,\n",
        "        'edges': edge,\n",
        "        'node2grah': node2graph,\n",
        "    },\n",
        "    outputs=pred\n",
        ")\n",
        "model.summary()"
      ]
    },
    {
      "cell_type": "code",
      "execution_count": null,
      "metadata": {
        "id": "38Q4tvbbqOl8"
      },
      "outputs": [],
      "source": [
        "model.compile(\n",
        "    loss='BinaryCrossentropy',\n",
        "    metrics=['AUC']\n",
        ")"
      ]
    },
    {
      "cell_type": "code",
      "execution_count": null,
      "metadata": {
        "colab": {
          "base_uri": "https://localhost:8080/"
        },
        "id": "1w42XRXMUchX",
        "outputId": "69a50556-de6d-4411-e8ad-351129b67385"
      },
      "outputs": [
        {
          "name": "stdout",
          "output_type": "stream",
          "text": [
            "Epoch 1/30\n"
          ]
        },
        {
          "name": "stderr",
          "output_type": "stream",
          "text": [
            "/usr/local/lib/python3.7/dist-packages/tensorflow/python/framework/indexed_slices.py:446: UserWarning: Converting sparse IndexedSlices(IndexedSlices(indices=Tensor(\"gradients/cond_3_grad/Identity_1:0\", shape=(None,), dtype=int32), values=Tensor(\"gradients/cond_3_grad/Identity:0\", shape=(None, 64), dtype=float32), dense_shape=Tensor(\"gradients/cond_3_grad/Identity_2:0\", shape=(2,), dtype=int32))) to a dense Tensor of unknown shape. This may consume a large amount of memory.\n",
            "  \"shape. This may consume a large amount of memory.\" % value)\n",
            "/usr/local/lib/python3.7/dist-packages/tensorflow/python/framework/indexed_slices.py:446: UserWarning: Converting sparse IndexedSlices(IndexedSlices(indices=Tensor(\"gradients/rgcn_2/embedding_lookup_grad/Reshape_1:0\", shape=(None,), dtype=int32), values=Tensor(\"gradients/rgcn_2/embedding_lookup_grad/Reshape:0\", shape=(None, 64), dtype=float32), dense_shape=Tensor(\"gradients/rgcn_2/embedding_lookup_grad/Cast:0\", shape=(2,), dtype=int32))) to a dense Tensor of unknown shape. This may consume a large amount of memory.\n",
            "  \"shape. This may consume a large amount of memory.\" % value)\n",
            "/usr/local/lib/python3.7/dist-packages/tensorflow/python/framework/indexed_slices.py:446: UserWarning: Converting sparse IndexedSlices(IndexedSlices(indices=Tensor(\"gradients/cond_1_grad/Identity_1:0\", shape=(None,), dtype=int32), values=Tensor(\"gradients/cond_1_grad/Identity:0\", shape=(None, 64), dtype=float32), dense_shape=Tensor(\"gradients/cond_1_grad/Identity_2:0\", shape=(2,), dtype=int32))) to a dense Tensor of unknown shape. This may consume a large amount of memory.\n",
            "  \"shape. This may consume a large amount of memory.\" % value)\n",
            "/usr/local/lib/python3.7/dist-packages/tensorflow/python/framework/indexed_slices.py:446: UserWarning: Converting sparse IndexedSlices(IndexedSlices(indices=Tensor(\"gradients/rgcn/embedding_lookup_grad/Reshape_1:0\", shape=(None,), dtype=int32), values=Tensor(\"gradients/rgcn/embedding_lookup_grad/Reshape:0\", shape=(None, 64), dtype=float32), dense_shape=Tensor(\"gradients/rgcn/embedding_lookup_grad/Cast:0\", shape=(2,), dtype=int32))) to a dense Tensor of unknown shape. This may consume a large amount of memory.\n",
            "  \"shape. This may consume a large amount of memory.\" % value)\n"
          ]
        },
        {
          "name": "stdout",
          "output_type": "stream",
          "text": [
            "426/426 [==============================] - 14s 26ms/step - loss: 0.2320 - auc: 0.5165 - val_loss: 0.2355 - val_auc: 0.6472\n",
            "Epoch 2/30\n",
            "426/426 [==============================] - 10s 24ms/step - loss: 0.1942 - auc: 0.6300 - val_loss: 0.2002 - val_auc: 0.6312\n",
            "Epoch 3/30\n",
            "426/426 [==============================] - 10s 24ms/step - loss: 0.1900 - auc: 0.6512 - val_loss: 0.1873 - val_auc: 0.6802\n",
            "Epoch 4/30\n",
            "426/426 [==============================] - 10s 25ms/step - loss: 0.1872 - auc: 0.6679 - val_loss: 0.1799 - val_auc: 0.7013\n",
            "Epoch 5/30\n",
            "426/426 [==============================] - 10s 25ms/step - loss: 0.1854 - auc: 0.6704 - val_loss: 0.1803 - val_auc: 0.6870\n",
            "Epoch 6/30\n",
            "426/426 [==============================] - 10s 25ms/step - loss: 0.1837 - auc: 0.6846 - val_loss: 0.1774 - val_auc: 0.7207\n",
            "Epoch 7/30\n",
            "426/426 [==============================] - 10s 25ms/step - loss: 0.1807 - auc: 0.7017 - val_loss: 0.1816 - val_auc: 0.6844\n",
            "Epoch 8/30\n",
            "426/426 [==============================] - 10s 25ms/step - loss: 0.1809 - auc: 0.6998 - val_loss: 0.1795 - val_auc: 0.7296\n",
            "Epoch 9/30\n",
            "426/426 [==============================] - 11s 25ms/step - loss: 0.1782 - auc: 0.7166 - val_loss: 0.1743 - val_auc: 0.7431\n",
            "Epoch 10/30\n",
            "426/426 [==============================] - 11s 25ms/step - loss: 0.1766 - auc: 0.7268 - val_loss: 0.1845 - val_auc: 0.7394\n",
            "Epoch 11/30\n",
            "426/426 [==============================] - 10s 25ms/step - loss: 0.1767 - auc: 0.7236 - val_loss: 0.1709 - val_auc: 0.7420\n",
            "Epoch 12/30\n",
            "426/426 [==============================] - 10s 25ms/step - loss: 0.1762 - auc: 0.7305 - val_loss: 0.1863 - val_auc: 0.7440\n",
            "Epoch 13/30\n",
            "426/426 [==============================] - 10s 24ms/step - loss: 0.1770 - auc: 0.7257 - val_loss: 0.1704 - val_auc: 0.7649\n",
            "Epoch 14/30\n",
            "426/426 [==============================] - 10s 24ms/step - loss: 0.1773 - auc: 0.7265 - val_loss: 0.1751 - val_auc: 0.7637\n",
            "Epoch 15/30\n",
            "426/426 [==============================] - 10s 24ms/step - loss: 0.1755 - auc: 0.7297 - val_loss: 0.1776 - val_auc: 0.7311\n",
            "Epoch 16/30\n",
            "426/426 [==============================] - 10s 24ms/step - loss: 0.1735 - auc: 0.7385 - val_loss: 0.1720 - val_auc: 0.7662\n",
            "Epoch 17/30\n",
            "426/426 [==============================] - 10s 25ms/step - loss: 0.1743 - auc: 0.7334 - val_loss: 0.1747 - val_auc: 0.7483\n",
            "Epoch 18/30\n",
            "426/426 [==============================] - 10s 25ms/step - loss: 0.1748 - auc: 0.7331 - val_loss: 0.1676 - val_auc: 0.7630\n",
            "Epoch 19/30\n",
            "426/426 [==============================] - 10s 24ms/step - loss: 0.1734 - auc: 0.7440 - val_loss: 0.1729 - val_auc: 0.7398\n",
            "Epoch 20/30\n",
            "426/426 [==============================] - 10s 25ms/step - loss: 0.1734 - auc: 0.7409 - val_loss: 0.1799 - val_auc: 0.7703\n",
            "Epoch 21/30\n",
            "426/426 [==============================] - 10s 24ms/step - loss: 0.1739 - auc: 0.7422 - val_loss: 0.1789 - val_auc: 0.7402\n",
            "Epoch 22/30\n",
            "426/426 [==============================] - 10s 25ms/step - loss: 0.1721 - auc: 0.7488 - val_loss: 0.1747 - val_auc: 0.7707\n",
            "Epoch 23/30\n",
            "426/426 [==============================] - 10s 25ms/step - loss: 0.1728 - auc: 0.7437 - val_loss: 0.1681 - val_auc: 0.7885\n",
            "Epoch 24/30\n",
            "426/426 [==============================] - 11s 25ms/step - loss: 0.1732 - auc: 0.7377 - val_loss: 0.1778 - val_auc: 0.7635\n",
            "Epoch 25/30\n",
            "426/426 [==============================] - 10s 24ms/step - loss: 0.1714 - auc: 0.7480 - val_loss: 0.1732 - val_auc: 0.7734\n",
            "Epoch 26/30\n",
            "426/426 [==============================] - 10s 24ms/step - loss: 0.1718 - auc: 0.7529 - val_loss: 0.1753 - val_auc: 0.7588\n",
            "Epoch 27/30\n",
            "426/426 [==============================] - 11s 25ms/step - loss: 0.1709 - auc: 0.7569 - val_loss: 0.1650 - val_auc: 0.7654\n",
            "Epoch 28/30\n",
            "426/426 [==============================] - 10s 25ms/step - loss: 0.1698 - auc: 0.7579 - val_loss: 0.1906 - val_auc: 0.7570\n",
            "Epoch 29/30\n",
            "426/426 [==============================] - 10s 25ms/step - loss: 0.1707 - auc: 0.7491 - val_loss: 0.1771 - val_auc: 0.7543\n",
            "Epoch 30/30\n",
            "426/426 [==============================] - 11s 25ms/step - loss: 0.1719 - auc: 0.7529 - val_loss: 0.1602 - val_auc: 0.7872\n"
          ]
        }
      ],
      "source": [
        "import math\n",
        "\n",
        "batch_size = 50\n",
        "num_batchs = math.ceil(len(training_data) / batch_size)\n",
        "num_batchs_validation = math.ceil(len(validation_set) / batch_size)\n",
        "\n",
        "history = model.fit(\n",
        "    gen_batch(\n",
        "        training_data, batch_size=batch_size, repeat=True\n",
        "    ),\n",
        "    steps_per_epoch=num_batchs,\n",
        "    epochs=30,\n",
        "    validation_data=gen_batch(\n",
        "        validation_set, batch_size=50, repeat=True\n",
        "    ),\n",
        "    validation_steps=num_batchs_validation,\n",
        ")"
      ]
    },
    {
      "cell_type": "code",
      "execution_count": null,
      "metadata": {
        "colab": {
          "base_uri": "https://localhost:8080/",
          "height": 544
        },
        "id": "3uIZU1kkMZ9n",
        "outputId": "db145723-d859-4357-cb2f-a74529403da7"
      },
      "outputs": [
        {
          "data": {
            "image/png": "[encoded data removed]",
            "text/plain": [
              "<Figure size 432x288 with 1 Axes>"
            ]
          },
          "metadata": {},
          "output_type": "display_data"
        },
        {
          "data": {
            "image/png": "[encoded data removed]",
            "text/plain": [
              "<Figure size 432x288 with 1 Axes>"
            ]
          },
          "metadata": {},
          "output_type": "display_data"
        }
      ],
      "source": [
        "#showing the loss and val_los from the training data\n",
        "plot_graphs(history, \"loss\")\n",
        "#showing accuracy and val_accuracy from the training data \n",
        "plot_graphs(history, \"auc\")"
      ]
    },
    {
      "cell_type": "code",
      "execution_count": null,
      "metadata": {
        "id": "PzI27qySUmAp"
      },
      "outputs": [],
      "source": [
        "y_pred = model.predict(\n",
        "    gen_batch(test_data, batch_size=16, shuffle=False)\n",
        ")\n",
        "y_pred = np.reshape(y_pred, -1)"
      ]
    },
    {
      "cell_type": "code",
      "execution_count": null,
      "metadata": {
        "id": "hIn9QeICUmKB"
      },
      "outputs": [],
      "source": [
        "import pandas as pd \n",
        "submission = pd.DataFrame({'label':y_pred})\n",
        "submission.index.name = 'id'\n",
        "submission.to_csv('/content/drive/MyDrive/DM_assignment_6/output.csv')"
      ]
    },
    {
      "cell_type": "markdown",
      "source": [
        "----\n",
        "- **Ater performing the model we ralize that the model perform well comparing to the previous trial and this is expected, there is no overfitting or underfitting.** \n",
        "\n",
        "----"
      ],
      "metadata": {
        "id": "Jkb3KZppClCe"
      }
    },
    {
      "cell_type": "markdown",
      "metadata": {
        "id": "opBdvwpYu-wq"
      },
      "source": [
        "## **Trial_4**\n",
        "\n",
        "---"
      ]
    },
    {
      "cell_type": "markdown",
      "metadata": {
        "id": "8MQ0hiqC7Qzw"
      },
      "source": [
        "### **RGAT**"
      ]
    },
    {
      "cell_type": "markdown",
      "metadata": {
        "id": "9NZ1zH7f6aSz"
      },
      "source": [
        "Graph attention networks (GATs), novel convolution-style neural networks that\n",
        "operate on graph-structured data, leveraging masked self-attentional layers. The graph attentional\n",
        "layer utilized throughout these networks is computationally efficient (does not require costly matrix operations, and is parallelizable across all nodes in the graph)\n",
        "\n",
        "-----\n",
        "\n",
        "**My plas for this trail**:\n",
        ">\n",
        "From the previous trial we realize that the model perform well based on the accuracy and the loss. so in this trial im planning to use RGAT As a message calculation class.\n",
        "\n",
        "----\n",
        "\n",
        "**Model Hyperparameters**\n",
        "\n",
        "----\n",
        "----\n",
        "\\\n",
        "- **GNN.get_default_hyperparameters())**. These hyperparameters configure the exact stack of GNN layers:\n",
        "\n",
        "  - \"num_layers\" sets the number of GNN message passing layers (usually, a number between 2 and 16)\n",
        "\n",
        "  - \"message_calculation_class\" configures the message passing style. This chooses the tf2_gnn.layers.message_passing.* layer used in each step.\n",
        "\n",
        "- **params[\"num_aggr_MLP_HIDDEN_LAYERS\"]=32** : this is a new hyperparameter used witht thie layer\n",
        "\n",
        "- **params['message_calculation_class']= 'RGAT'** : to chose the new methon.\n",
        "\n",
        "\\\n",
        "___\n",
        "\n",
        "- node_features= embeded \n",
        "  - the first input contains a vector of the words after we change it by using the function Embadding \n",
        "  >\n",
        "\n",
        "- adjacency_lists=(edge)\n",
        "  - the edges are what conects one nodes , their dimention is an arry of two values .\n",
        ">\n",
        "\n",
        "- node_to_graph_map=node2graph\n",
        "  - shows how max_nodes_len,number of edges on one batch \n",
        ">\n",
        "- num_graphs=num_graph\n",
        "  - number of samples\n",
        "\n",
        "- **Epochs** : indicates the number of passes of the entire training dataset   the machine learning algorithm has completed\n",
        " >\n",
        "- **batch_size**: the number of training examples in one forward/backward pass.\n",
        "\n",
        ">\n",
        "- **hidden_dim**= 64 : sets the size of the output of all message passing layers.\n",
        "\n",
        "-----"
      ]
    },
    {
      "cell_type": "code",
      "execution_count": null,
      "metadata": {
        "colab": {
          "base_uri": "https://localhost:8080/"
        },
        "id": "C7UW91AK7Qz0",
        "outputId": "700ebc14-3767-441a-cc1b-ead13d452079"
      },
      "outputs": [
        {
          "name": "stdout",
          "output_type": "stream",
          "text": [
            "gnn_out KerasTensor(type_spec=TensorSpec(shape=(None, 64), dtype=tf.float32, name=None), name='gnn_4/StatefulPartitionedCall:0', description=\"created by layer 'gnn_4'\")\n",
            "mean: KerasTensor(type_spec=TensorSpec(shape=(None, 64), dtype=tf.float32, name=None), name='tf.math.segment_mean_4/SegmentMean:0', description=\"created by layer 'tf.math.segment_mean_4'\")\n",
            "pred: KerasTensor(type_spec=TensorSpec(shape=(None, 1), dtype=tf.float32, name=None), name='dense_4/Sigmoid:0', description=\"created by layer 'dense_4'\")\n",
            "Model: \"model_4\"\n",
            "__________________________________________________________________________________________________\n",
            " Layer (type)                   Output Shape         Param #     Connected to                     \n",
            "==================================================================================================\n",
            " input_15 (InputLayer)          [(None,)]            0           []                               \n",
            "                                                                                                  \n",
            " input_13 (InputLayer)          [(None,)]            0           []                               \n",
            "                                                                                                  \n",
            " tf.math.reduce_max_4 (TFOpLamb  ()                  0           ['input_15[0][0]']               \n",
            " da)                                                                                              \n",
            "                                                                                                  \n",
            " embedding_4 (Embedding)        (None, 20)           10000       ['input_13[0][0]']               \n",
            "                                                                                                  \n",
            " input_14 (InputLayer)          [(None, 2)]          0           []                               \n",
            "                                                                                                  \n",
            " tf.__operators__.add_4 (TFOpLa  ()                  0           ['tf.math.reduce_max_4[0][0]']   \n",
            " mbda)                                                                                            \n",
            "                                                                                                  \n",
            " gnn_4 (GNN)                    (None, 64)           72064       ['embedding_4[0][0]',            \n",
            "                                                                  'input_14[0][0]',               \n",
            "                                                                  'input_15[0][0]',               \n",
            "                                                                  'tf.__operators__.add_4[0][0]'] \n",
            "                                                                                                  \n",
            " tf.math.segment_mean_4 (TFOpLa  (None, 64)          0           ['gnn_4[0][0]',                  \n",
            " mbda)                                                            'input_15[0][0]']               \n",
            "                                                                                                  \n",
            " dense_4 (Dense)                (None, 1)            65          ['tf.math.segment_mean_4[0][0]'] \n",
            "                                                                                                  \n",
            "==================================================================================================\n",
            "Total params: 82,129\n",
            "Trainable params: 82,129\n",
            "Non-trainable params: 0\n",
            "__________________________________________________________________________________________________\n"
          ]
        }
      ],
      "source": [
        "import tensorflow as tf\n",
        "from tensorflow.math import segment_mean\n",
        "from tensorflow import keras\n",
        "from tensorflow.keras import Input, Model\n",
        "from tensorflow.keras.layers import Embedding, Dense\n",
        "from tensorflow.keras.optimizers import Adam\n",
        "\n",
        "data = keras.Input(batch_shape=(None,))\n",
        "\n",
        "edge = keras.Input(batch_shape=(None, 2), dtype=tf.int32)\n",
        "node2graph = keras.Input(batch_shape=(None,), dtype=tf.int32)\n",
        "embeded = Embedding(tokenizer.num_words, 20)(data)\n",
        "\n",
        "# number of graphs (number of samples)\n",
        "num_graph = tf.reduce_max(node2graph)+1\n",
        "\n",
        "gnn_input = GNNInput(\n",
        "    node_features=embeded,\n",
        "    adjacency_lists=(edge,),\n",
        "    node_to_graph_map=node2graph, \n",
        "    num_graphs=num_graph,\n",
        ")\n",
        "\n",
        "\n",
        "params = GNN.get_default_hyperparameters()\n",
        "params[\"hidden_dim\"] = 64\n",
        "params[\"num_aggr_MLP_HIDDEN_LAYERS\"] = 32\n",
        "params['message_calculation_class']= 'RGAT'\n",
        "params['num_heads']= 4\n",
        "gnn_layer = GNN(params)\n",
        "\n",
        "gnn_out = gnn_layer(gnn_input)\n",
        "\n",
        "print('gnn_out', gnn_out)\n",
        "\n",
        "\n",
        "avg = segment_mean(\n",
        "    data=gnn_out,\n",
        "    segment_ids=node2graph\n",
        ")\n",
        "print('mean:', avg)\n",
        "\n",
        "pred = Dense(1, activation='sigmoid')(avg)\n",
        "print('pred:', pred)\n",
        "\n",
        "model = Model(\n",
        "    inputs={\n",
        "        'data': data,\n",
        "        'edges': edge,\n",
        "        'node2grah': node2graph,\n",
        "    },\n",
        "    outputs=pred\n",
        ")\n",
        "model.summary()"
      ]
    },
    {
      "cell_type": "code",
      "execution_count": null,
      "metadata": {
        "id": "WzTG-zxu7Qz4"
      },
      "outputs": [],
      "source": [
        "model.compile(\n",
        "    loss='BinaryCrossentropy',\n",
        "    metrics=['AUC']\n",
        ")"
      ]
    },
    {
      "cell_type": "code",
      "execution_count": null,
      "metadata": {
        "colab": {
          "base_uri": "https://localhost:8080/"
        },
        "id": "sigBHE7Y7Qz5",
        "outputId": "366c1e47-8abc-484b-846e-1700c35fd223"
      },
      "outputs": [
        {
          "name": "stdout",
          "output_type": "stream",
          "text": [
            "Epoch 1/30\n"
          ]
        },
        {
          "name": "stderr",
          "output_type": "stream",
          "text": [
            "/usr/local/lib/python3.7/dist-packages/tensorflow/python/framework/indexed_slices.py:446: UserWarning: Converting sparse IndexedSlices(IndexedSlices(indices=Tensor(\"gradients/GatherV2_1_grad/Reshape_1:0\", shape=(None,), dtype=int32), values=Tensor(\"gradients/GatherV2_1_grad/Reshape:0\", shape=(None,), dtype=float32), dense_shape=Tensor(\"gradients/GatherV2_1_grad/Cast:0\", shape=(1,), dtype=int32))) to a dense Tensor of unknown shape. This may consume a large amount of memory.\n",
            "  \"shape. This may consume a large amount of memory.\" % value)\n",
            "/usr/local/lib/python3.7/dist-packages/tensorflow/python/framework/indexed_slices.py:446: UserWarning: Converting sparse IndexedSlices(IndexedSlices(indices=Tensor(\"gradients/GatherV2_grad/Reshape_1:0\", shape=(None,), dtype=int32), values=Tensor(\"gradients/GatherV2_grad/Reshape:0\", shape=(None,), dtype=float32), dense_shape=Tensor(\"gradients/GatherV2_grad/Cast:0\", shape=(1,), dtype=int32))) to a dense Tensor of unknown shape. This may consume a large amount of memory.\n",
            "  \"shape. This may consume a large amount of memory.\" % value)\n",
            "/usr/local/lib/python3.7/dist-packages/tensorflow/python/framework/indexed_slices.py:446: UserWarning: Converting sparse IndexedSlices(IndexedSlices(indices=Tensor(\"gradients/cond_3_grad/Identity_1:0\", shape=(None,), dtype=int32), values=Tensor(\"gradients/cond_3_grad/Identity:0\", shape=(None, 64), dtype=float32), dense_shape=Tensor(\"gradients/cond_3_grad/Identity_2:0\", shape=(2,), dtype=int32))) to a dense Tensor of unknown shape. This may consume a large amount of memory.\n",
            "  \"shape. This may consume a large amount of memory.\" % value)\n",
            "/usr/local/lib/python3.7/dist-packages/tensorflow/python/framework/indexed_slices.py:446: UserWarning: Converting sparse IndexedSlices(IndexedSlices(indices=Tensor(\"gradients/concat_3:0\", shape=(None,), dtype=int32), values=Tensor(\"gradients/concat_2:0\", shape=(None, 64), dtype=float32), dense_shape=Tensor(\"gradients/rgat_2/embedding_lookup_grad/Cast:0\", shape=(2,), dtype=int32))) to a dense Tensor of unknown shape. This may consume a large amount of memory.\n",
            "  \"shape. This may consume a large amount of memory.\" % value)\n",
            "/usr/local/lib/python3.7/dist-packages/tensorflow/python/framework/indexed_slices.py:446: UserWarning: Converting sparse IndexedSlices(IndexedSlices(indices=Tensor(\"gradients/cond_1_grad/Identity_1:0\", shape=(None,), dtype=int32), values=Tensor(\"gradients/cond_1_grad/Identity:0\", shape=(None, 64), dtype=float32), dense_shape=Tensor(\"gradients/cond_1_grad/Identity_2:0\", shape=(2,), dtype=int32))) to a dense Tensor of unknown shape. This may consume a large amount of memory.\n",
            "  \"shape. This may consume a large amount of memory.\" % value)\n",
            "/usr/local/lib/python3.7/dist-packages/tensorflow/python/framework/indexed_slices.py:446: UserWarning: Converting sparse IndexedSlices(IndexedSlices(indices=Tensor(\"gradients/rgat/embedding_lookup_grad/Reshape_1:0\", shape=(None,), dtype=int32), values=Tensor(\"gradients/rgat/embedding_lookup_grad/Reshape:0\", shape=(None, 64), dtype=float32), dense_shape=Tensor(\"gradients/rgat/embedding_lookup_grad/Cast:0\", shape=(2,), dtype=int32))) to a dense Tensor of unknown shape. This may consume a large amount of memory.\n",
            "  \"shape. This may consume a large amount of memory.\" % value)\n",
            "/usr/local/lib/python3.7/dist-packages/tensorflow/python/framework/indexed_slices.py:446: UserWarning: Converting sparse IndexedSlices(IndexedSlices(indices=Tensor(\"gradients/rgat/embedding_lookup_1_grad/Reshape_1:0\", shape=(None,), dtype=int32), values=Tensor(\"gradients/rgat/embedding_lookup_1_grad/Reshape:0\", shape=(None, 64), dtype=float32), dense_shape=Tensor(\"gradients/rgat/embedding_lookup_1_grad/Cast:0\", shape=(2,), dtype=int32))) to a dense Tensor of unknown shape. This may consume a large amount of memory.\n",
            "  \"shape. This may consume a large amount of memory.\" % value)\n"
          ]
        },
        {
          "name": "stdout",
          "output_type": "stream",
          "text": [
            "426/426 [==============================] - 24s 44ms/step - loss: 0.2391 - auc: 0.4852 - val_loss: 0.2024 - val_auc: 0.6298\n",
            "Epoch 2/30\n",
            "426/426 [==============================] - 18s 42ms/step - loss: 0.1955 - auc: 0.6119 - val_loss: 0.1914 - val_auc: 0.6495\n",
            "Epoch 3/30\n",
            "426/426 [==============================] - 18s 42ms/step - loss: 0.1897 - auc: 0.6614 - val_loss: 0.2111 - val_auc: 0.6956\n",
            "Epoch 4/30\n",
            "426/426 [==============================] - 18s 42ms/step - loss: 0.1871 - auc: 0.6770 - val_loss: 0.1888 - val_auc: 0.6733\n",
            "Epoch 5/30\n",
            "426/426 [==============================] - 18s 42ms/step - loss: 0.1833 - auc: 0.6987 - val_loss: 0.1941 - val_auc: 0.7079\n",
            "Epoch 6/30\n",
            "426/426 [==============================] - 18s 42ms/step - loss: 0.1805 - auc: 0.7043 - val_loss: 0.1768 - val_auc: 0.7231\n",
            "Epoch 7/30\n",
            "426/426 [==============================] - 18s 42ms/step - loss: 0.1784 - auc: 0.7155 - val_loss: 0.1777 - val_auc: 0.7377\n",
            "Epoch 8/30\n",
            "426/426 [==============================] - 18s 42ms/step - loss: 0.1787 - auc: 0.7187 - val_loss: 0.1641 - val_auc: 0.7689\n",
            "Epoch 9/30\n",
            "426/426 [==============================] - 18s 42ms/step - loss: 0.1756 - auc: 0.7320 - val_loss: 0.1749 - val_auc: 0.7349\n",
            "Epoch 10/30\n",
            "426/426 [==============================] - 18s 42ms/step - loss: 0.1755 - auc: 0.7323 - val_loss: 0.1652 - val_auc: 0.7757\n",
            "Epoch 11/30\n",
            "426/426 [==============================] - 18s 42ms/step - loss: 0.1741 - auc: 0.7427 - val_loss: 0.1841 - val_auc: 0.7496\n",
            "Epoch 12/30\n",
            "426/426 [==============================] - 18s 42ms/step - loss: 0.1734 - auc: 0.7419 - val_loss: 0.1725 - val_auc: 0.7631\n",
            "Epoch 13/30\n",
            "426/426 [==============================] - 18s 42ms/step - loss: 0.1741 - auc: 0.7414 - val_loss: 0.1708 - val_auc: 0.7387\n",
            "Epoch 14/30\n",
            "426/426 [==============================] - 18s 42ms/step - loss: 0.1731 - auc: 0.7489 - val_loss: 0.1787 - val_auc: 0.7669\n",
            "Epoch 15/30\n",
            "426/426 [==============================] - 18s 42ms/step - loss: 0.1708 - auc: 0.7551 - val_loss: 0.1653 - val_auc: 0.7701\n",
            "Epoch 16/30\n",
            "426/426 [==============================] - 18s 42ms/step - loss: 0.1703 - auc: 0.7608 - val_loss: 0.1658 - val_auc: 0.7827\n",
            "Epoch 17/30\n",
            "426/426 [==============================] - 18s 42ms/step - loss: 0.1713 - auc: 0.7589 - val_loss: 0.1635 - val_auc: 0.7967\n",
            "Epoch 18/30\n",
            "426/426 [==============================] - 18s 43ms/step - loss: 0.1698 - auc: 0.7578 - val_loss: 0.1650 - val_auc: 0.7850\n",
            "Epoch 19/30\n",
            "426/426 [==============================] - 18s 42ms/step - loss: 0.1687 - auc: 0.7676 - val_loss: 0.1621 - val_auc: 0.7837\n",
            "Epoch 20/30\n",
            "426/426 [==============================] - 18s 42ms/step - loss: 0.1679 - auc: 0.7685 - val_loss: 0.1587 - val_auc: 0.8126\n",
            "Epoch 21/30\n",
            "426/426 [==============================] - 18s 42ms/step - loss: 0.1681 - auc: 0.7684 - val_loss: 0.1636 - val_auc: 0.7820\n",
            "Epoch 22/30\n",
            "426/426 [==============================] - 18s 42ms/step - loss: 0.1664 - auc: 0.7793 - val_loss: 0.1706 - val_auc: 0.8041\n",
            "Epoch 23/30\n",
            "426/426 [==============================] - 18s 42ms/step - loss: 0.1690 - auc: 0.7633 - val_loss: 0.1593 - val_auc: 0.7692\n",
            "Epoch 24/30\n",
            "426/426 [==============================] - 18s 42ms/step - loss: 0.1691 - auc: 0.7667 - val_loss: 0.1706 - val_auc: 0.7751\n",
            "Epoch 25/30\n",
            "426/426 [==============================] - 18s 42ms/step - loss: 0.1664 - auc: 0.7710 - val_loss: 0.1573 - val_auc: 0.8115\n",
            "Epoch 26/30\n",
            "426/426 [==============================] - 18s 42ms/step - loss: 0.1658 - auc: 0.7823 - val_loss: 0.1673 - val_auc: 0.7901\n",
            "Epoch 27/30\n",
            "426/426 [==============================] - 18s 43ms/step - loss: 0.1664 - auc: 0.7796 - val_loss: 0.1568 - val_auc: 0.8036\n",
            "Epoch 28/30\n",
            "426/426 [==============================] - 18s 42ms/step - loss: 0.1671 - auc: 0.7712 - val_loss: 0.1618 - val_auc: 0.7863\n",
            "Epoch 29/30\n",
            "426/426 [==============================] - 18s 42ms/step - loss: 0.1658 - auc: 0.7786 - val_loss: 0.1657 - val_auc: 0.7814\n",
            "Epoch 30/30\n",
            "426/426 [==============================] - 18s 43ms/step - loss: 0.1638 - auc: 0.7849 - val_loss: 0.1713 - val_auc: 0.7957\n"
          ]
        }
      ],
      "source": [
        "import math\n",
        "\n",
        "batch_size = 50\n",
        "num_batchs = math.ceil(len(training_data) / batch_size)\n",
        "num_batchs_validation = math.ceil(len(validation_set) / batch_size)\n",
        "\n",
        "history = model.fit(\n",
        "    gen_batch(\n",
        "        training_data, batch_size=batch_size, repeat=True\n",
        "    ),\n",
        "    steps_per_epoch=num_batchs,\n",
        "    epochs=30,\n",
        "    validation_data=gen_batch(\n",
        "        validation_set, batch_size=50, repeat=True\n",
        "    ),\n",
        "    validation_steps=num_batchs_validation,\n",
        ")"
      ]
    },
    {
      "cell_type": "code",
      "execution_count": null,
      "metadata": {
        "colab": {
          "base_uri": "https://localhost:8080/",
          "height": 541
        },
        "id": "9PYp-W0B7Qz9",
        "outputId": "4542083b-07fe-4cc0-8ac4-30750ab7fff8"
      },
      "outputs": [
        {
          "data": {
            "image/png": "[encoded data removed]",
            "text/plain": [
              "<Figure size 432x288 with 1 Axes>"
            ]
          },
          "metadata": {},
          "output_type": "display_data"
        },
        {
          "data": {
            "image/png": "[encoded data removed]",
            "text/plain": [
              "<Figure size 432x288 with 1 Axes>"
            ]
          },
          "metadata": {},
          "output_type": "display_data"
        }
      ],
      "source": [
        "#showing the loss and val_los from the training data\n",
        "plot_graphs(history, \"loss\")\n",
        "#showing accuracy and val_accuracy from the training data \n",
        "plot_graphs(history, \"auc\")"
      ]
    },
    {
      "cell_type": "code",
      "execution_count": null,
      "metadata": {
        "id": "V6GDtlgK7Qz7"
      },
      "outputs": [],
      "source": [
        "y_pred = model.predict(\n",
        "    gen_batch(test_data, batch_size=16, shuffle=False)\n",
        ")\n",
        "y_pred = np.reshape(y_pred, -1)"
      ]
    },
    {
      "cell_type": "code",
      "execution_count": null,
      "metadata": {
        "id": "6i3_YVWk7Qz8"
      },
      "outputs": [],
      "source": [
        "import pandas as pd \n",
        "submission = pd.DataFrame({'label':y_pred})\n",
        "submission.index.name = 'id'\n",
        "submission.to_csv('/content/drive/MyDrive/DM_assignment_6/output.csv')"
      ]
    },
    {
      "cell_type": "markdown",
      "source": [
        "----\n",
        "- **Ater performing the model we ralize that the model perform vert well comparing to the previous trial and this is expected, there is no overfitting or underfitting.** \n",
        "\n",
        "----"
      ],
      "metadata": {
        "id": "rz4H7o4SDCKL"
      }
    },
    {
      "cell_type": "markdown",
      "metadata": {
        "id": "fVJKCQRVvNJS"
      },
      "source": [
        "## **Trial_5**\n",
        "\n",
        "\n",
        "----"
      ]
    },
    {
      "cell_type": "markdown",
      "metadata": {
        "id": "VdlXOXCU-Qhh"
      },
      "source": [
        "### **RGIN**"
      ]
    },
    {
      "cell_type": "markdown",
      "metadata": {
        "id": "gFSqhPcc9TUi"
      },
      "source": [
        "**My plas for this trail**:\n",
        ">\n",
        "From the previous trial we realize that the model perform well based on the accuracy and the loss. so in this trial im planning to use RGIN As a message calculation class.\n",
        "\n",
        "----\n",
        "\n",
        "**Model Hyperparameters**\n",
        "\n",
        "----\n",
        "----\n",
        "\\\n",
        "- **GNN.get_default_hyperparameters())**. These hyperparameters configure the exact stack of GNN layers:\n",
        "\n",
        "  - \"num_layers\" sets the number of GNN message passing layers (usually, a number between 2 and 16)\n",
        "\n",
        "  - \"message_calculation_class\" configures the message passing style. This chooses the tf2_gnn.layers.message_passing.* layer used in each step.\n",
        "\n",
        "- **params[\"num_aggr_MLP_HIDDEN_LAYERS\"]=32** : this is a new hyperparameter used witht thie layer\n",
        "\n",
        "- **params['message_calculation_class']= 'RGIN'** : to chose the new methon.\n",
        "\n",
        "\\\n",
        "___\n",
        "\n",
        "- node_features= embeded \n",
        "  - the first input contains a vector of the words after we change it by using the function Embadding \n",
        "  >\n",
        "\n",
        "- adjacency_lists=(edge)\n",
        "  - the edges are what conects one nodes , their dimention is an arry of two values .\n",
        ">\n",
        "\n",
        "- node_to_graph_map=node2graph\n",
        "  - shows how max_nodes_len,number of edges on one batch \n",
        ">\n",
        "- num_graphs=num_graph\n",
        "  - number of samples\n",
        "\n",
        "- **Epochs** : indicates the number of passes of the entire training dataset   the machine learning algorithm has completed\n",
        " >\n",
        "- **batch_size**: the number of training examples in one forward/backward pass.\n",
        "\n",
        ">\n",
        "- **hidden_dim**= 64 : sets the size of the output of all message passing layers.\n",
        "\n",
        "-----"
      ]
    },
    {
      "cell_type": "code",
      "execution_count": null,
      "metadata": {
        "colab": {
          "base_uri": "https://localhost:8080/"
        },
        "id": "4mlCDT-3-Qhi",
        "outputId": "cdf58c63-7b6b-45f8-a638-4b1535913b9d"
      },
      "outputs": [
        {
          "name": "stdout",
          "output_type": "stream",
          "text": [
            "gnn_out KerasTensor(type_spec=TensorSpec(shape=(None, 64), dtype=tf.float32, name=None), name='gnn_5/StatefulPartitionedCall:0', description=\"created by layer 'gnn_5'\")\n",
            "mean: KerasTensor(type_spec=TensorSpec(shape=(None, 64), dtype=tf.float32, name=None), name='tf.math.segment_mean_5/SegmentMean:0', description=\"created by layer 'tf.math.segment_mean_5'\")\n",
            "pred: KerasTensor(type_spec=TensorSpec(shape=(None, 1), dtype=tf.float32, name=None), name='dense_5/Sigmoid:0', description=\"created by layer 'dense_5'\")\n",
            "Model: \"model_5\"\n",
            "__________________________________________________________________________________________________\n",
            " Layer (type)                   Output Shape         Param #     Connected to                     \n",
            "==================================================================================================\n",
            " input_18 (InputLayer)          [(None,)]            0           []                               \n",
            "                                                                                                  \n",
            " input_16 (InputLayer)          [(None,)]            0           []                               \n",
            "                                                                                                  \n",
            " tf.math.reduce_max_5 (TFOpLamb  ()                  0           ['input_18[0][0]']               \n",
            " da)                                                                                              \n",
            "                                                                                                  \n",
            " embedding_5 (Embedding)        (None, 20)           10000       ['input_16[0][0]']               \n",
            "                                                                                                  \n",
            " input_17 (InputLayer)          [(None, 2)]          0           []                               \n",
            "                                                                                                  \n",
            " tf.__operators__.add_5 (TFOpLa  ()                  0           ['tf.math.reduce_max_5[0][0]']   \n",
            " mbda)                                                                                            \n",
            "                                                                                                  \n",
            " gnn_5 (GNN)                    (None, 64)           612224      ['embedding_5[0][0]',            \n",
            "                                                                  'input_17[0][0]',               \n",
            "                                                                  'input_18[0][0]',               \n",
            "                                                                  'tf.__operators__.add_5[0][0]'] \n",
            "                                                                                                  \n",
            " tf.math.segment_mean_5 (TFOpLa  (None, 64)          0           ['gnn_5[0][0]',                  \n",
            " mbda)                                                            'input_18[0][0]']               \n",
            "                                                                                                  \n",
            " dense_5 (Dense)                (None, 1)            65          ['tf.math.segment_mean_5[0][0]'] \n",
            "                                                                                                  \n",
            "==================================================================================================\n",
            "Total params: 622,289\n",
            "Trainable params: 622,289\n",
            "Non-trainable params: 0\n",
            "__________________________________________________________________________________________________\n"
          ]
        }
      ],
      "source": [
        "import tensorflow as tf\n",
        "from tensorflow.math import segment_mean\n",
        "from tensorflow import keras\n",
        "from tensorflow.keras import Input, Model\n",
        "from tensorflow.keras.layers import Embedding, Dense\n",
        "from tensorflow.keras.optimizers import Adam\n",
        "\n",
        "data = keras.Input(batch_shape=(None,))\n",
        "\n",
        "edge = keras.Input(batch_shape=(None, 2), dtype=tf.int32)\n",
        "node2graph = keras.Input(batch_shape=(None,), dtype=tf.int32)\n",
        "embeded = Embedding(tokenizer.num_words, 20)(data)\n",
        "\n",
        "# number of graphs (number of samples)\n",
        "num_graph = tf.reduce_max(node2graph)+1\n",
        "\n",
        "gnn_input = GNNInput(\n",
        "    node_features=embeded,\n",
        "    adjacency_lists=(edge,),\n",
        "    node_to_graph_map=node2graph, \n",
        "    num_graphs=num_graph,\n",
        ")\n",
        "\n",
        "\n",
        "params = GNN.get_default_hyperparameters()\n",
        "params[\"hidden_dim\"] = 64\n",
        "params[\"num_aggr_MLP_hidden_layers\"] = 32\n",
        "params['message_calculation_class']= 'RGIN'\n",
        "\n",
        "gnn_layer = GNN(params)\n",
        "\n",
        "gnn_out = gnn_layer(gnn_input)\n",
        "\n",
        "print('gnn_out', gnn_out)\n",
        "\n",
        "\n",
        "avg = segment_mean(\n",
        "    data=gnn_out,\n",
        "    segment_ids=node2graph\n",
        ")\n",
        "print('mean:', avg)\n",
        "\n",
        "pred = Dense(1, activation='sigmoid')(avg)\n",
        "print('pred:', pred)\n",
        "\n",
        "model = Model(\n",
        "    inputs={\n",
        "        'data': data,\n",
        "        'edges': edge,\n",
        "        'node2grah': node2graph,\n",
        "    },\n",
        "    outputs=pred\n",
        ")\n",
        "model.summary()"
      ]
    },
    {
      "cell_type": "code",
      "execution_count": null,
      "metadata": {
        "id": "5c65IUyc-Qhj"
      },
      "outputs": [],
      "source": [
        "model.compile(\n",
        "    loss='BinaryCrossentropy',\n",
        "    metrics=['AUC']\n",
        ")"
      ]
    },
    {
      "cell_type": "code",
      "execution_count": null,
      "metadata": {
        "colab": {
          "base_uri": "https://localhost:8080/"
        },
        "id": "6suiLyph-Qhj",
        "outputId": "d3e9ad7a-4273-4762-dd01-d7abaa9b6636"
      },
      "outputs": [
        {
          "name": "stdout",
          "output_type": "stream",
          "text": [
            "Epoch 1/30\n"
          ]
        },
        {
          "name": "stderr",
          "output_type": "stream",
          "text": [
            "/usr/local/lib/python3.7/dist-packages/tensorflow/python/framework/indexed_slices.py:446: UserWarning: Converting sparse IndexedSlices(IndexedSlices(indices=Tensor(\"gradients/cond_3_grad/Identity_1:0\", shape=(None,), dtype=int32), values=Tensor(\"gradients/cond_3_grad/Identity:0\", shape=(None, 64), dtype=float32), dense_shape=Tensor(\"gradients/cond_3_grad/Identity_2:0\", shape=(2,), dtype=int32))) to a dense Tensor of unknown shape. This may consume a large amount of memory.\n",
            "  \"shape. This may consume a large amount of memory.\" % value)\n",
            "/usr/local/lib/python3.7/dist-packages/tensorflow/python/framework/indexed_slices.py:446: UserWarning: Converting sparse IndexedSlices(IndexedSlices(indices=Tensor(\"gradients/rgin_2/embedding_lookup_grad/Reshape_1:0\", shape=(None,), dtype=int32), values=Tensor(\"gradients/rgin_2/embedding_lookup_grad/Reshape:0\", shape=(None, 64), dtype=float32), dense_shape=Tensor(\"gradients/rgin_2/embedding_lookup_grad/Cast:0\", shape=(2,), dtype=int32))) to a dense Tensor of unknown shape. This may consume a large amount of memory.\n",
            "  \"shape. This may consume a large amount of memory.\" % value)\n",
            "/usr/local/lib/python3.7/dist-packages/tensorflow/python/framework/indexed_slices.py:446: UserWarning: Converting sparse IndexedSlices(IndexedSlices(indices=Tensor(\"gradients/cond_1_grad/Identity_1:0\", shape=(None,), dtype=int32), values=Tensor(\"gradients/cond_1_grad/Identity:0\", shape=(None, 64), dtype=float32), dense_shape=Tensor(\"gradients/cond_1_grad/Identity_2:0\", shape=(2,), dtype=int32))) to a dense Tensor of unknown shape. This may consume a large amount of memory.\n",
            "  \"shape. This may consume a large amount of memory.\" % value)\n",
            "/usr/local/lib/python3.7/dist-packages/tensorflow/python/framework/indexed_slices.py:446: UserWarning: Converting sparse IndexedSlices(IndexedSlices(indices=Tensor(\"gradients/rgin/embedding_lookup_grad/Reshape_1:0\", shape=(None,), dtype=int32), values=Tensor(\"gradients/rgin/embedding_lookup_grad/Reshape:0\", shape=(None, 64), dtype=float32), dense_shape=Tensor(\"gradients/rgin/embedding_lookup_grad/Cast:0\", shape=(2,), dtype=int32))) to a dense Tensor of unknown shape. This may consume a large amount of memory.\n",
            "  \"shape. This may consume a large amount of memory.\" % value)\n"
          ]
        },
        {
          "name": "stdout",
          "output_type": "stream",
          "text": [
            "709/709 [==============================] - 53s 57ms/step - loss: 0.2946 - auc: 0.4554 - val_loss: 0.1966 - val_auc: 0.6345\n",
            "Epoch 2/30\n",
            "709/709 [==============================] - 39s 55ms/step - loss: 0.2353 - auc: 0.5345 - val_loss: 0.2013 - val_auc: 0.6140\n",
            "Epoch 3/30\n",
            "709/709 [==============================] - 39s 56ms/step - loss: 0.2199 - auc: 0.5612 - val_loss: 0.2044 - val_auc: 0.6131\n",
            "Epoch 4/30\n",
            "709/709 [==============================] - 39s 56ms/step - loss: 0.2156 - auc: 0.5608 - val_loss: 0.2193 - val_auc: 0.6569\n",
            "Epoch 5/30\n",
            "709/709 [==============================] - 39s 56ms/step - loss: 0.2109 - auc: 0.5663 - val_loss: 0.2196 - val_auc: 0.6638\n",
            "Epoch 6/30\n",
            "709/709 [==============================] - 39s 55ms/step - loss: 0.2009 - auc: 0.6036 - val_loss: 0.1867 - val_auc: 0.6781\n",
            "Epoch 7/30\n",
            "709/709 [==============================] - 39s 55ms/step - loss: 0.1986 - auc: 0.6147 - val_loss: 0.2122 - val_auc: 0.6902\n",
            "Epoch 8/30\n",
            "709/709 [==============================] - 39s 56ms/step - loss: 0.1961 - auc: 0.6207 - val_loss: 0.2112 - val_auc: 0.4612\n",
            "Epoch 9/30\n",
            "709/709 [==============================] - 39s 56ms/step - loss: 0.1935 - auc: 0.6406 - val_loss: 0.1929 - val_auc: 0.6522\n",
            "Epoch 10/30\n",
            "709/709 [==============================] - 39s 56ms/step - loss: 0.1936 - auc: 0.6405 - val_loss: 0.1964 - val_auc: 0.6985\n",
            "Epoch 11/30\n",
            "709/709 [==============================] - 40s 56ms/step - loss: 0.1912 - auc: 0.6459 - val_loss: 0.1855 - val_auc: 0.6792\n",
            "Epoch 12/30\n",
            "709/709 [==============================] - 40s 56ms/step - loss: 0.1904 - auc: 0.6560 - val_loss: 0.1892 - val_auc: 0.6976\n",
            "Epoch 13/30\n",
            "709/709 [==============================] - 39s 56ms/step - loss: 0.1906 - auc: 0.6524 - val_loss: 0.2034 - val_auc: 0.5788\n",
            "Epoch 14/30\n",
            "709/709 [==============================] - 40s 57ms/step - loss: 0.1907 - auc: 0.6547 - val_loss: 0.1840 - val_auc: 0.6714\n",
            "Epoch 15/30\n",
            "709/709 [==============================] - 41s 57ms/step - loss: 0.1889 - auc: 0.6695 - val_loss: 0.1866 - val_auc: 0.7355\n",
            "Epoch 16/30\n",
            "709/709 [==============================] - 39s 56ms/step - loss: 0.1883 - auc: 0.6823 - val_loss: 0.1731 - val_auc: 0.7185\n",
            "Epoch 17/30\n",
            "709/709 [==============================] - 40s 56ms/step - loss: 0.1892 - auc: 0.6722 - val_loss: 0.1968 - val_auc: 0.6845\n",
            "Epoch 18/30\n",
            "709/709 [==============================] - 40s 57ms/step - loss: 0.1875 - auc: 0.6823 - val_loss: 0.1960 - val_auc: 0.6331\n",
            "Epoch 19/30\n",
            "709/709 [==============================] - 39s 55ms/step - loss: 0.1881 - auc: 0.6770 - val_loss: 0.1760 - val_auc: 0.7356\n",
            "Epoch 20/30\n",
            "709/709 [==============================] - 39s 55ms/step - loss: 0.1883 - auc: 0.6752 - val_loss: 0.1874 - val_auc: 0.7174\n",
            "Epoch 21/30\n",
            "709/709 [==============================] - 39s 56ms/step - loss: 0.1880 - auc: 0.6826 - val_loss: 0.1867 - val_auc: 0.7133\n",
            "Epoch 22/30\n",
            "709/709 [==============================] - 39s 55ms/step - loss: 0.1883 - auc: 0.6755 - val_loss: 0.1814 - val_auc: 0.6952\n",
            "Epoch 23/30\n",
            "709/709 [==============================] - 40s 56ms/step - loss: 0.1881 - auc: 0.6827 - val_loss: 0.1961 - val_auc: 0.7167\n",
            "Epoch 24/30\n",
            "709/709 [==============================] - 39s 55ms/step - loss: 0.1881 - auc: 0.6756 - val_loss: 0.1767 - val_auc: 0.7063\n",
            "Epoch 25/30\n",
            "709/709 [==============================] - 39s 56ms/step - loss: 0.1866 - auc: 0.6904 - val_loss: 0.1839 - val_auc: 0.6996\n",
            "Epoch 26/30\n",
            "709/709 [==============================] - 39s 56ms/step - loss: 0.1877 - auc: 0.6795 - val_loss: 0.1962 - val_auc: 0.7105\n",
            "Epoch 27/30\n",
            "709/709 [==============================] - 39s 56ms/step - loss: 0.1868 - auc: 0.6853 - val_loss: 0.1820 - val_auc: 0.6897\n",
            "Epoch 28/30\n",
            "709/709 [==============================] - 39s 56ms/step - loss: 0.1876 - auc: 0.6855 - val_loss: 0.1921 - val_auc: 0.7211\n",
            "Epoch 29/30\n",
            "709/709 [==============================] - 40s 56ms/step - loss: 0.1861 - auc: 0.6899 - val_loss: 0.1747 - val_auc: 0.7187\n",
            "Epoch 30/30\n",
            "709/709 [==============================] - 40s 56ms/step - loss: 0.1873 - auc: 0.6778 - val_loss: 0.1908 - val_auc: 0.6601\n"
          ]
        }
      ],
      "source": [
        "import math\n",
        "\n",
        "batch_size = 30\n",
        "num_batchs = math.ceil(len(training_data) / batch_size)\n",
        "num_batchs_validation = math.ceil(len(validation_set) / batch_size)\n",
        "\n",
        "history = model.fit(\n",
        "    gen_batch(\n",
        "        training_data, batch_size=batch_size, repeat=True\n",
        "    ),\n",
        "    steps_per_epoch=num_batchs,\n",
        "    epochs=30,\n",
        "    validation_data=gen_batch(\n",
        "        validation_set, batch_size=30, repeat=True\n",
        "    ),\n",
        "    validation_steps=num_batchs_validation,\n",
        ")"
      ]
    },
    {
      "cell_type": "code",
      "execution_count": null,
      "metadata": {
        "colab": {
          "base_uri": "https://localhost:8080/",
          "height": 544
        },
        "id": "97UKwqdR-Qhl",
        "outputId": "5fd7cbcb-cf85-460a-ca0d-a56002ccb9c8"
      },
      "outputs": [
        {
          "data": {
            "image/png": "[encoded data removed]",
            "text/plain": [
              "<Figure size 432x288 with 1 Axes>"
            ]
          },
          "metadata": {},
          "output_type": "display_data"
        },
        {
          "data": {
            "image/png": "[encoded data removed]",
            "text/plain": [
              "<Figure size 432x288 with 1 Axes>"
            ]
          },
          "metadata": {},
          "output_type": "display_data"
        }
      ],
      "source": [
        "#showing the loss and val_los from the training data\n",
        "plot_graphs(history, \"loss\")\n",
        "#showing accuracy and val_accuracy from the training data \n",
        "plot_graphs(history, \"auc\")"
      ]
    },
    {
      "cell_type": "code",
      "execution_count": null,
      "metadata": {
        "id": "ouftvWl3-Qhk"
      },
      "outputs": [],
      "source": [
        "y_pred = model.predict(\n",
        "    gen_batch(test_data, batch_size=16, shuffle=False)\n",
        ")\n",
        "y_pred = np.reshape(y_pred, -1)"
      ]
    },
    {
      "cell_type": "code",
      "execution_count": null,
      "metadata": {
        "id": "gq9ERjEv-Qhl"
      },
      "outputs": [],
      "source": [
        "import pandas as pd \n",
        "submission = pd.DataFrame({'label':y_pred})\n",
        "submission.index.name = 'id'\n",
        "submission.to_csv('/content/drive/MyDrive/DM_assignment_6/output.csv')"
      ]
    },
    {
      "cell_type": "markdown",
      "source": [
        "----\n",
        "- **Ater performing the model we ralize that the model perform well comparing to the previous trial and this is expected, there is no overfitting or underfitting.** \n",
        "\n",
        "----"
      ],
      "metadata": {
        "id": "ikcVHwSZDHLj"
      }
    },
    {
      "cell_type": "markdown",
      "metadata": {
        "id": "T3vQSEyPXPg4"
      },
      "source": [
        "# **Up sampling**"
      ]
    },
    {
      "cell_type": "markdown",
      "metadata": {
        "id": "IXHwN5yE-liD"
      },
      "source": [
        "-----\n",
        "**We realize that the datais very unbalanced** \n",
        "\n",
        "------"
      ]
    },
    {
      "cell_type": "markdown",
      "metadata": {
        "id": "aobhtP_zBwAB"
      },
      "source": [
        "##**Pre-processing**"
      ]
    },
    {
      "cell_type": "markdown",
      "metadata": {
        "id": "mLyUaMgxCDUV"
      },
      "source": [
        "###**Read the data**"
      ]
    },
    {
      "cell_type": "code",
      "execution_count": null,
      "metadata": {
        "colab": {
          "base_uri": "https://localhost:8080/"
        },
        "id": "8QtW11skkpZy",
        "outputId": "2e960b99-89a2-4306-c41a-2bac7a527bf3"
      },
      "outputs": [
        {
          "data": {
            "application/vnd.jupyter.widget-view+json": {
              "model_id": "120d440548b346408a16851aedbcd980",
              "version_major": 2,
              "version_minor": 0
            },
            "text/plain": [
              "  0%|          | 0/25024 [00:00<?, ?it/s]"
            ]
          },
          "metadata": {},
          "output_type": "display_data"
        }
      ],
      "source": [
        "#Reading traing data \n",
        "training_data = read_sdf('/content/drive/MyDrive/DM_assignment_6/train.sdf')"
      ]
    },
    {
      "cell_type": "code",
      "execution_count": null,
      "metadata": {
        "colab": {
          "base_uri": "https://localhost:8080/"
        },
        "id": "btS9WNdEmbts",
        "outputId": "568163a2-0efb-41c2-c7d3-6ba21c3bd44d"
      },
      "outputs": [
        {
          "data": {
            "text/html": [
              "\n",
              "  <div id=\"df-e1f226f7-ca4e-4f7e-884f-96a4c6a89e16\">\n",
              "    <div class=\"colab-df-container\">\n",
              "      <div>\n",
              "<style scoped>\n",
              "    .dataframe tbody tr th:only-of-type {\n",
              "        vertical-align: middle;\n",
              "    }\n",
              "\n",
              "    .dataframe tbody tr th {\n",
              "        vertical-align: top;\n",
              "    }\n",
              "\n",
              "    .dataframe thead th {\n",
              "        text-align: right;\n",
              "    }\n",
              "</style>\n",
              "<table border=\"1\" class=\"dataframe\">\n",
              "  <thead>\n",
              "    <tr style=\"text-align: right;\">\n",
              "      <th></th>\n",
              "      <th>nodes</th>\n",
              "      <th>edge</th>\n",
              "      <th>label</th>\n",
              "    </tr>\n",
              "  </thead>\n",
              "  <tbody>\n",
              "    <tr>\n",
              "      <th>0</th>\n",
              "      <td>[S, O, O, O, O, N, N, N, C, C, C, C, C, C, C, ...</td>\n",
              "      <td>[[0, 8], [0, 14], [1, 10], [2, 11], [3, 7], [4...</td>\n",
              "      <td>0</td>\n",
              "    </tr>\n",
              "    <tr>\n",
              "      <th>1</th>\n",
              "      <td>[O, O, O, O, O, O, N, N, N, C, C, C, C, C, C, ...</td>\n",
              "      <td>[[0, 6], [0, 15], [1, 15], [2, 7], [3, 8], [4,...</td>\n",
              "      <td>0</td>\n",
              "    </tr>\n",
              "    <tr>\n",
              "      <th>2</th>\n",
              "      <td>[F, F, F, O, O, O, O, O, N, N, C, C, C, C, C, ...</td>\n",
              "      <td>[[0, 19], [1, 19], [2, 19], [3, 16], [4, 28], ...</td>\n",
              "      <td>0</td>\n",
              "    </tr>\n",
              "    <tr>\n",
              "      <th>3</th>\n",
              "      <td>[Cl, S, S, O, O, O, O, N, N, N, N, C, C, C, C,...</td>\n",
              "      <td>[[0, 12], [1, 15], [1, 18], [2, 4], [2, 5], [2...</td>\n",
              "      <td>0</td>\n",
              "    </tr>\n",
              "    <tr>\n",
              "      <th>4</th>\n",
              "      <td>[S, O, O, N, N, N, N, N, N, C, C, C, C, C, C, ...</td>\n",
              "      <td>[[0, 1], [0, 2], [0, 5], [0, 9], [3, 4], [3, 1...</td>\n",
              "      <td>0</td>\n",
              "    </tr>\n",
              "    <tr>\n",
              "      <th>...</th>\n",
              "      <td>...</td>\n",
              "      <td>...</td>\n",
              "      <td>...</td>\n",
              "    </tr>\n",
              "    <tr>\n",
              "      <th>25019</th>\n",
              "      <td>[O, O, O, O, O, O, N, N, C, C, C, C, C, C, C, ...</td>\n",
              "      <td>[[0, 8], [0, 14], [1, 10], [2, 12], [3, 13], [...</td>\n",
              "      <td>0</td>\n",
              "    </tr>\n",
              "    <tr>\n",
              "      <th>25020</th>\n",
              "      <td>[O, O, O, O, O, N, C, C, C, C, C, C, C, C, C, ...</td>\n",
              "      <td>[[0, 9], [1, 11], [2, 16], [2, 19], [3, 16], [...</td>\n",
              "      <td>0</td>\n",
              "    </tr>\n",
              "    <tr>\n",
              "      <th>25021</th>\n",
              "      <td>[O, O, O, O, O, O, O, O, O, N, C, C, C, C, C, ...</td>\n",
              "      <td>[[0, 12], [0, 16], [1, 10], [2, 11], [3, 15], ...</td>\n",
              "      <td>0</td>\n",
              "    </tr>\n",
              "    <tr>\n",
              "      <th>25022</th>\n",
              "      <td>[S, O, O, O, O, N, N, N, C, C, C, C, C, C, C, ...</td>\n",
              "      <td>[[0, 11], [0, 12], [1, 21], [1, 27], [2, 22], ...</td>\n",
              "      <td>0</td>\n",
              "    </tr>\n",
              "    <tr>\n",
              "      <th>25023</th>\n",
              "      <td>[Cl, Cl, Cl, S, O, O, O, O, N, N, N, N, N, C, ...</td>\n",
              "      <td>[[0, 25], [1, 26], [2, 29], [3, 13], [3, 15], ...</td>\n",
              "      <td>0</td>\n",
              "    </tr>\n",
              "  </tbody>\n",
              "</table>\n",
              "<p>25024 rows × 3 columns</p>\n",
              "</div>\n",
              "      <button class=\"colab-df-convert\" onclick=\"convertToInteractive('df-e1f226f7-ca4e-4f7e-884f-96a4c6a89e16')\"\n",
              "              title=\"Convert this dataframe to an interactive table.\"\n",
              "              style=\"display:none;\">\n",
              "        \n",
              "  <svg xmlns=\"http://www.w3.org/2000/svg\" height=\"24px\"viewBox=\"0 0 24 24\"\n",
              "       width=\"24px\">\n",
              "    <path d=\"M0 0h24v24H0V0z\" fill=\"none\"/>\n",
              "    <path d=\"M18.56 5.44l.94 2.06.94-2.06 2.06-.94-2.06-.94-.94-2.06-.94 2.06-2.06.94zm-11 1L8.5 8.5l.94-2.06 2.06-.94-2.06-.94L8.5 2.5l-.94 2.06-2.06.94zm10 10l.94 2.06.94-2.06 2.06-.94-2.06-.94-.94-2.06-.94 2.06-2.06.94z\"/><path d=\"M17.41 7.96l-1.37-1.37c-.4-.4-.92-.59-1.43-.59-.52 0-1.04.2-1.43.59L10.3 9.45l-7.72 7.72c-.78.78-.78 2.05 0 2.83L4 21.41c.39.39.9.59 1.41.59.51 0 1.02-.2 1.41-.59l7.78-7.78 2.81-2.81c.8-.78.8-2.07 0-2.86zM5.41 20L4 18.59l7.72-7.72 1.47 1.35L5.41 20z\"/>\n",
              "  </svg>\n",
              "      </button>\n",
              "      \n",
              "  <style>\n",
              "    .colab-df-container {\n",
              "      display:flex;\n",
              "      flex-wrap:wrap;\n",
              "      gap: 12px;\n",
              "    }\n",
              "\n",
              "    .colab-df-convert {\n",
              "      background-color: #E8F0FE;\n",
              "      border: none;\n",
              "      border-radius: 50%;\n",
              "      cursor: pointer;\n",
              "      display: none;\n",
              "      fill: #1967D2;\n",
              "      height: 32px;\n",
              "      padding: 0 0 0 0;\n",
              "      width: 32px;\n",
              "    }\n",
              "\n",
              "    .colab-df-convert:hover {\n",
              "      background-color: #E2EBFA;\n",
              "      box-shadow: 0px 1px 2px rgba(60, 64, 67, 0.3), 0px 1px 3px 1px rgba(60, 64, 67, 0.15);\n",
              "      fill: #174EA6;\n",
              "    }\n",
              "\n",
              "    [theme=dark] .colab-df-convert {\n",
              "      background-color: #3B4455;\n",
              "      fill: #D2E3FC;\n",
              "    }\n",
              "\n",
              "    [theme=dark] .colab-df-convert:hover {\n",
              "      background-color: #434B5C;\n",
              "      box-shadow: 0px 1px 3px 1px rgba(0, 0, 0, 0.15);\n",
              "      filter: drop-shadow(0px 1px 2px rgba(0, 0, 0, 0.3));\n",
              "      fill: #FFFFFF;\n",
              "    }\n",
              "  </style>\n",
              "\n",
              "      <script>\n",
              "        const buttonEl =\n",
              "          document.querySelector('#df-e1f226f7-ca4e-4f7e-884f-96a4c6a89e16 button.colab-df-convert');\n",
              "        buttonEl.style.display =\n",
              "          google.colab.kernel.accessAllowed ? 'block' : 'none';\n",
              "\n",
              "        async function convertToInteractive(key) {\n",
              "          const element = document.querySelector('#df-e1f226f7-ca4e-4f7e-884f-96a4c6a89e16');\n",
              "          const dataTable =\n",
              "            await google.colab.kernel.invokeFunction('convertToInteractive',\n",
              "                                                     [key], {});\n",
              "          if (!dataTable) return;\n",
              "\n",
              "          const docLinkHtml = 'Like what you see? Visit the ' +\n",
              "            '<a target=\"_blank\" href=https://colab.research.google.com/notebooks/data_table.ipynb>data table notebook</a>'\n",
              "            + ' to learn more about interactive tables.';\n",
              "          element.innerHTML = '';\n",
              "          dataTable['output_type'] = 'display_data';\n",
              "          await google.colab.output.renderOutput(dataTable, element);\n",
              "          const docLink = document.createElement('div');\n",
              "          docLink.innerHTML = docLinkHtml;\n",
              "          element.appendChild(docLink);\n",
              "        }\n",
              "      </script>\n",
              "    </div>\n",
              "  </div>\n",
              "  "
            ],
            "text/plain": [
              "                                                   nodes  \\\n",
              "0      [S, O, O, O, O, N, N, N, C, C, C, C, C, C, C, ...   \n",
              "1      [O, O, O, O, O, O, N, N, N, C, C, C, C, C, C, ...   \n",
              "2      [F, F, F, O, O, O, O, O, N, N, C, C, C, C, C, ...   \n",
              "3      [Cl, S, S, O, O, O, O, N, N, N, N, C, C, C, C,...   \n",
              "4      [S, O, O, N, N, N, N, N, N, C, C, C, C, C, C, ...   \n",
              "...                                                  ...   \n",
              "25019  [O, O, O, O, O, O, N, N, C, C, C, C, C, C, C, ...   \n",
              "25020  [O, O, O, O, O, N, C, C, C, C, C, C, C, C, C, ...   \n",
              "25021  [O, O, O, O, O, O, O, O, O, N, C, C, C, C, C, ...   \n",
              "25022  [S, O, O, O, O, N, N, N, C, C, C, C, C, C, C, ...   \n",
              "25023  [Cl, Cl, Cl, S, O, O, O, O, N, N, N, N, N, C, ...   \n",
              "\n",
              "                                                    edge  label  \n",
              "0      [[0, 8], [0, 14], [1, 10], [2, 11], [3, 7], [4...      0  \n",
              "1      [[0, 6], [0, 15], [1, 15], [2, 7], [3, 8], [4,...      0  \n",
              "2      [[0, 19], [1, 19], [2, 19], [3, 16], [4, 28], ...      0  \n",
              "3      [[0, 12], [1, 15], [1, 18], [2, 4], [2, 5], [2...      0  \n",
              "4      [[0, 1], [0, 2], [0, 5], [0, 9], [3, 4], [3, 1...      0  \n",
              "...                                                  ...    ...  \n",
              "25019  [[0, 8], [0, 14], [1, 10], [2, 12], [3, 13], [...      0  \n",
              "25020  [[0, 9], [1, 11], [2, 16], [2, 19], [3, 16], [...      0  \n",
              "25021  [[0, 12], [0, 16], [1, 10], [2, 11], [3, 15], ...      0  \n",
              "25022  [[0, 11], [0, 12], [1, 21], [1, 27], [2, 22], ...      0  \n",
              "25023  [[0, 25], [1, 26], [2, 29], [3, 13], [3, 15], ...      0  \n",
              "\n",
              "[25024 rows x 3 columns]"
            ]
          },
          "execution_count": 15,
          "metadata": {},
          "output_type": "execute_result"
        }
      ],
      "source": [
        "import pandas as pd\n",
        "\n",
        "df_train=pd.DataFrame(training_data,columns=[\"nodes\",\"edge\",\"label\"])\n",
        "df_train"
      ]
    },
    {
      "cell_type": "markdown",
      "metadata": {
        "id": "GyBjpV4wCKtO"
      },
      "source": [
        "### Upsampling "
      ]
    },
    {
      "cell_type": "code",
      "execution_count": null,
      "metadata": {
        "colab": {
          "base_uri": "https://localhost:8080/"
        },
        "id": "DCl7aY5xnFzn",
        "outputId": "8de4a21a-661d-4b67-b4ed-2d99a717e83a"
      },
      "outputs": [
        {
          "name": "stdout",
          "output_type": "stream",
          "text": [
            "(23806, 3)\n",
            "(1218, 3)\n"
          ]
        }
      ],
      "source": [
        "#upsampling the label data \n",
        "df_class0 = df_train[df_train[\"label\"]==0]\n",
        "df_class1 = df_train[df_train[\"label\"]==1]\n",
        "\n",
        "print(df_class0.shape)\n",
        "print(df_class1.shape)"
      ]
    },
    {
      "cell_type": "code",
      "execution_count": null,
      "metadata": {
        "colab": {
          "base_uri": "https://localhost:8080/"
        },
        "id": "qVAyJcnHo9i1",
        "outputId": "e1772c7f-3c63-4ddb-fc07-bd0b7cd29792"
      },
      "outputs": [
        {
          "name": "stdout",
          "output_type": "stream",
          "text": [
            "                                                   nodes  \\\n",
            "23357  [O, O, O, O, O, C, C, C, C, C, C, C, C, C, C, ...   \n",
            "17640  [O, O, O, O, O, O, O, C, C, C, C, C, C, C, C, ...   \n",
            "23463  [O, O, N, N, C, C, C, C, C, C, C, C, C, C, C, ...   \n",
            "22676  [O, O, O, O, O, O, O, C, C, C, C, C, C, C, C, ...   \n",
            "21324  [S, S, O, O, O, O, N, N, C, C, C, C, C, C, C, ...   \n",
            "...                                                  ...   \n",
            "16643  [O, O, O, O, O, O, N, C, C, C, C, C, C, C, C, ...   \n",
            "5670   [Cl, O, O, O, O, O, O, O, O, N, N, N, N, C, C,...   \n",
            "4221   [Cl, Cl, O, O, O, O, N, N, N, C, C, C, C, C, C...   \n",
            "14241  [Cl, O, O, O, O, O, O, O, O, O, O, C, C, C, C,...   \n",
            "19722               [O, O, O, O, N, N, N, C, C, C, C, C]   \n",
            "\n",
            "                                                    edge  label  \n",
            "23357  [[8, 0], [0, 19], [1, 17], [1, 22], [2, 19], [...      1  \n",
            "17640  [[7, 0], [8, 0], [1, 14], [1, 15], [11, 2], [1...      1  \n",
            "23463  [[0, 5], [1, 4], [2, 4], [2, 5], [2, 6], [3, 4...      1  \n",
            "22676  [[0, 9], [0, 11], [1, 9], [1, 19], [2, 10], [2...      1  \n",
            "21324  [[0, 8], [0, 13], [1, 11], [1, 12], [16, 2], [...      1  \n",
            "...                                                  ...    ...  \n",
            "16643  [[0, 9], [0, 24], [1, 12], [1, 25], [2, 14], [...      1  \n",
            "5670   [[0, 32], [1, 17], [2, 25], [2, 36], [3, 27], ...      1  \n",
            "4221   [[0, 30], [1, 31], [2, 15], [2, 27], [3, 13], ...      1  \n",
            "14241  [[30, 0], [11, 1], [14, 1], [2, 13], [2, 22], ...      1  \n",
            "19722  [[0, 8], [0, 9], [1, 8], [2, 10], [3, 10], [4,...      1  \n",
            "\n",
            "[23806 rows x 3 columns]\n"
          ]
        }
      ],
      "source": [
        "from sklearn.utils import resample\n",
        "df_class1_upsample = resample(df_class1, replace=True, n_samples=len(df_class0), random_state=42)\n",
        "print(df_class1_upsample)"
      ]
    },
    {
      "cell_type": "code",
      "execution_count": null,
      "metadata": {
        "colab": {
          "base_uri": "https://localhost:8080/"
        },
        "id": "mXOey2Bkqasm",
        "outputId": "80aa27e0-f9a7-4703-b0b4-e0e244458ecc"
      },
      "outputs": [
        {
          "name": "stdout",
          "output_type": "stream",
          "text": [
            "0    23806\n",
            "1    23806\n",
            "Name: label, dtype: int64\n"
          ]
        }
      ],
      "source": [
        "df_upsample =pd.concat([df_class0,df_class1_upsample])\n",
        "print(df_upsample[\"label\"].value_counts())"
      ]
    },
    {
      "cell_type": "code",
      "execution_count": null,
      "metadata": {
        "id": "ys7-8dnlsA9M"
      },
      "outputs": [],
      "source": [
        "df_upsampling = df_upsample.to_numpy()"
      ]
    },
    {
      "cell_type": "code",
      "execution_count": null,
      "metadata": {
        "id": "VPDQbfXlm3gf"
      },
      "outputs": [],
      "source": [
        "#Splitting traing data \n",
        "training_data, validation_set = train_test_split(df_upsampling, test_size=0.15,)"
      ]
    },
    {
      "cell_type": "code",
      "execution_count": null,
      "metadata": {
        "id": "x1hffEMXrZXF"
      },
      "outputs": [],
      "source": [
        "# training_data"
      ]
    },
    {
      "cell_type": "markdown",
      "metadata": {
        "id": "aTuvA4UIdqmh"
      },
      "source": [
        "\n",
        "###Toknization"
      ]
    },
    {
      "cell_type": "code",
      "execution_count": null,
      "metadata": {
        "id": "LD1hMalQdqmt"
      },
      "outputs": [],
      "source": [
        "from tensorflow.keras.preprocessing.text import Tokenizer\n",
        "\n",
        "max_vocab = 500\n",
        "max_len = 100\n",
        "\n",
        "\n",
        "# build vocabulary from training set\n",
        "all_nodes = [s[0] for s in training_data]\n",
        "tokenizer = Tokenizer(num_words=max_vocab)\n",
        "tokenizer.fit_on_texts(all_nodes)"
      ]
    },
    {
      "cell_type": "markdown",
      "metadata": {
        "id": "F6Hth4LxvY00"
      },
      "source": [
        "## **Trial_6**\n",
        "\n",
        "----"
      ]
    },
    {
      "cell_type": "markdown",
      "metadata": {
        "id": "nzggmohriQTh"
      },
      "source": [
        "### **RGAT**"
      ]
    },
    {
      "cell_type": "code",
      "execution_count": null,
      "metadata": {
        "colab": {
          "base_uri": "https://localhost:8080/"
        },
        "id": "dHDsrLRyXPhA",
        "outputId": "7e9cf73e-5a48-4f2b-8ec5-79bb662ac9fa"
      },
      "outputs": [
        {
          "name": "stdout",
          "output_type": "stream",
          "text": [
            "gnn_out KerasTensor(type_spec=TensorSpec(shape=(None, 64), dtype=tf.float32, name=None), name='gnn/StatefulPartitionedCall:0', description=\"created by layer 'gnn'\")\n",
            "mean: KerasTensor(type_spec=TensorSpec(shape=(None, 64), dtype=tf.float32, name=None), name='tf.math.segment_mean/SegmentMean:0', description=\"created by layer 'tf.math.segment_mean'\")\n",
            "pred: KerasTensor(type_spec=TensorSpec(shape=(None, 1), dtype=tf.float32, name=None), name='dense/Sigmoid:0', description=\"created by layer 'dense'\")\n",
            "Model: \"model\"\n",
            "__________________________________________________________________________________________________\n",
            " Layer (type)                   Output Shape         Param #     Connected to                     \n",
            "==================================================================================================\n",
            " input_3 (InputLayer)           [(None,)]            0           []                               \n",
            "                                                                                                  \n",
            " input_1 (InputLayer)           [(None,)]            0           []                               \n",
            "                                                                                                  \n",
            " tf.math.reduce_max (TFOpLambda  ()                  0           ['input_3[0][0]']                \n",
            " )                                                                                                \n",
            "                                                                                                  \n",
            " embedding (Embedding)          (None, 20)           10000       ['input_1[0][0]']                \n",
            "                                                                                                  \n",
            " input_2 (InputLayer)           [(None, 2)]          0           []                               \n",
            "                                                                                                  \n",
            " tf.__operators__.add (TFOpLamb  ()                  0           ['tf.math.reduce_max[0][0]']     \n",
            " da)                                                                                              \n",
            "                                                                                                  \n",
            " gnn (GNN)                      (None, 64)           72064       ['embedding[0][0]',              \n",
            "                                                                  'input_2[0][0]',                \n",
            "                                                                  'input_3[0][0]',                \n",
            "                                                                  'tf.__operators__.add[0][0]']   \n",
            "                                                                                                  \n",
            " tf.math.segment_mean (TFOpLamb  (None, 64)          0           ['gnn[0][0]',                    \n",
            " da)                                                              'input_3[0][0]']                \n",
            "                                                                                                  \n",
            " dense (Dense)                  (None, 1)            65          ['tf.math.segment_mean[0][0]']   \n",
            "                                                                                                  \n",
            "==================================================================================================\n",
            "Total params: 82,129\n",
            "Trainable params: 82,129\n",
            "Non-trainable params: 0\n",
            "__________________________________________________________________________________________________\n"
          ]
        }
      ],
      "source": [
        "import tensorflow as tf\n",
        "from tensorflow.math import segment_mean\n",
        "from tensorflow import keras\n",
        "from tensorflow.keras import Input, Model\n",
        "from tensorflow.keras.layers import Embedding, Dense\n",
        "from tensorflow.keras.optimizers import Adam\n",
        "\n",
        "data = keras.Input(batch_shape=(None,))\n",
        "\n",
        "\n",
        "edge = keras.Input(batch_shape=(None, 2), dtype=tf.int32)\n",
        "node2graph = keras.Input(batch_shape=(None,), dtype=tf.int32)\n",
        "embeded = Embedding(tokenizer.num_words, 20)(data)\n",
        "\n",
        "# number of graphs (number of samples)\n",
        "num_graph = tf.reduce_max(node2graph)+1\n",
        "\n",
        "gnn_input = GNNInput(\n",
        "    node_features=embeded,\n",
        "    adjacency_lists=(edge,),\n",
        "    node_to_graph_map=node2graph, \n",
        "    num_graphs=num_graph,\n",
        ")\n",
        "\n",
        "\n",
        "params = GNN.get_default_hyperparameters()\n",
        "params[\"hidden_dim\"] = 64\n",
        "params[\"num_aggr_MLP_HIDDEN_LAYERS\"] = 32\n",
        "params['message_calculation_class']= 'RGAT'\n",
        "params['num_heads']= 4\n",
        "gnn_layer = GNN(params)\n",
        "\n",
        "gnn_out = gnn_layer(gnn_input)\n",
        "\n",
        "print('gnn_out', gnn_out)\n",
        "\n",
        "\n",
        "avg = segment_mean(\n",
        "    data=gnn_out,\n",
        "    segment_ids=node2graph\n",
        ")\n",
        "print('mean:', avg)\n",
        "\n",
        "pred = Dense(1, activation='sigmoid')(avg)\n",
        "print('pred:', pred)\n",
        "\n",
        "model = Model(\n",
        "    inputs={\n",
        "        'data': data,\n",
        "        'edges': edge,\n",
        "        'node2grah': node2graph,\n",
        "    },\n",
        "    outputs=pred\n",
        ")\n",
        "model.summary()"
      ]
    },
    {
      "cell_type": "code",
      "execution_count": null,
      "metadata": {
        "id": "6TP4mSGNXPhB"
      },
      "outputs": [],
      "source": [
        "model.compile(\n",
        "    loss='BinaryCrossentropy',\n",
        "    metrics=['AUC']\n",
        ")"
      ]
    },
    {
      "cell_type": "code",
      "execution_count": null,
      "metadata": {
        "colab": {
          "background_save": true,
          "base_uri": "https://localhost:8080/"
        },
        "id": "ovsEu9gzXPhB",
        "outputId": "0035a176-9951-4018-ecea-e1f746a30c7e"
      },
      "outputs": [
        {
          "name": "stdout",
          "output_type": "stream",
          "text": [
            "Epoch 1/30\n"
          ]
        },
        {
          "name": "stderr",
          "output_type": "stream",
          "text": [
            "/usr/local/lib/python3.7/dist-packages/tensorflow/python/framework/indexed_slices.py:446: UserWarning: Converting sparse IndexedSlices(IndexedSlices(indices=Tensor(\"gradients/GatherV2_1_grad/Reshape_1:0\", shape=(None,), dtype=int32), values=Tensor(\"gradients/GatherV2_1_grad/Reshape:0\", shape=(None,), dtype=float32), dense_shape=Tensor(\"gradients/GatherV2_1_grad/Cast:0\", shape=(1,), dtype=int32))) to a dense Tensor of unknown shape. This may consume a large amount of memory.\n",
            "  \"shape. This may consume a large amount of memory.\" % value)\n",
            "/usr/local/lib/python3.7/dist-packages/tensorflow/python/framework/indexed_slices.py:446: UserWarning: Converting sparse IndexedSlices(IndexedSlices(indices=Tensor(\"gradients/GatherV2_grad/Reshape_1:0\", shape=(None,), dtype=int32), values=Tensor(\"gradients/GatherV2_grad/Reshape:0\", shape=(None,), dtype=float32), dense_shape=Tensor(\"gradients/GatherV2_grad/Cast:0\", shape=(1,), dtype=int32))) to a dense Tensor of unknown shape. This may consume a large amount of memory.\n",
            "  \"shape. This may consume a large amount of memory.\" % value)\n",
            "/usr/local/lib/python3.7/dist-packages/tensorflow/python/framework/indexed_slices.py:446: UserWarning: Converting sparse IndexedSlices(IndexedSlices(indices=Tensor(\"gradients/cond_3_grad/Identity_1:0\", shape=(None,), dtype=int32), values=Tensor(\"gradients/cond_3_grad/Identity:0\", shape=(None, 64), dtype=float32), dense_shape=Tensor(\"gradients/cond_3_grad/Identity_2:0\", shape=(2,), dtype=int32))) to a dense Tensor of unknown shape. This may consume a large amount of memory.\n",
            "  \"shape. This may consume a large amount of memory.\" % value)\n",
            "/usr/local/lib/python3.7/dist-packages/tensorflow/python/framework/indexed_slices.py:446: UserWarning: Converting sparse IndexedSlices(IndexedSlices(indices=Tensor(\"gradients/concat_3:0\", shape=(None,), dtype=int32), values=Tensor(\"gradients/concat_2:0\", shape=(None, 64), dtype=float32), dense_shape=Tensor(\"gradients/rgat_2/embedding_lookup_grad/Cast:0\", shape=(2,), dtype=int32))) to a dense Tensor of unknown shape. This may consume a large amount of memory.\n",
            "  \"shape. This may consume a large amount of memory.\" % value)\n",
            "/usr/local/lib/python3.7/dist-packages/tensorflow/python/framework/indexed_slices.py:446: UserWarning: Converting sparse IndexedSlices(IndexedSlices(indices=Tensor(\"gradients/cond_1_grad/Identity_1:0\", shape=(None,), dtype=int32), values=Tensor(\"gradients/cond_1_grad/Identity:0\", shape=(None, 64), dtype=float32), dense_shape=Tensor(\"gradients/cond_1_grad/Identity_2:0\", shape=(2,), dtype=int32))) to a dense Tensor of unknown shape. This may consume a large amount of memory.\n",
            "  \"shape. This may consume a large amount of memory.\" % value)\n",
            "/usr/local/lib/python3.7/dist-packages/tensorflow/python/framework/indexed_slices.py:446: UserWarning: Converting sparse IndexedSlices(IndexedSlices(indices=Tensor(\"gradients/rgat/embedding_lookup_grad/Reshape_1:0\", shape=(None,), dtype=int32), values=Tensor(\"gradients/rgat/embedding_lookup_grad/Reshape:0\", shape=(None, 64), dtype=float32), dense_shape=Tensor(\"gradients/rgat/embedding_lookup_grad/Cast:0\", shape=(2,), dtype=int32))) to a dense Tensor of unknown shape. This may consume a large amount of memory.\n",
            "  \"shape. This may consume a large amount of memory.\" % value)\n",
            "/usr/local/lib/python3.7/dist-packages/tensorflow/python/framework/indexed_slices.py:446: UserWarning: Converting sparse IndexedSlices(IndexedSlices(indices=Tensor(\"gradients/rgat/embedding_lookup_1_grad/Reshape_1:0\", shape=(None,), dtype=int32), values=Tensor(\"gradients/rgat/embedding_lookup_1_grad/Reshape:0\", shape=(None, 64), dtype=float32), dense_shape=Tensor(\"gradients/rgat/embedding_lookup_1_grad/Cast:0\", shape=(2,), dtype=int32))) to a dense Tensor of unknown shape. This may consume a large amount of memory.\n",
            "  \"shape. This may consume a large amount of memory.\" % value)\n"
          ]
        },
        {
          "name": "stdout",
          "output_type": "stream",
          "text": [
            "1349/1349 [==============================] - 99s 69ms/step - loss: 0.6186 - auc: 0.7172 - val_loss: 0.5940 - val_auc: 0.7580\n",
            "Epoch 2/30\n",
            "1349/1349 [==============================] - 93s 69ms/step - loss: 0.5805 - auc: 0.7663 - val_loss: 0.5685 - val_auc: 0.7796\n",
            "Epoch 3/30\n",
            "1349/1349 [==============================] - 93s 69ms/step - loss: 0.5589 - auc: 0.7900 - val_loss: 0.5446 - val_auc: 0.8025\n",
            "Epoch 4/30\n",
            "1349/1349 [==============================] - 94s 70ms/step - loss: 0.5346 - auc: 0.8106 - val_loss: 0.5161 - val_auc: 0.8254\n",
            "Epoch 5/30\n",
            "1349/1349 [==============================] - 93s 69ms/step - loss: 0.5158 - auc: 0.8255 - val_loss: 0.5085 - val_auc: 0.8359\n",
            "Epoch 6/30\n",
            "1349/1349 [==============================] - 93s 69ms/step - loss: 0.4996 - auc: 0.8388 - val_loss: 0.4935 - val_auc: 0.8488\n",
            "Epoch 7/30\n",
            "1349/1349 [==============================] - 111s 82ms/step - loss: 0.4850 - auc: 0.8494 - val_loss: 0.4780 - val_auc: 0.8599\n",
            "Epoch 8/30\n",
            "1349/1349 [==============================] - 95s 70ms/step - loss: 0.4674 - auc: 0.8616 - val_loss: 0.4555 - val_auc: 0.8714\n",
            "Epoch 9/30\n",
            "1349/1349 [==============================] - 95s 71ms/step - loss: 0.4538 - auc: 0.8706 - val_loss: 0.4328 - val_auc: 0.8817\n",
            "Epoch 10/30\n",
            "1349/1349 [==============================] - 94s 69ms/step - loss: 0.4411 - auc: 0.8779 - val_loss: 0.4084 - val_auc: 0.8965\n",
            "Epoch 11/30\n",
            "1349/1349 [==============================] - 94s 69ms/step - loss: 0.4323 - auc: 0.8841 - val_loss: 0.4141 - val_auc: 0.8952\n",
            "Epoch 12/30\n",
            "1349/1349 [==============================] - 94s 69ms/step - loss: 0.4214 - auc: 0.8898 - val_loss: 0.4034 - val_auc: 0.8985\n",
            "Epoch 13/30\n",
            "1349/1349 [==============================] - 93s 69ms/step - loss: 0.4145 - auc: 0.8933 - val_loss: 0.3943 - val_auc: 0.9052\n",
            "Epoch 14/30\n",
            "1349/1349 [==============================] - 93s 69ms/step - loss: 0.4035 - auc: 0.8996 - val_loss: 0.3905 - val_auc: 0.9061\n",
            "Epoch 15/30\n",
            "1349/1349 [==============================] - 92s 68ms/step - loss: 0.3956 - auc: 0.9034 - val_loss: 0.3761 - val_auc: 0.9148\n",
            "Epoch 16/30\n",
            "1349/1349 [==============================] - 93s 69ms/step - loss: 0.3916 - auc: 0.9057 - val_loss: 0.3701 - val_auc: 0.9157\n",
            "Epoch 17/30\n",
            "1349/1349 [==============================] - 92s 68ms/step - loss: 0.3838 - auc: 0.9093 - val_loss: 0.3606 - val_auc: 0.9199\n",
            "Epoch 18/30\n",
            "1349/1349 [==============================] - 92s 68ms/step - loss: 0.3801 - auc: 0.9112 - val_loss: 0.3509 - val_auc: 0.9242\n",
            "Epoch 19/30\n",
            "1349/1349 [==============================] - 91s 67ms/step - loss: 0.3733 - auc: 0.9143 - val_loss: 0.3625 - val_auc: 0.9199\n",
            "Epoch 20/30\n",
            "1349/1349 [==============================] - 91s 67ms/step - loss: 0.3678 - auc: 0.9166 - val_loss: 0.3457 - val_auc: 0.9278\n",
            "Epoch 21/30\n",
            "1349/1349 [==============================] - 91s 68ms/step - loss: 0.3627 - auc: 0.9190 - val_loss: 0.3427 - val_auc: 0.9272\n",
            "Epoch 22/30\n",
            "1349/1349 [==============================] - 92s 68ms/step - loss: 0.3579 - auc: 0.9212 - val_loss: 0.3480 - val_auc: 0.9321\n",
            "Epoch 23/30\n",
            "1349/1349 [==============================] - 95s 71ms/step - loss: 0.3499 - auc: 0.9244 - val_loss: 0.3513 - val_auc: 0.9281\n",
            "Epoch 24/30\n",
            "1349/1349 [==============================] - 95s 70ms/step - loss: 0.3505 - auc: 0.9248 - val_loss: 0.3746 - val_auc: 0.9310\n",
            "Epoch 25/30\n",
            "1349/1349 [==============================] - 93s 69ms/step - loss: 0.3427 - auc: 0.9277 - val_loss: 0.3216 - val_auc: 0.9360\n",
            "Epoch 26/30\n",
            "1349/1349 [==============================] - 92s 68ms/step - loss: 0.3384 - auc: 0.9294 - val_loss: 0.3298 - val_auc: 0.9337\n",
            "Epoch 27/30\n",
            "1349/1349 [==============================] - 92s 68ms/step - loss: 0.3387 - auc: 0.9291 - val_loss: 0.3281 - val_auc: 0.9365\n",
            "Epoch 28/30\n",
            "1349/1349 [==============================] - 92s 68ms/step - loss: 0.3374 - auc: 0.9299 - val_loss: 0.3155 - val_auc: 0.9390\n",
            "Epoch 29/30\n",
            "1349/1349 [==============================] - 93s 69ms/step - loss: 0.3300 - auc: 0.9333 - val_loss: 0.3225 - val_auc: 0.9397\n",
            "Epoch 30/30\n",
            "1349/1349 [==============================] - 93s 69ms/step - loss: 0.3260 - auc: 0.9346 - val_loss: 0.3218 - val_auc: 0.9380\n"
          ]
        }
      ],
      "source": [
        "import math\n",
        "\n",
        "batch_size = 30\n",
        "num_batchs = math.ceil(len(training_data) / batch_size)\n",
        "num_batchs_validation = math.ceil(len(validation_set) / batch_size)\n",
        "\n",
        "history = model.fit(\n",
        "    gen_batch(\n",
        "        training_data, batch_size=batch_size, repeat=True\n",
        "    ),\n",
        "    steps_per_epoch=num_batchs,\n",
        "    epochs=30,\n",
        "    validation_data=gen_batch(\n",
        "        validation_set, batch_size=30, repeat=True\n",
        "    ),\n",
        "    validation_steps=num_batchs_validation,\n",
        ")"
      ]
    },
    {
      "cell_type": "code",
      "execution_count": null,
      "metadata": {
        "colab": {
          "background_save": true
        },
        "id": "3b7ur6ppXPhC",
        "outputId": "f54ef579-8673-4243-dcf0-ea990094f461"
      },
      "outputs": [
        {
          "data": {
            "image/png": "[encoded data removed]",
            "text/plain": [
              "<Figure size 432x288 with 1 Axes>"
            ]
          },
          "metadata": {},
          "output_type": "display_data"
        },
        {
          "data": {
            "image/png": "[encoded data removed]",
            "text/plain": [
              "<Figure size 432x288 with 1 Axes>"
            ]
          },
          "metadata": {},
          "output_type": "display_data"
        }
      ],
      "source": [
        "#showing the loss and val_los from the training data\n",
        "plot_graphs(history, \"loss\")\n",
        "#showing accuracy and val_accuracy from the training data \n",
        "plot_graphs(history, \"auc\")"
      ]
    },
    {
      "cell_type": "code",
      "execution_count": null,
      "metadata": {
        "colab": {
          "background_save": true
        },
        "id": "V-yEvZOBXPhC"
      },
      "outputs": [],
      "source": [
        "y_pred = model.predict(\n",
        "    gen_batch(test_data, batch_size=16, shuffle=False)\n",
        ")\n",
        "y_pred = np.reshape(y_pred, -1)"
      ]
    },
    {
      "cell_type": "code",
      "execution_count": null,
      "metadata": {
        "colab": {
          "background_save": true
        },
        "id": "Yj-4znHzXPhC"
      },
      "outputs": [],
      "source": [
        "import pandas as pd \n",
        "submission = pd.DataFrame({'label':y_pred})\n",
        "submission.index.name = 'id'\n",
        "submission.to_csv('/content/drive/MyDrive/DM_assignment_6/output.csv')"
      ]
    },
    {
      "cell_type": "markdown",
      "metadata": {
        "id": "v7jc0mfXvdAH"
      },
      "source": [
        "## **Trial_7**\n",
        "\n",
        "___"
      ]
    },
    {
      "cell_type": "markdown",
      "source": [
        "----\n",
        "- **Ater performing the model we ralize that the model perform very very well comparing to the previous trial and this is expected, there is no overfitting or underfitting.** it's considered the best model we can realoze an obvious improvment in the performance of the model.\n",
        "\n",
        "----"
      ],
      "metadata": {
        "id": "GJ1AubYoDPdq"
      }
    },
    {
      "cell_type": "markdown",
      "metadata": {
        "id": "WxBqRlExESq8"
      },
      "source": [
        "### **GGNN**"
      ]
    },
    {
      "cell_type": "code",
      "execution_count": 14,
      "metadata": {
        "colab": {
          "base_uri": "https://localhost:8080/"
        },
        "id": "1DdIykIXESq8",
        "outputId": "ffe91646-44c5-441a-b34d-de862b127414"
      },
      "outputs": [
        {
          "output_type": "stream",
          "name": "stdout",
          "text": [
            "gnn_out KerasTensor(type_spec=TensorSpec(shape=(None, 64), dtype=tf.float32, name=None), name='gnn/StatefulPartitionedCall:0', description=\"created by layer 'gnn'\")\n",
            "mean: KerasTensor(type_spec=TensorSpec(shape=(None, 64), dtype=tf.float32, name=None), name='tf.math.segment_mean/SegmentMean:0', description=\"created by layer 'tf.math.segment_mean'\")\n",
            "pred: KerasTensor(type_spec=TensorSpec(shape=(None, 1), dtype=tf.float32, name=None), name='dense/Sigmoid:0', description=\"created by layer 'dense'\")\n",
            "Model: \"model\"\n",
            "__________________________________________________________________________________________________\n",
            " Layer (type)                   Output Shape         Param #     Connected to                     \n",
            "==================================================================================================\n",
            " input_3 (InputLayer)           [(None,)]            0           []                               \n",
            "                                                                                                  \n",
            " input_1 (InputLayer)           [(None,)]            0           []                               \n",
            "                                                                                                  \n",
            " tf.math.reduce_max (TFOpLambda  ()                  0           ['input_3[0][0]']                \n",
            " )                                                                                                \n",
            "                                                                                                  \n",
            " embedding (Embedding)          (None, 20)           10000       ['input_1[0][0]']                \n",
            "                                                                                                  \n",
            " input_2 (InputLayer)           [(None, 2)]          0           []                               \n",
            "                                                                                                  \n",
            " tf.__operators__.add (TFOpLamb  ()                  0           ['tf.math.reduce_max[0][0]']     \n",
            " da)                                                                                              \n",
            "                                                                                                  \n",
            " gnn (GNN)                      (None, 64)           171392      ['embedding[0][0]',              \n",
            "                                                                  'input_2[0][0]',                \n",
            "                                                                  'input_3[0][0]',                \n",
            "                                                                  'tf.__operators__.add[0][0]']   \n",
            "                                                                                                  \n",
            " tf.math.segment_mean (TFOpLamb  (None, 64)          0           ['gnn[0][0]',                    \n",
            " da)                                                              'input_3[0][0]']                \n",
            "                                                                                                  \n",
            " dense (Dense)                  (None, 1)            65          ['tf.math.segment_mean[0][0]']   \n",
            "                                                                                                  \n",
            "==================================================================================================\n",
            "Total params: 181,457\n",
            "Trainable params: 181,457\n",
            "Non-trainable params: 0\n",
            "__________________________________________________________________________________________________\n"
          ]
        }
      ],
      "source": [
        "import tensorflow as tf\n",
        "from tensorflow.math import segment_mean\n",
        "from tensorflow import keras\n",
        "from tensorflow.keras import Input, Model\n",
        "from tensorflow.keras.layers import Embedding, Dense\n",
        "from tensorflow.keras.optimizers import Adam\n",
        "\n",
        "data = keras.Input(batch_shape=(None,))\n",
        "\n",
        "edge = keras.Input(batch_shape=(None, 2), dtype=tf.int32)\n",
        "node2graph = keras.Input(batch_shape=(None,), dtype=tf.int32)\n",
        "embeded = Embedding(tokenizer.num_words, 20)(data)\n",
        "\n",
        "# number of graphs (number of samples)\n",
        "num_graph = tf.reduce_max(node2graph)+1\n",
        "\n",
        "gnn_input = GNNInput(\n",
        "    node_features=embeded,\n",
        "    adjacency_lists=(edge,),\n",
        "    node_to_graph_map=node2graph, \n",
        "    num_graphs=num_graph,\n",
        ")\n",
        "\n",
        "\n",
        "params = GNN.get_default_hyperparameters()\n",
        "params[\"hidden_dim\"] = 64\n",
        "params[\"num_aggr_MLP_HIDDEN_LAYERS\"] = 32\n",
        "params['message_calculation_class']= 'GGNN'\n",
        "params['num_heads']= 4\n",
        "gnn_layer = GNN(params)\n",
        "\n",
        "gnn_out = gnn_layer(gnn_input)\n",
        "\n",
        "print('gnn_out', gnn_out)\n",
        "\n",
        "\n",
        "avg = segment_mean(\n",
        "    data=gnn_out,\n",
        "    segment_ids=node2graph\n",
        ")\n",
        "print('mean:', avg)\n",
        "\n",
        "pred = Dense(1, activation='sigmoid')(avg)\n",
        "print('pred:', pred)\n",
        "\n",
        "model = Model(\n",
        "    inputs={\n",
        "        'data': data,\n",
        "        'edges': edge,\n",
        "        'node2grah': node2graph,\n",
        "    },\n",
        "    outputs=pred\n",
        ")\n",
        "model.summary()"
      ]
    },
    {
      "cell_type": "code",
      "execution_count": 15,
      "metadata": {
        "id": "5iqLS3LrESq9"
      },
      "outputs": [],
      "source": [
        "model.compile(\n",
        "    loss='BinaryCrossentropy',\n",
        "    metrics=['AUC']\n",
        ")"
      ]
    },
    {
      "cell_type": "code",
      "execution_count": 16,
      "metadata": {
        "colab": {
          "base_uri": "https://localhost:8080/"
        },
        "id": "CexoG-JvESq9",
        "outputId": "97f10272-3076-46b3-a913-312b047196a1"
      },
      "outputs": [
        {
          "output_type": "stream",
          "name": "stdout",
          "text": [
            "Epoch 1/30\n"
          ]
        },
        {
          "output_type": "stream",
          "name": "stderr",
          "text": [
            "/usr/local/lib/python3.7/dist-packages/tensorflow/python/framework/indexed_slices.py:446: UserWarning: Converting sparse IndexedSlices(IndexedSlices(indices=Tensor(\"gradients/ggnn_3/embedding_lookup_grad/Reshape_1:0\", shape=(None,), dtype=int32), values=Tensor(\"gradients/ggnn_3/embedding_lookup_grad/Reshape:0\", shape=(None, 64), dtype=float32), dense_shape=Tensor(\"gradients/ggnn_3/embedding_lookup_grad/Cast:0\", shape=(2,), dtype=int32))) to a dense Tensor of unknown shape. This may consume a large amount of memory.\n",
            "  \"shape. This may consume a large amount of memory.\" % value)\n",
            "/usr/local/lib/python3.7/dist-packages/tensorflow/python/framework/indexed_slices.py:446: UserWarning: Converting sparse IndexedSlices(IndexedSlices(indices=Tensor(\"gradients/GatherV2_1_grad/Reshape_1:0\", shape=(None,), dtype=int32), values=Tensor(\"gradients/GatherV2_1_grad/Reshape:0\", shape=(None,), dtype=float32), dense_shape=Tensor(\"gradients/GatherV2_1_grad/Cast:0\", shape=(1,), dtype=int32))) to a dense Tensor of unknown shape. This may consume a large amount of memory.\n",
            "  \"shape. This may consume a large amount of memory.\" % value)\n",
            "/usr/local/lib/python3.7/dist-packages/tensorflow/python/framework/indexed_slices.py:446: UserWarning: Converting sparse IndexedSlices(IndexedSlices(indices=Tensor(\"gradients/GatherV2_grad/Reshape_1:0\", shape=(None,), dtype=int32), values=Tensor(\"gradients/GatherV2_grad/Reshape:0\", shape=(None,), dtype=float32), dense_shape=Tensor(\"gradients/GatherV2_grad/Cast:0\", shape=(1,), dtype=int32))) to a dense Tensor of unknown shape. This may consume a large amount of memory.\n",
            "  \"shape. This may consume a large amount of memory.\" % value)\n",
            "/usr/local/lib/python3.7/dist-packages/tensorflow/python/framework/indexed_slices.py:446: UserWarning: Converting sparse IndexedSlices(IndexedSlices(indices=Tensor(\"gradients/ggnn_2/embedding_lookup_grad/Reshape_1:0\", shape=(None,), dtype=int32), values=Tensor(\"gradients/ggnn_2/embedding_lookup_grad/Reshape:0\", shape=(None, 64), dtype=float32), dense_shape=Tensor(\"gradients/ggnn_2/embedding_lookup_grad/Cast:0\", shape=(2,), dtype=int32))) to a dense Tensor of unknown shape. This may consume a large amount of memory.\n",
            "  \"shape. This may consume a large amount of memory.\" % value)\n",
            "/usr/local/lib/python3.7/dist-packages/tensorflow/python/framework/indexed_slices.py:446: UserWarning: Converting sparse IndexedSlices(IndexedSlices(indices=Tensor(\"gradients/ggnn_1/embedding_lookup_grad/Reshape_1:0\", shape=(None,), dtype=int32), values=Tensor(\"gradients/ggnn_1/embedding_lookup_grad/Reshape:0\", shape=(None, 64), dtype=float32), dense_shape=Tensor(\"gradients/ggnn_1/embedding_lookup_grad/Cast:0\", shape=(2,), dtype=int32))) to a dense Tensor of unknown shape. This may consume a large amount of memory.\n",
            "  \"shape. This may consume a large amount of memory.\" % value)\n",
            "/usr/local/lib/python3.7/dist-packages/tensorflow/python/framework/indexed_slices.py:446: UserWarning: Converting sparse IndexedSlices(IndexedSlices(indices=Tensor(\"gradients/ggnn/embedding_lookup_grad/Reshape_1:0\", shape=(None,), dtype=int32), values=Tensor(\"gradients/ggnn/embedding_lookup_grad/Reshape:0\", shape=(None, 64), dtype=float32), dense_shape=Tensor(\"gradients/ggnn/embedding_lookup_grad/Cast:0\", shape=(2,), dtype=int32))) to a dense Tensor of unknown shape. This may consume a large amount of memory.\n",
            "  \"shape. This may consume a large amount of memory.\" % value)\n"
          ]
        },
        {
          "output_type": "stream",
          "name": "stdout",
          "text": [
            "709/709 [==============================] - 93s 118ms/step - loss: 0.1979 - auc: 0.6121 - val_loss: 0.1646 - val_auc: 0.6721\n",
            "Epoch 2/30\n",
            "709/709 [==============================] - 67s 94ms/step - loss: 0.1891 - auc: 0.6586 - val_loss: 0.1633 - val_auc: 0.6760\n",
            "Epoch 3/30\n",
            "709/709 [==============================] - 74s 104ms/step - loss: 0.1859 - auc: 0.6800 - val_loss: 0.1607 - val_auc: 0.7057\n",
            "Epoch 4/30\n",
            "709/709 [==============================] - 67s 94ms/step - loss: 0.1846 - auc: 0.6933 - val_loss: 0.1601 - val_auc: 0.7008\n",
            "Epoch 5/30\n",
            "709/709 [==============================] - 66s 94ms/step - loss: 0.1825 - auc: 0.7030 - val_loss: 0.1561 - val_auc: 0.7210\n",
            "Epoch 6/30\n",
            "709/709 [==============================] - 67s 94ms/step - loss: 0.1768 - auc: 0.7353 - val_loss: 0.1607 - val_auc: 0.7452\n",
            "Epoch 7/30\n",
            "709/709 [==============================] - 67s 94ms/step - loss: 0.1723 - auc: 0.7579 - val_loss: 0.1509 - val_auc: 0.7282\n",
            "Epoch 8/30\n",
            "709/709 [==============================] - 67s 94ms/step - loss: 0.1720 - auc: 0.7570 - val_loss: 0.1512 - val_auc: 0.7627\n",
            "Epoch 9/30\n",
            "709/709 [==============================] - 66s 93ms/step - loss: 0.1686 - auc: 0.7755 - val_loss: 0.1498 - val_auc: 0.7632\n",
            "Epoch 10/30\n",
            "709/709 [==============================] - 66s 93ms/step - loss: 0.1670 - auc: 0.7791 - val_loss: 0.1482 - val_auc: 0.7711\n",
            "Epoch 11/30\n",
            "709/709 [==============================] - 68s 97ms/step - loss: 0.1654 - auc: 0.7812 - val_loss: 0.1491 - val_auc: 0.7686\n",
            "Epoch 12/30\n",
            "709/709 [==============================] - 65s 92ms/step - loss: 0.1667 - auc: 0.7821 - val_loss: 0.1402 - val_auc: 0.7617\n",
            "Epoch 13/30\n",
            "709/709 [==============================] - 65s 92ms/step - loss: 0.1654 - auc: 0.7781 - val_loss: 0.1510 - val_auc: 0.7734\n",
            "Epoch 14/30\n",
            "709/709 [==============================] - 65s 92ms/step - loss: 0.1638 - auc: 0.7921 - val_loss: 0.1545 - val_auc: 0.7610\n",
            "Epoch 15/30\n",
            "709/709 [==============================] - 65s 92ms/step - loss: 0.1691 - auc: 0.7701 - val_loss: 0.1468 - val_auc: 0.7687\n",
            "Epoch 16/30\n",
            "709/709 [==============================] - 77s 108ms/step - loss: 0.1639 - auc: 0.7883 - val_loss: 0.1480 - val_auc: 0.7526\n",
            "Epoch 17/30\n",
            "709/709 [==============================] - 80s 112ms/step - loss: 0.1605 - auc: 0.7965 - val_loss: 0.1411 - val_auc: 0.7993\n",
            "Epoch 18/30\n",
            "709/709 [==============================] - 76s 107ms/step - loss: 0.1603 - auc: 0.7993 - val_loss: 0.1415 - val_auc: 0.7764\n",
            "Epoch 19/30\n",
            "709/709 [==============================] - 68s 96ms/step - loss: 0.1590 - auc: 0.7989 - val_loss: 0.1494 - val_auc: 0.7749\n",
            "Epoch 20/30\n",
            "709/709 [==============================] - 67s 94ms/step - loss: 0.1590 - auc: 0.8025 - val_loss: 0.1425 - val_auc: 0.7587\n",
            "Epoch 21/30\n",
            "709/709 [==============================] - 66s 93ms/step - loss: 0.1586 - auc: 0.7968 - val_loss: 0.1530 - val_auc: 0.7601\n",
            "Epoch 22/30\n",
            "709/709 [==============================] - 66s 93ms/step - loss: 0.1560 - auc: 0.8049 - val_loss: 0.1470 - val_auc: 0.7782\n",
            "Epoch 23/30\n",
            "709/709 [==============================] - 66s 93ms/step - loss: 0.1582 - auc: 0.7985 - val_loss: 0.1534 - val_auc: 0.7637\n",
            "Epoch 24/30\n",
            "709/709 [==============================] - 67s 94ms/step - loss: 0.1567 - auc: 0.8066 - val_loss: 0.1424 - val_auc: 0.7825\n",
            "Epoch 25/30\n",
            "709/709 [==============================] - 68s 96ms/step - loss: 0.1565 - auc: 0.8031 - val_loss: 0.1599 - val_auc: 0.7301\n",
            "Epoch 26/30\n",
            "709/709 [==============================] - 67s 94ms/step - loss: 0.1581 - auc: 0.8031 - val_loss: 0.1347 - val_auc: 0.7980\n",
            "Epoch 27/30\n",
            "709/709 [==============================] - 71s 100ms/step - loss: 0.1541 - auc: 0.8136 - val_loss: 0.1433 - val_auc: 0.7856\n",
            "Epoch 28/30\n",
            "709/709 [==============================] - 67s 95ms/step - loss: 0.1545 - auc: 0.8136 - val_loss: 0.1545 - val_auc: 0.7642\n",
            "Epoch 29/30\n",
            "709/709 [==============================] - 67s 95ms/step - loss: 0.1561 - auc: 0.8060 - val_loss: 0.1373 - val_auc: 0.7875\n",
            "Epoch 30/30\n",
            "709/709 [==============================] - 66s 93ms/step - loss: 0.1539 - auc: 0.8160 - val_loss: 0.1452 - val_auc: 0.7887\n"
          ]
        }
      ],
      "source": [
        "import math\n",
        "\n",
        "batch_size = 30\n",
        "num_batchs = math.ceil(len(training_data) / batch_size)\n",
        "num_batchs_validation = math.ceil(len(validation_set) / batch_size)\n",
        "\n",
        "history = model.fit(\n",
        "    gen_batch(\n",
        "        training_data, batch_size=batch_size, repeat=True\n",
        "    ),\n",
        "    steps_per_epoch=num_batchs,\n",
        "    epochs=30,\n",
        "    validation_data=gen_batch(\n",
        "        validation_set, batch_size=30, repeat=True\n",
        "    ),\n",
        "    validation_steps=num_batchs_validation,\n",
        ")"
      ]
    },
    {
      "cell_type": "code",
      "execution_count": 17,
      "metadata": {
        "id": "15yZ1J5HESq-",
        "colab": {
          "base_uri": "https://localhost:8080/",
          "height": 545
        },
        "outputId": "b556ba0d-1658-49ca-b040-b1c523796768"
      },
      "outputs": [
        {
          "output_type": "display_data",
          "data": {
            "text/plain": [
              "<Figure size 432x288 with 1 Axes>"
            ],
            "image/png": "[encoded data removed]"
          },
          "metadata": {
            "needs_background": "light"
          }
        },
        {
          "output_type": "display_data",
          "data": {
            "text/plain": [
              "<Figure size 432x288 with 1 Axes>"
            ],
            "image/png": "[encoded data removed]"
          },
          "metadata": {
            "needs_background": "light"
          }
        }
      ],
      "source": [
        "#showing the loss and val_los from the training data\n",
        "plot_graphs(history, \"loss\")\n",
        "#showing accuracy and val_accuracy from the training data \n",
        "plot_graphs(history, \"auc\")"
      ]
    },
    {
      "cell_type": "code",
      "execution_count": 18,
      "metadata": {
        "id": "FtkO-EeeESq9"
      },
      "outputs": [],
      "source": [
        "y_pred = model.predict(\n",
        "    gen_batch(test_data, batch_size=16, shuffle=False)\n",
        ")\n",
        "y_pred = np.reshape(y_pred, -1)"
      ]
    },
    {
      "cell_type": "code",
      "execution_count": 19,
      "metadata": {
        "id": "fmLvZ2bPESq-"
      },
      "outputs": [],
      "source": [
        "import pandas as pd \n",
        "submission = pd.DataFrame({'label':y_pred})\n",
        "submission.index.name = 'id'\n",
        "submission.to_csv('/content/drive/MyDrive/DM_assignment_6/output.csv')"
      ]
    },
    {
      "cell_type": "code",
      "execution_count": 19,
      "metadata": {
        "id": "01XVxQ9EESq-"
      },
      "outputs": [],
      "source": [
        ""
      ]
    },
    {
      "cell_type": "markdown",
      "source": [
        "----\n",
        "- **Ater performing the model we ralize that the model perform well comparing to the previous trial and this is expected, there is no overfitting or underfitting.** \n",
        "\n",
        "----"
      ],
      "metadata": {
        "id": "msOL2oK0Dx67"
      }
    },
    {
      "cell_type": "markdown",
      "metadata": {
        "id": "N-fcY8Yjvi8G"
      },
      "source": [
        "## **Trial_8**\n",
        "\n",
        "----"
      ]
    },
    {
      "cell_type": "markdown",
      "metadata": {
        "id": "-hVJb5cEnxz0"
      },
      "source": [
        "### **RGCN**"
      ]
    },
    {
      "cell_type": "markdown",
      "metadata": {
        "id": "ERTxyhm4nx0B"
      },
      "source": [
        "Graph Convolutional Networks (GCNs), a powerful type of neural network designed to work directly on graphs and leverage their structural information."
      ]
    },
    {
      "cell_type": "markdown",
      "metadata": {
        "id": "cq_QNlqmnx0B"
      },
      "source": [
        "GCNs are a very powerful neural network architecture for machine learning on graphs. In fact, they are so powerful that even a randomly initiated 2-layer GCN can produce useful feature representations of nodes in networks. The figure below illustrates a 2-dimensional representation of each node in a network produced by such a GCN. Notice that the relative nearness of nodes in the network is preserved in the 2-dimensional representation even without any training."
      ]
    },
    {
      "cell_type": "code",
      "execution_count": 20,
      "metadata": {
        "id": "8TsLyYRznx0C",
        "colab": {
          "base_uri": "https://localhost:8080/"
        },
        "outputId": "dccb018d-dd2f-4c0c-8d5b-72d74d2bc19c"
      },
      "outputs": [
        {
          "output_type": "stream",
          "name": "stdout",
          "text": [
            "gnn_out KerasTensor(type_spec=TensorSpec(shape=(None, 64), dtype=tf.float32, name=None), name='gnn_1/StatefulPartitionedCall:0', description=\"created by layer 'gnn_1'\")\n",
            "mean: KerasTensor(type_spec=TensorSpec(shape=(None, 64), dtype=tf.float32, name=None), name='tf.math.segment_mean_1/SegmentMean:0', description=\"created by layer 'tf.math.segment_mean_1'\")\n",
            "pred: KerasTensor(type_spec=TensorSpec(shape=(None, 1), dtype=tf.float32, name=None), name='dense_1/Sigmoid:0', description=\"created by layer 'dense_1'\")\n",
            "Model: \"model_1\"\n",
            "__________________________________________________________________________________________________\n",
            " Layer (type)                   Output Shape         Param #     Connected to                     \n",
            "==================================================================================================\n",
            " input_6 (InputLayer)           [(None,)]            0           []                               \n",
            "                                                                                                  \n",
            " input_4 (InputLayer)           [(None,)]            0           []                               \n",
            "                                                                                                  \n",
            " tf.math.reduce_max_1 (TFOpLamb  ()                  0           ['input_6[0][0]']                \n",
            " da)                                                                                              \n",
            "                                                                                                  \n",
            " embedding_1 (Embedding)        (None, 20)           10000       ['input_4[0][0]']                \n",
            "                                                                                                  \n",
            " input_5 (InputLayer)           [(None, 2)]          0           []                               \n",
            "                                                                                                  \n",
            " tf.__operators__.add_1 (TFOpLa  ()                  0           ['tf.math.reduce_max_1[0][0]']   \n",
            " mbda)                                                                                            \n",
            "                                                                                                  \n",
            " gnn_1 (GNN)                    (None, 64)           71552       ['embedding_1[0][0]',            \n",
            "                                                                  'input_5[0][0]',                \n",
            "                                                                  'input_6[0][0]',                \n",
            "                                                                  'tf.__operators__.add_1[0][0]'] \n",
            "                                                                                                  \n",
            " tf.math.segment_mean_1 (TFOpLa  (None, 64)          0           ['gnn_1[0][0]',                  \n",
            " mbda)                                                            'input_6[0][0]']                \n",
            "                                                                                                  \n",
            " dense_1 (Dense)                (None, 1)            65          ['tf.math.segment_mean_1[0][0]'] \n",
            "                                                                                                  \n",
            "==================================================================================================\n",
            "Total params: 81,617\n",
            "Trainable params: 81,617\n",
            "Non-trainable params: 0\n",
            "__________________________________________________________________________________________________\n"
          ]
        }
      ],
      "source": [
        "import tensorflow as tf\n",
        "from tensorflow.math import segment_mean\n",
        "from tensorflow import keras\n",
        "from tensorflow.keras import Input, Model\n",
        "from tensorflow.keras.layers import Embedding, Dense\n",
        "from tensorflow.keras.optimizers import Adam\n",
        "\n",
        "data = keras.Input(batch_shape=(None,))\n",
        "\n",
        "\n",
        "edge = keras.Input(batch_shape=(None, 2), dtype=tf.int32)\n",
        "node2graph = keras.Input(batch_shape=(None,), dtype=tf.int32)\n",
        "embeded = Embedding(tokenizer.num_words, 20)(data)\n",
        "\n",
        "# number of graphs (number of samples)\n",
        "num_graph = tf.reduce_max(node2graph)+1\n",
        "\n",
        "gnn_input = GNNInput(\n",
        "    node_features=embeded,\n",
        "    adjacency_lists=(edge,),\n",
        "    node_to_graph_map=node2graph, \n",
        "    num_graphs=num_graph,\n",
        ")\n",
        "\n",
        "\n",
        "params = GNN.get_default_hyperparameters()\n",
        "params[\"hidden_dim\"] = 64\n",
        "params[\"num_aggr_MLP_HIDDEN_LAYERS\"] = 32\n",
        "params['message_calculation_class']= 'RGCN'\n",
        "gnn_layer = GNN(params)\n",
        "\n",
        "gnn_out = gnn_layer(gnn_input)\n",
        "\n",
        "print('gnn_out', gnn_out)\n",
        "\n",
        "\n",
        "avg = segment_mean(\n",
        "    data=gnn_out,\n",
        "    segment_ids=node2graph\n",
        ")\n",
        "print('mean:', avg)\n",
        "\n",
        "pred = Dense(1, activation='sigmoid')(avg)\n",
        "print('pred:', pred)\n",
        "\n",
        "model = Model(\n",
        "    inputs={\n",
        "        'data': data,\n",
        "        'edges': edge,\n",
        "        'node2grah': node2graph,\n",
        "    },\n",
        "    outputs=pred\n",
        ")\n",
        "model.summary()"
      ]
    },
    {
      "cell_type": "code",
      "execution_count": 21,
      "metadata": {
        "id": "To1nofhEnx0D"
      },
      "outputs": [],
      "source": [
        "model.compile(\n",
        "    loss='BinaryCrossentropy',\n",
        "    metrics=['AUC']\n",
        ")"
      ]
    },
    {
      "cell_type": "code",
      "execution_count": 22,
      "metadata": {
        "id": "FYTQCtiOnx0D",
        "colab": {
          "base_uri": "https://localhost:8080/"
        },
        "outputId": "68536c95-95d9-471b-a316-437fb10168ff"
      },
      "outputs": [
        {
          "output_type": "stream",
          "name": "stdout",
          "text": [
            "Epoch 1/30\n"
          ]
        },
        {
          "output_type": "stream",
          "name": "stderr",
          "text": [
            "/usr/local/lib/python3.7/dist-packages/tensorflow/python/framework/indexed_slices.py:446: UserWarning: Converting sparse IndexedSlices(IndexedSlices(indices=Tensor(\"gradients/cond_3_grad/Identity_1:0\", shape=(None,), dtype=int32), values=Tensor(\"gradients/cond_3_grad/Identity:0\", shape=(None, 64), dtype=float32), dense_shape=Tensor(\"gradients/cond_3_grad/Identity_2:0\", shape=(2,), dtype=int32))) to a dense Tensor of unknown shape. This may consume a large amount of memory.\n",
            "  \"shape. This may consume a large amount of memory.\" % value)\n",
            "/usr/local/lib/python3.7/dist-packages/tensorflow/python/framework/indexed_slices.py:446: UserWarning: Converting sparse IndexedSlices(IndexedSlices(indices=Tensor(\"gradients/rgcn_2/embedding_lookup_grad/Reshape_1:0\", shape=(None,), dtype=int32), values=Tensor(\"gradients/rgcn_2/embedding_lookup_grad/Reshape:0\", shape=(None, 64), dtype=float32), dense_shape=Tensor(\"gradients/rgcn_2/embedding_lookup_grad/Cast:0\", shape=(2,), dtype=int32))) to a dense Tensor of unknown shape. This may consume a large amount of memory.\n",
            "  \"shape. This may consume a large amount of memory.\" % value)\n",
            "/usr/local/lib/python3.7/dist-packages/tensorflow/python/framework/indexed_slices.py:446: UserWarning: Converting sparse IndexedSlices(IndexedSlices(indices=Tensor(\"gradients/cond_1_grad/Identity_1:0\", shape=(None,), dtype=int32), values=Tensor(\"gradients/cond_1_grad/Identity:0\", shape=(None, 64), dtype=float32), dense_shape=Tensor(\"gradients/cond_1_grad/Identity_2:0\", shape=(2,), dtype=int32))) to a dense Tensor of unknown shape. This may consume a large amount of memory.\n",
            "  \"shape. This may consume a large amount of memory.\" % value)\n",
            "/usr/local/lib/python3.7/dist-packages/tensorflow/python/framework/indexed_slices.py:446: UserWarning: Converting sparse IndexedSlices(IndexedSlices(indices=Tensor(\"gradients/rgcn/embedding_lookup_grad/Reshape_1:0\", shape=(None,), dtype=int32), values=Tensor(\"gradients/rgcn/embedding_lookup_grad/Reshape:0\", shape=(None, 64), dtype=float32), dense_shape=Tensor(\"gradients/rgcn/embedding_lookup_grad/Cast:0\", shape=(2,), dtype=int32))) to a dense Tensor of unknown shape. This may consume a large amount of memory.\n",
            "  \"shape. This may consume a large amount of memory.\" % value)\n"
          ]
        },
        {
          "output_type": "stream",
          "name": "stdout",
          "text": [
            "426/426 [==============================] - 39s 85ms/step - loss: 0.2398 - auc: 0.5040 - val_loss: 0.1804 - val_auc: 0.6423\n",
            "Epoch 2/30\n",
            "426/426 [==============================] - 36s 84ms/step - loss: 0.1992 - auc: 0.6135 - val_loss: 0.3192 - val_auc: 0.6607\n",
            "Epoch 3/30\n",
            "426/426 [==============================] - 35s 83ms/step - loss: 0.1923 - auc: 0.6474 - val_loss: 0.1669 - val_auc: 0.6497\n",
            "Epoch 4/30\n",
            "426/426 [==============================] - 36s 84ms/step - loss: 0.1916 - auc: 0.6481 - val_loss: 0.1677 - val_auc: 0.7085\n",
            "Epoch 5/30\n",
            "426/426 [==============================] - 36s 85ms/step - loss: 0.1873 - auc: 0.6772 - val_loss: 0.1721 - val_auc: 0.7143\n",
            "Epoch 6/30\n",
            "426/426 [==============================] - 36s 85ms/step - loss: 0.1864 - auc: 0.6888 - val_loss: 0.1582 - val_auc: 0.6840\n",
            "Epoch 7/30\n",
            "426/426 [==============================] - 36s 86ms/step - loss: 0.1838 - auc: 0.7009 - val_loss: 0.1697 - val_auc: 0.7215\n",
            "Epoch 8/30\n",
            "426/426 [==============================] - 35s 82ms/step - loss: 0.1845 - auc: 0.7024 - val_loss: 0.1524 - val_auc: 0.7179\n",
            "Epoch 9/30\n",
            "426/426 [==============================] - 38s 88ms/step - loss: 0.1814 - auc: 0.7173 - val_loss: 0.1687 - val_auc: 0.6993\n",
            "Epoch 10/30\n",
            "426/426 [==============================] - 35s 82ms/step - loss: 0.1815 - auc: 0.7201 - val_loss: 0.1587 - val_auc: 0.7167\n",
            "Epoch 11/30\n",
            "426/426 [==============================] - 37s 86ms/step - loss: 0.1813 - auc: 0.7243 - val_loss: 0.1532 - val_auc: 0.7481\n",
            "Epoch 12/30\n",
            "426/426 [==============================] - 36s 84ms/step - loss: 0.1805 - auc: 0.7262 - val_loss: 0.1692 - val_auc: 0.7134\n",
            "Epoch 13/30\n",
            "426/426 [==============================] - 36s 84ms/step - loss: 0.1782 - auc: 0.7353 - val_loss: 0.1522 - val_auc: 0.7516\n",
            "Epoch 14/30\n",
            "426/426 [==============================] - 34s 80ms/step - loss: 0.1790 - auc: 0.7253 - val_loss: 0.1554 - val_auc: 0.7421\n",
            "Epoch 15/30\n",
            "426/426 [==============================] - 35s 83ms/step - loss: 0.1787 - auc: 0.7364 - val_loss: 0.1621 - val_auc: 0.7054\n",
            "Epoch 16/30\n",
            "426/426 [==============================] - 36s 84ms/step - loss: 0.1793 - auc: 0.7301 - val_loss: 0.1549 - val_auc: 0.7445\n",
            "Epoch 17/30\n",
            "426/426 [==============================] - 35s 83ms/step - loss: 0.1784 - auc: 0.7366 - val_loss: 0.1487 - val_auc: 0.7328\n",
            "Epoch 18/30\n",
            "426/426 [==============================] - 38s 89ms/step - loss: 0.1771 - auc: 0.7355 - val_loss: 0.1592 - val_auc: 0.7351\n",
            "Epoch 19/30\n",
            "426/426 [==============================] - 36s 85ms/step - loss: 0.1774 - auc: 0.7381 - val_loss: 0.1620 - val_auc: 0.7248\n",
            "Epoch 20/30\n",
            "426/426 [==============================] - 34s 80ms/step - loss: 0.1763 - auc: 0.7422 - val_loss: 0.1541 - val_auc: 0.7274\n",
            "Epoch 21/30\n",
            "426/426 [==============================] - 35s 82ms/step - loss: 0.1768 - auc: 0.7458 - val_loss: 0.1756 - val_auc: 0.7285\n",
            "Epoch 22/30\n",
            "426/426 [==============================] - 35s 81ms/step - loss: 0.1779 - auc: 0.7414 - val_loss: 0.1571 - val_auc: 0.7226\n",
            "Epoch 23/30\n",
            "426/426 [==============================] - 35s 83ms/step - loss: 0.1749 - auc: 0.7558 - val_loss: 0.1518 - val_auc: 0.7632\n",
            "Epoch 24/30\n",
            "426/426 [==============================] - 36s 84ms/step - loss: 0.1772 - auc: 0.7365 - val_loss: 0.1730 - val_auc: 0.7232\n",
            "Epoch 25/30\n",
            "426/426 [==============================] - 35s 82ms/step - loss: 0.1755 - auc: 0.7514 - val_loss: 0.1525 - val_auc: 0.7430\n",
            "Epoch 26/30\n",
            "426/426 [==============================] - 34s 81ms/step - loss: 0.1772 - auc: 0.7482 - val_loss: 0.1562 - val_auc: 0.7545\n",
            "Epoch 27/30\n",
            "426/426 [==============================] - 34s 80ms/step - loss: 0.1757 - auc: 0.7542 - val_loss: 0.1601 - val_auc: 0.7654\n",
            "Epoch 28/30\n",
            "426/426 [==============================] - 34s 81ms/step - loss: 0.1769 - auc: 0.7474 - val_loss: 0.1587 - val_auc: 0.7438\n",
            "Epoch 29/30\n",
            "426/426 [==============================] - 36s 84ms/step - loss: 0.1754 - auc: 0.7529 - val_loss: 0.1574 - val_auc: 0.7750\n",
            "Epoch 30/30\n",
            "426/426 [==============================] - 35s 83ms/step - loss: 0.1753 - auc: 0.7539 - val_loss: 0.1574 - val_auc: 0.7298\n"
          ]
        }
      ],
      "source": [
        "import math\n",
        "\n",
        "batch_size = 50\n",
        "num_batchs = math.ceil(len(training_data) / batch_size)\n",
        "num_batchs_validation = math.ceil(len(validation_set) / batch_size)\n",
        "\n",
        "history =model.fit(\n",
        "    gen_batch(\n",
        "        training_data, batch_size=batch_size, repeat=True\n",
        "    ),\n",
        "    steps_per_epoch=num_batchs,\n",
        "    epochs=30,\n",
        "    validation_data=gen_batch(\n",
        "        validation_set, batch_size=50, repeat=True\n",
        "    ),\n",
        "    validation_steps=num_batchs_validation,\n",
        ")"
      ]
    },
    {
      "cell_type": "code",
      "execution_count": 23,
      "metadata": {
        "id": "dvWrNQqpMrLp",
        "colab": {
          "base_uri": "https://localhost:8080/",
          "height": 542
        },
        "outputId": "ba026332-702e-41e3-8002-e2b6ac903585"
      },
      "outputs": [
        {
          "output_type": "display_data",
          "data": {
            "text/plain": [
              "<Figure size 432x288 with 1 Axes>"
            ],
            "image/png": "[encoded data removed]"
          },
          "metadata": {
            "needs_background": "light"
          }
        },
        {
          "output_type": "display_data",
          "data": {
            "text/plain": [
              "<Figure size 432x288 with 1 Axes>"
            ],
            "image/png": "[encoded data removed]"
          },
          "metadata": {
            "needs_background": "light"
          }
        }
      ],
      "source": [
        "#showing the loss and val_los from the training data\n",
        "plot_graphs(history, \"loss\")\n",
        "#showing accuracy and val_accuracy from the training data \n",
        "plot_graphs(history, \"auc\")"
      ]
    },
    {
      "cell_type": "code",
      "execution_count": 24,
      "metadata": {
        "id": "Bh-tAhBXnx0D"
      },
      "outputs": [],
      "source": [
        "y_pred = model.predict(\n",
        "    gen_batch(test_data, batch_size=16, shuffle=False)\n",
        ")\n",
        "y_pred = np.reshape(y_pred, -1)"
      ]
    },
    {
      "cell_type": "code",
      "execution_count": 25,
      "metadata": {
        "id": "LMCZyPgUnx0D"
      },
      "outputs": [],
      "source": [
        "import pandas as pd \n",
        "submission = pd.DataFrame({'label':y_pred})\n",
        "submission.index.name = 'id'\n",
        "submission.to_csv('/content/drive/MyDrive/DM_assignment_6/output.csv')"
      ]
    },
    {
      "cell_type": "markdown",
      "source": [
        "----\n",
        "- **Ater performing the model we ralize that the model perform well comparing to the previous trial and this is expected, there is no overfitting or underfitting.** \n",
        "\n",
        "----"
      ],
      "metadata": {
        "id": "seS1rrDaE35g"
      }
    },
    {
      "cell_type": "markdown",
      "metadata": {
        "id": "1ABmjPxxvolT"
      },
      "source": [
        "## **Trial_9**\n",
        "\n",
        "-----"
      ]
    },
    {
      "cell_type": "markdown",
      "metadata": {
        "id": "GXYSvP4bD5KD"
      },
      "source": [
        "###**GNN**"
      ]
    },
    {
      "cell_type": "code",
      "execution_count": 26,
      "metadata": {
        "id": "0t9E0dySD5KE",
        "colab": {
          "base_uri": "https://localhost:8080/"
        },
        "outputId": "0c86d731-d722-4c80-894d-dcb516eff1a3"
      },
      "outputs": [
        {
          "output_type": "stream",
          "name": "stdout",
          "text": [
            "gnn_out KerasTensor(type_spec=TensorSpec(shape=(None, 8), dtype=tf.float32, name=None), name='gnn_2/StatefulPartitionedCall:0', description=\"created by layer 'gnn_2'\")\n",
            "mean: KerasTensor(type_spec=TensorSpec(shape=(None, 8), dtype=tf.float32, name=None), name='tf.math.segment_mean_2/SegmentMean:0', description=\"created by layer 'tf.math.segment_mean_2'\")\n",
            "pred: KerasTensor(type_spec=TensorSpec(shape=(None, 1), dtype=tf.float32, name=None), name='dense_2/Sigmoid:0', description=\"created by layer 'dense_2'\")\n",
            "Model: \"model_2\"\n",
            "__________________________________________________________________________________________________\n",
            " Layer (type)                   Output Shape         Param #     Connected to                     \n",
            "==================================================================================================\n",
            " input_9 (InputLayer)           [(None,)]            0           []                               \n",
            "                                                                                                  \n",
            " input_7 (InputLayer)           [(None,)]            0           []                               \n",
            "                                                                                                  \n",
            " tf.math.reduce_max_2 (TFOpLamb  ()                  0           ['input_9[0][0]']                \n",
            " da)                                                                                              \n",
            "                                                                                                  \n",
            " embedding_2 (Embedding)        (None, 20)           10000       ['input_7[0][0]']                \n",
            "                                                                                                  \n",
            " input_8 (InputLayer)           [(None, 2)]          0           []                               \n",
            "                                                                                                  \n",
            " tf.__operators__.add_2 (TFOpLa  ()                  0           ['tf.math.reduce_max_2[0][0]']   \n",
            " mbda)                                                                                            \n",
            "                                                                                                  \n",
            " gnn_2 (GNN)                    (None, 8)            3120        ['embedding_2[0][0]',            \n",
            "                                                                  'input_8[0][0]',                \n",
            "                                                                  'input_9[0][0]',                \n",
            "                                                                  'tf.__operators__.add_2[0][0]'] \n",
            "                                                                                                  \n",
            " tf.math.segment_mean_2 (TFOpLa  (None, 8)           0           ['gnn_2[0][0]',                  \n",
            " mbda)                                                            'input_9[0][0]']                \n",
            "                                                                                                  \n",
            " dense_2 (Dense)                (None, 1)            9           ['tf.math.segment_mean_2[0][0]'] \n",
            "                                                                                                  \n",
            "==================================================================================================\n",
            "Total params: 13,129\n",
            "Trainable params: 13,129\n",
            "Non-trainable params: 0\n",
            "__________________________________________________________________________________________________\n"
          ]
        }
      ],
      "source": [
        "import tensorflow as tf\n",
        "from tensorflow.math import segment_mean\n",
        "from tensorflow import keras\n",
        "from tensorflow.keras import Input, Model\n",
        "from tensorflow.keras.layers import Embedding, Dense\n",
        "from tensorflow.keras.optimizers import Adam\n",
        "\n",
        "data = keras.Input(batch_shape=(None,))\n",
        "\n",
        "edge = keras.Input(batch_shape=(None, 2), dtype=tf.int32)\n",
        "node2graph = keras.Input(batch_shape=(None,), dtype=tf.int32)\n",
        "embeded = Embedding(tokenizer.num_words, 20)(data)\n",
        "\n",
        "# number of graphs (number of samples)\n",
        "num_graph = tf.reduce_max(node2graph)+1\n",
        "\n",
        "gnn_input = GNNInput(\n",
        "    node_features=embeded,\n",
        "    adjacency_lists=(edge,),\n",
        "    node_to_graph_map=node2graph, \n",
        "    num_graphs=num_graph,\n",
        ")\n",
        "\n",
        "params = GNN.get_default_hyperparameters()\n",
        "params[\"hidden_dim\"] = 8\n",
        "# parameter message calcualation class\n",
        "gnn_layer = GNN(params)\n",
        "gnn_out = gnn_layer(gnn_input)\n",
        "\n",
        "print('gnn_out', gnn_out)\n",
        "\n",
        "avg = segment_mean(\n",
        "    data=gnn_out,\n",
        "    segment_ids=node2graph\n",
        ")\n",
        "print('mean:', avg)\n",
        "\n",
        "pred = Dense(1, activation='sigmoid')(avg)\n",
        "print('pred:', pred)\n",
        "\n",
        "model = Model(\n",
        "    inputs={\n",
        "        'data': data,\n",
        "        'edges': edge,\n",
        "        'node2grah': node2graph,\n",
        "    },\n",
        "    outputs=pred\n",
        ")\n",
        "model.summary()"
      ]
    },
    {
      "cell_type": "code",
      "execution_count": 27,
      "metadata": {
        "id": "ceYHFCJAD5KE"
      },
      "outputs": [],
      "source": [
        "model.compile(\n",
        "    loss='BinaryCrossentropy',\n",
        "    metrics=['AUC']\n",
        ")"
      ]
    },
    {
      "cell_type": "code",
      "execution_count": 28,
      "metadata": {
        "id": "QBtiUvT5D5KF",
        "colab": {
          "base_uri": "https://localhost:8080/"
        },
        "outputId": "451211ec-e74e-44c7-e25b-b62e60c14af0"
      },
      "outputs": [
        {
          "output_type": "stream",
          "name": "stdout",
          "text": [
            "Epoch 1/30\n"
          ]
        },
        {
          "output_type": "stream",
          "name": "stderr",
          "text": [
            "/usr/local/lib/python3.7/dist-packages/tensorflow/python/framework/indexed_slices.py:446: UserWarning: Converting sparse IndexedSlices(IndexedSlices(indices=Tensor(\"gradients/cond_3_grad/Identity_1:0\", shape=(None,), dtype=int32), values=Tensor(\"gradients/cond_3_grad/Identity:0\", shape=(None, 8), dtype=float32), dense_shape=Tensor(\"gradients/cond_3_grad/Identity_2:0\", shape=(2,), dtype=int32))) to a dense Tensor of unknown shape. This may consume a large amount of memory.\n",
            "  \"shape. This may consume a large amount of memory.\" % value)\n",
            "/usr/local/lib/python3.7/dist-packages/tensorflow/python/framework/indexed_slices.py:446: UserWarning: Converting sparse IndexedSlices(IndexedSlices(indices=Tensor(\"gradients/rgcn_2/embedding_lookup_grad/Reshape_1:0\", shape=(None,), dtype=int32), values=Tensor(\"gradients/rgcn_2/embedding_lookup_grad/Reshape:0\", shape=(None, 8), dtype=float32), dense_shape=Tensor(\"gradients/rgcn_2/embedding_lookup_grad/Cast:0\", shape=(2,), dtype=int32))) to a dense Tensor of unknown shape. This may consume a large amount of memory.\n",
            "  \"shape. This may consume a large amount of memory.\" % value)\n",
            "/usr/local/lib/python3.7/dist-packages/tensorflow/python/framework/indexed_slices.py:446: UserWarning: Converting sparse IndexedSlices(IndexedSlices(indices=Tensor(\"gradients/cond_1_grad/Identity_1:0\", shape=(None,), dtype=int32), values=Tensor(\"gradients/cond_1_grad/Identity:0\", shape=(None, 8), dtype=float32), dense_shape=Tensor(\"gradients/cond_1_grad/Identity_2:0\", shape=(2,), dtype=int32))) to a dense Tensor of unknown shape. This may consume a large amount of memory.\n",
            "  \"shape. This may consume a large amount of memory.\" % value)\n",
            "/usr/local/lib/python3.7/dist-packages/tensorflow/python/framework/indexed_slices.py:446: UserWarning: Converting sparse IndexedSlices(IndexedSlices(indices=Tensor(\"gradients/rgcn/embedding_lookup_grad/Reshape_1:0\", shape=(None,), dtype=int32), values=Tensor(\"gradients/rgcn/embedding_lookup_grad/Reshape:0\", shape=(None, 8), dtype=float32), dense_shape=Tensor(\"gradients/rgcn/embedding_lookup_grad/Cast:0\", shape=(2,), dtype=int32))) to a dense Tensor of unknown shape. This may consume a large amount of memory.\n",
            "  \"shape. This may consume a large amount of memory.\" % value)\n"
          ]
        },
        {
          "output_type": "stream",
          "name": "stdout",
          "text": [
            "665/665 [==============================] - 15s 17ms/step - loss: 0.3568 - auc: 0.4397 - val_loss: 0.2352 - val_auc: 0.3442\n",
            "Epoch 2/30\n",
            "665/665 [==============================] - 10s 16ms/step - loss: 0.2458 - auc: 0.3759 - val_loss: 0.2202 - val_auc: 0.3562\n",
            "Epoch 3/30\n",
            "665/665 [==============================] - 11s 16ms/step - loss: 0.2301 - auc: 0.3831 - val_loss: 0.2081 - val_auc: 0.3531\n",
            "Epoch 4/30\n",
            "665/665 [==============================] - 11s 16ms/step - loss: 0.2157 - auc: 0.4201 - val_loss: 0.1987 - val_auc: 0.3665\n",
            "Epoch 5/30\n",
            "665/665 [==============================] - 11s 16ms/step - loss: 0.2041 - auc: 0.5097 - val_loss: 0.1758 - val_auc: 0.5299\n",
            "Epoch 6/30\n",
            "665/665 [==============================] - 11s 16ms/step - loss: 0.1973 - auc: 0.5842 - val_loss: 0.1749 - val_auc: 0.6169\n",
            "Epoch 7/30\n",
            "665/665 [==============================] - 10s 16ms/step - loss: 0.1941 - auc: 0.6137 - val_loss: 0.1630 - val_auc: 0.6470\n",
            "Epoch 8/30\n",
            "665/665 [==============================] - 10s 16ms/step - loss: 0.1912 - auc: 0.6283 - val_loss: 0.1725 - val_auc: 0.6683\n",
            "Epoch 9/30\n",
            "665/665 [==============================] - 11s 16ms/step - loss: 0.1895 - auc: 0.6512 - val_loss: 0.1610 - val_auc: 0.6822\n",
            "Epoch 10/30\n",
            "665/665 [==============================] - 11s 17ms/step - loss: 0.1881 - auc: 0.6621 - val_loss: 0.1703 - val_auc: 0.6769\n",
            "Epoch 11/30\n",
            "665/665 [==============================] - 11s 17ms/step - loss: 0.1875 - auc: 0.6705 - val_loss: 0.1643 - val_auc: 0.6949\n",
            "Epoch 12/30\n",
            "665/665 [==============================] - 11s 17ms/step - loss: 0.1856 - auc: 0.6828 - val_loss: 0.1619 - val_auc: 0.6923\n",
            "Epoch 13/30\n",
            "665/665 [==============================] - 11s 17ms/step - loss: 0.1863 - auc: 0.6816 - val_loss: 0.1642 - val_auc: 0.7176\n",
            "Epoch 14/30\n",
            "665/665 [==============================] - 11s 17ms/step - loss: 0.1841 - auc: 0.6873 - val_loss: 0.1706 - val_auc: 0.6850\n",
            "Epoch 15/30\n",
            "665/665 [==============================] - 11s 17ms/step - loss: 0.1830 - auc: 0.6925 - val_loss: 0.1578 - val_auc: 0.6929\n",
            "Epoch 16/30\n",
            "665/665 [==============================] - 11s 16ms/step - loss: 0.1836 - auc: 0.6938 - val_loss: 0.1711 - val_auc: 0.7072\n",
            "Epoch 17/30\n",
            "665/665 [==============================] - 11s 17ms/step - loss: 0.1836 - auc: 0.6935 - val_loss: 0.1539 - val_auc: 0.6989\n",
            "Epoch 18/30\n",
            "665/665 [==============================] - 11s 17ms/step - loss: 0.1840 - auc: 0.6927 - val_loss: 0.1635 - val_auc: 0.6747\n",
            "Epoch 19/30\n",
            "665/665 [==============================] - 11s 16ms/step - loss: 0.1833 - auc: 0.6966 - val_loss: 0.1582 - val_auc: 0.7184\n",
            "Epoch 20/30\n",
            "665/665 [==============================] - 11s 17ms/step - loss: 0.1817 - auc: 0.7049 - val_loss: 0.1574 - val_auc: 0.7064\n",
            "Epoch 21/30\n",
            "665/665 [==============================] - 11s 17ms/step - loss: 0.1815 - auc: 0.7050 - val_loss: 0.1684 - val_auc: 0.6759\n",
            "Epoch 22/30\n",
            "665/665 [==============================] - 11s 17ms/step - loss: 0.1822 - auc: 0.6972 - val_loss: 0.1522 - val_auc: 0.7019\n",
            "Epoch 23/30\n",
            "665/665 [==============================] - 11s 16ms/step - loss: 0.1814 - auc: 0.7092 - val_loss: 0.1573 - val_auc: 0.7096\n",
            "Epoch 24/30\n",
            "665/665 [==============================] - 11s 16ms/step - loss: 0.1814 - auc: 0.7068 - val_loss: 0.1748 - val_auc: 0.6884\n",
            "Epoch 25/30\n",
            "665/665 [==============================] - 11s 16ms/step - loss: 0.1809 - auc: 0.7134 - val_loss: 0.1542 - val_auc: 0.7116\n",
            "Epoch 26/30\n",
            "665/665 [==============================] - 11s 17ms/step - loss: 0.1802 - auc: 0.7155 - val_loss: 0.1629 - val_auc: 0.7118\n",
            "Epoch 27/30\n",
            "665/665 [==============================] - 11s 17ms/step - loss: 0.1802 - auc: 0.7116 - val_loss: 0.1621 - val_auc: 0.7034\n",
            "Epoch 28/30\n",
            "665/665 [==============================] - 11s 17ms/step - loss: 0.1812 - auc: 0.7127 - val_loss: 0.1680 - val_auc: 0.6834\n",
            "Epoch 29/30\n",
            "665/665 [==============================] - 11s 17ms/step - loss: 0.1796 - auc: 0.7151 - val_loss: 0.1637 - val_auc: 0.7072\n",
            "Epoch 30/30\n",
            "665/665 [==============================] - 11s 17ms/step - loss: 0.1815 - auc: 0.7122 - val_loss: 0.1556 - val_auc: 0.7136\n"
          ]
        }
      ],
      "source": [
        "import math\n",
        "\n",
        "batch_size = 32\n",
        "num_batchs = math.ceil(len(training_data) / batch_size)\n",
        "num_batchs_validation = math.ceil(len(validation_set) / batch_size)\n",
        "\n",
        "history = model.fit(\n",
        "    gen_batch(\n",
        "        training_data, batch_size=batch_size, repeat=True\n",
        "    ),\n",
        "    steps_per_epoch=num_batchs,\n",
        "    epochs=30,\n",
        "    validation_data=gen_batch(\n",
        "        validation_set, batch_size=32, repeat=True\n",
        "    ),\n",
        "    validation_steps=num_batchs_validation,\n",
        ")"
      ]
    },
    {
      "cell_type": "code",
      "execution_count": 29,
      "metadata": {
        "id": "St1UKAHFMuPC",
        "colab": {
          "base_uri": "https://localhost:8080/",
          "height": 541
        },
        "outputId": "b0d07966-e965-47b9-d3d8-d82c0e838985"
      },
      "outputs": [
        {
          "output_type": "display_data",
          "data": {
            "text/plain": [
              "<Figure size 432x288 with 1 Axes>"
            ],
            "image/png": "[encoded data removed]"
          },
          "metadata": {
            "needs_background": "light"
          }
        },
        {
          "output_type": "display_data",
          "data": {
            "text/plain": [
              "<Figure size 432x288 with 1 Axes>"
            ],
            "image/png": "[encoded data removed]"
          },
          "metadata": {
            "needs_background": "light"
          }
        }
      ],
      "source": [
        "#showing the loss and val_los from the training data\n",
        "plot_graphs(history, \"loss\")\n",
        "#showing accuracy and val_accuracy from the training data \n",
        "plot_graphs(history, \"auc\")"
      ]
    },
    {
      "cell_type": "code",
      "execution_count": 30,
      "metadata": {
        "id": "h-RnXNHDD5KF"
      },
      "outputs": [],
      "source": [
        "y_pred = model.predict(\n",
        "    gen_batch(test_data, batch_size=16, shuffle=False)\n",
        ")\n",
        "y_pred = np.reshape(y_pred, -1)"
      ]
    },
    {
      "cell_type": "code",
      "execution_count": 31,
      "metadata": {
        "id": "BEgvlwmhD5KF",
        "colab": {
          "base_uri": "https://localhost:8080/"
        },
        "outputId": "9c8e4325-fac5-4a91-8c25-4ffc9eb1bce4"
      },
      "outputs": [
        {
          "output_type": "execute_result",
          "data": {
            "text/plain": [
              "12326"
            ]
          },
          "metadata": {},
          "execution_count": 31
        }
      ],
      "source": [
        "len(y_pred)"
      ]
    },
    {
      "cell_type": "code",
      "execution_count": 32,
      "metadata": {
        "id": "drSSIib4D5KF"
      },
      "outputs": [],
      "source": [
        "import pandas as pd \n",
        "submission = pd.DataFrame({'label':y_pred})\n",
        "submission.index.name = 'id'\n",
        "submission.to_csv('/content/drive/MyDrive/DM_assignment_6/output.csv')"
      ]
    },
    {
      "cell_type": "markdown",
      "source": [
        "----\n",
        "- **Ater performing the model we ralize that the model perform well comparing to the previous trial and this is expected, there is no overfitting or underfitting.** \n",
        "\n",
        "----"
      ],
      "metadata": {
        "id": "NhP8H95jFAC3"
      }
    },
    {
      "cell_type": "markdown",
      "metadata": {
        "id": "JSskREiQvuEv"
      },
      "source": [
        "## **Trial_10**\n",
        "\n",
        "----"
      ]
    },
    {
      "cell_type": "markdown",
      "metadata": {
        "id": "obfa4TiBECfp"
      },
      "source": [
        "### **RGIN**"
      ]
    },
    {
      "cell_type": "code",
      "execution_count": 38,
      "metadata": {
        "id": "J4Kt7tqNECfr",
        "colab": {
          "base_uri": "https://localhost:8080/"
        },
        "outputId": "e4209bc5-2e5c-49f6-db67-b66cbc83ab82"
      },
      "outputs": [
        {
          "output_type": "stream",
          "name": "stdout",
          "text": [
            "gnn_out KerasTensor(type_spec=TensorSpec(shape=(None, 64), dtype=tf.float32, name=None), name='gnn_4/StatefulPartitionedCall:0', description=\"created by layer 'gnn_4'\")\n",
            "mean: KerasTensor(type_spec=TensorSpec(shape=(None, 64), dtype=tf.float32, name=None), name='tf.math.segment_mean_4/SegmentMean:0', description=\"created by layer 'tf.math.segment_mean_4'\")\n",
            "pred: KerasTensor(type_spec=TensorSpec(shape=(None, 1), dtype=tf.float32, name=None), name='dense_4/Sigmoid:0', description=\"created by layer 'dense_4'\")\n",
            "Model: \"model_4\"\n",
            "__________________________________________________________________________________________________\n",
            " Layer (type)                   Output Shape         Param #     Connected to                     \n",
            "==================================================================================================\n",
            " input_15 (InputLayer)          [(None,)]            0           []                               \n",
            "                                                                                                  \n",
            " input_13 (InputLayer)          [(None,)]            0           []                               \n",
            "                                                                                                  \n",
            " tf.math.reduce_max_4 (TFOpLamb  ()                  0           ['input_15[0][0]']               \n",
            " da)                                                                                              \n",
            "                                                                                                  \n",
            " embedding_4 (Embedding)        (None, 20)           10000       ['input_13[0][0]']               \n",
            "                                                                                                  \n",
            " input_14 (InputLayer)          [(None, 2)]          0           []                               \n",
            "                                                                                                  \n",
            " tf.__operators__.add_4 (TFOpLa  ()                  0           ['tf.math.reduce_max_4[0][0]']   \n",
            " mbda)                                                                                            \n",
            "                                                                                                  \n",
            " gnn_4 (GNN)                    (None, 64)           612224      ['embedding_4[0][0]',            \n",
            "                                                                  'input_14[0][0]',               \n",
            "                                                                  'input_15[0][0]',               \n",
            "                                                                  'tf.__operators__.add_4[0][0]'] \n",
            "                                                                                                  \n",
            " tf.math.segment_mean_4 (TFOpLa  (None, 64)          0           ['gnn_4[0][0]',                  \n",
            " mbda)                                                            'input_15[0][0]']               \n",
            "                                                                                                  \n",
            " dense_4 (Dense)                (None, 1)            65          ['tf.math.segment_mean_4[0][0]'] \n",
            "                                                                                                  \n",
            "==================================================================================================\n",
            "Total params: 622,289\n",
            "Trainable params: 622,289\n",
            "Non-trainable params: 0\n",
            "__________________________________________________________________________________________________\n"
          ]
        }
      ],
      "source": [
        "import tensorflow as tf\n",
        "from tensorflow.math import segment_mean\n",
        "from tensorflow import keras\n",
        "from tensorflow.keras import Input, Model\n",
        "from tensorflow.keras.layers import Embedding, Dense\n",
        "from tensorflow.keras.optimizers import Adam\n",
        "\n",
        "data = keras.Input(batch_shape=(None,))\n",
        "\n",
        "edge = keras.Input(batch_shape=(None, 2), dtype=tf.int32)\n",
        "node2graph = keras.Input(batch_shape=(None,), dtype=tf.int32)\n",
        "embeded = Embedding(tokenizer.num_words, 20)(data)\n",
        "\n",
        "# number of graphs (number of samples)\n",
        "num_graph = tf.reduce_max(node2graph)+1\n",
        "\n",
        "gnn_input = GNNInput(\n",
        "    node_features=embeded,\n",
        "    adjacency_lists=(edge,),\n",
        "    node_to_graph_map=node2graph, \n",
        "    num_graphs=num_graph,\n",
        ")\n",
        "\n",
        "\n",
        "params = GNN.get_default_hyperparameters()\n",
        "params[\"hidden_dim\"] = 64\n",
        "params[\"num_aggr_MLP_hidden_layers\"] = 32\n",
        "params['message_calculation_class']= 'RGIN'\n",
        "\n",
        "gnn_layer = GNN(params)\n",
        "\n",
        "gnn_out = gnn_layer(gnn_input)\n",
        "\n",
        "print('gnn_out', gnn_out)\n",
        "\n",
        "\n",
        "avg = segment_mean(\n",
        "    data=gnn_out,\n",
        "    segment_ids=node2graph\n",
        ")\n",
        "print('mean:', avg)\n",
        "\n",
        "pred = Dense(1, activation='sigmoid')(avg)\n",
        "print('pred:', pred)\n",
        "\n",
        "model = Model(\n",
        "    inputs={\n",
        "        'data': data,\n",
        "        'edges': edge,\n",
        "        'node2grah': node2graph,\n",
        "    },\n",
        "    outputs=pred\n",
        ")\n",
        "model.summary()"
      ]
    },
    {
      "cell_type": "code",
      "execution_count": 39,
      "metadata": {
        "id": "yGDobYTAECfs"
      },
      "outputs": [],
      "source": [
        "model.compile(\n",
        "    loss='BinaryCrossentropy',\n",
        "    metrics=['AUC']\n",
        ")"
      ]
    },
    {
      "cell_type": "code",
      "execution_count": 40,
      "metadata": {
        "id": "j4G94FTjECft",
        "colab": {
          "base_uri": "https://localhost:8080/"
        },
        "outputId": "aecafab0-375e-4b81-d4be-1fda115e1c4b"
      },
      "outputs": [
        {
          "output_type": "stream",
          "name": "stdout",
          "text": [
            "Epoch 1/30\n"
          ]
        },
        {
          "output_type": "stream",
          "name": "stderr",
          "text": [
            "/usr/local/lib/python3.7/dist-packages/tensorflow/python/framework/indexed_slices.py:446: UserWarning: Converting sparse IndexedSlices(IndexedSlices(indices=Tensor(\"gradients/cond_3_grad/Identity_1:0\", shape=(None,), dtype=int32), values=Tensor(\"gradients/cond_3_grad/Identity:0\", shape=(None, 64), dtype=float32), dense_shape=Tensor(\"gradients/cond_3_grad/Identity_2:0\", shape=(2,), dtype=int32))) to a dense Tensor of unknown shape. This may consume a large amount of memory.\n",
            "  \"shape. This may consume a large amount of memory.\" % value)\n",
            "/usr/local/lib/python3.7/dist-packages/tensorflow/python/framework/indexed_slices.py:446: UserWarning: Converting sparse IndexedSlices(IndexedSlices(indices=Tensor(\"gradients/rgin_2/embedding_lookup_grad/Reshape_1:0\", shape=(None,), dtype=int32), values=Tensor(\"gradients/rgin_2/embedding_lookup_grad/Reshape:0\", shape=(None, 64), dtype=float32), dense_shape=Tensor(\"gradients/rgin_2/embedding_lookup_grad/Cast:0\", shape=(2,), dtype=int32))) to a dense Tensor of unknown shape. This may consume a large amount of memory.\n",
            "  \"shape. This may consume a large amount of memory.\" % value)\n",
            "/usr/local/lib/python3.7/dist-packages/tensorflow/python/framework/indexed_slices.py:446: UserWarning: Converting sparse IndexedSlices(IndexedSlices(indices=Tensor(\"gradients/cond_1_grad/Identity_1:0\", shape=(None,), dtype=int32), values=Tensor(\"gradients/cond_1_grad/Identity:0\", shape=(None, 64), dtype=float32), dense_shape=Tensor(\"gradients/cond_1_grad/Identity_2:0\", shape=(2,), dtype=int32))) to a dense Tensor of unknown shape. This may consume a large amount of memory.\n",
            "  \"shape. This may consume a large amount of memory.\" % value)\n",
            "/usr/local/lib/python3.7/dist-packages/tensorflow/python/framework/indexed_slices.py:446: UserWarning: Converting sparse IndexedSlices(IndexedSlices(indices=Tensor(\"gradients/rgin/embedding_lookup_grad/Reshape_1:0\", shape=(None,), dtype=int32), values=Tensor(\"gradients/rgin/embedding_lookup_grad/Reshape:0\", shape=(None, 64), dtype=float32), dense_shape=Tensor(\"gradients/rgin/embedding_lookup_grad/Cast:0\", shape=(2,), dtype=int32))) to a dense Tensor of unknown shape. This may consume a large amount of memory.\n",
            "  \"shape. This may consume a large amount of memory.\" % value)\n"
          ]
        },
        {
          "output_type": "stream",
          "name": "stdout",
          "text": [
            "665/665 [==============================] - 228s 322ms/step - loss: 0.5593 - auc: 0.5085 - val_loss: 0.4424 - val_auc: 0.5000\n",
            "Epoch 2/30\n",
            "665/665 [==============================] - 257s 386ms/step - loss: 0.3687 - auc: 0.4884 - val_loss: 0.2932 - val_auc: 0.5000\n",
            "Epoch 3/30\n",
            "665/665 [==============================] - 215s 324ms/step - loss: 0.2624 - auc: 0.5034 - val_loss: 0.2174 - val_auc: 0.5000\n",
            "Epoch 4/30\n",
            "665/665 [==============================] - 231s 348ms/step - loss: 0.2158 - auc: 0.4821 - val_loss: 0.1848 - val_auc: 0.5000\n",
            "Epoch 5/30\n",
            "665/665 [==============================] - 236s 354ms/step - loss: 0.2015 - auc: 0.4898 - val_loss: 0.1803 - val_auc: 0.5000\n",
            "Epoch 6/30\n",
            "665/665 [==============================] - 237s 356ms/step - loss: 0.1986 - auc: 0.5007 - val_loss: 0.1738 - val_auc: 0.5000\n",
            "Epoch 7/30\n",
            "665/665 [==============================] - 230s 346ms/step - loss: 0.1981 - auc: 0.5000 - val_loss: 0.1731 - val_auc: 0.5000\n",
            "Epoch 8/30\n",
            "665/665 [==============================] - 258s 388ms/step - loss: 0.1981 - auc: 0.4842 - val_loss: 0.1752 - val_auc: 0.5000\n",
            "Epoch 9/30\n",
            "665/665 [==============================] - 237s 356ms/step - loss: 0.1980 - auc: 0.4998 - val_loss: 0.1735 - val_auc: 0.5000\n",
            "Epoch 10/30\n",
            "665/665 [==============================] - 244s 367ms/step - loss: 0.1981 - auc: 0.5000 - val_loss: 0.1751 - val_auc: 0.5000\n",
            "Epoch 11/30\n",
            "665/665 [==============================] - 245s 369ms/step - loss: 0.1981 - auc: 0.5000 - val_loss: 0.1774 - val_auc: 0.5000\n",
            "Epoch 12/30\n",
            "665/665 [==============================] - 270s 406ms/step - loss: 0.2028 - auc: 0.5200 - val_loss: 0.1761 - val_auc: 0.5919\n",
            "Epoch 13/30\n",
            "665/665 [==============================] - 219s 327ms/step - loss: 0.1999 - auc: 0.5504 - val_loss: 0.1776 - val_auc: 0.6373\n",
            "Epoch 14/30\n",
            "665/665 [==============================] - 240s 361ms/step - loss: 0.2004 - auc: 0.5702 - val_loss: 0.1666 - val_auc: 0.6318\n",
            "Epoch 15/30\n",
            "665/665 [==============================] - 227s 341ms/step - loss: 0.1982 - auc: 0.5653 - val_loss: 0.1770 - val_auc: 0.5906\n",
            "Epoch 16/30\n",
            "665/665 [==============================] - 234s 352ms/step - loss: 0.2138 - auc: 0.5627 - val_loss: 0.1797 - val_auc: 0.5682\n",
            "Epoch 17/30\n",
            "665/665 [==============================] - 223s 335ms/step - loss: 0.2010 - auc: 0.5578 - val_loss: 0.1693 - val_auc: 0.6374\n",
            "Epoch 18/30\n",
            "665/665 [==============================] - 226s 339ms/step - loss: 0.2045 - auc: 0.5628 - val_loss: 0.1745 - val_auc: 0.5958\n",
            "Epoch 19/30\n",
            "665/665 [==============================] - 233s 351ms/step - loss: 0.2019 - auc: 0.5637 - val_loss: 0.1815 - val_auc: 0.5745\n",
            "Epoch 20/30\n",
            "665/665 [==============================] - 225s 339ms/step - loss: 0.2004 - auc: 0.5776 - val_loss: 0.1658 - val_auc: 0.6139\n",
            "Epoch 21/30\n",
            "665/665 [==============================] - 257s 386ms/step - loss: 0.1990 - auc: 0.5913 - val_loss: 0.1716 - val_auc: 0.6012\n",
            "Epoch 22/30\n",
            "665/665 [==============================] - 223s 336ms/step - loss: 0.1977 - auc: 0.5826 - val_loss: 0.1693 - val_auc: 0.6488\n",
            "Epoch 23/30\n",
            "665/665 [==============================] - 209s 313ms/step - loss: 0.1989 - auc: 0.5597 - val_loss: 0.1746 - val_auc: 0.6177\n",
            "Epoch 24/30\n",
            "665/665 [==============================] - 227s 341ms/step - loss: 0.2005 - auc: 0.5867 - val_loss: 0.1835 - val_auc: 0.6582\n",
            "Epoch 25/30\n",
            "665/665 [==============================] - 239s 359ms/step - loss: 0.1979 - auc: 0.5817 - val_loss: 0.1670 - val_auc: 0.6371\n",
            "Epoch 26/30\n",
            "665/665 [==============================] - 223s 335ms/step - loss: 0.1978 - auc: 0.5803 - val_loss: 0.1678 - val_auc: 0.6378\n",
            "Epoch 27/30\n",
            "665/665 [==============================] - 256s 385ms/step - loss: 0.1987 - auc: 0.5705 - val_loss: 0.1685 - val_auc: 0.6268\n",
            "Epoch 28/30\n",
            "665/665 [==============================] - 230s 345ms/step - loss: 0.1976 - auc: 0.5886 - val_loss: 0.1816 - val_auc: 0.6566\n",
            "Epoch 29/30\n",
            "665/665 [==============================] - 218s 328ms/step - loss: 0.1982 - auc: 0.6043 - val_loss: 0.1699 - val_auc: 0.6420\n",
            "Epoch 30/30\n",
            "665/665 [==============================] - 231s 348ms/step - loss: 0.1975 - auc: 0.6188 - val_loss: 0.1753 - val_auc: 0.6338\n"
          ]
        }
      ],
      "source": [
        "import math\n",
        "\n",
        "batch_size = 32\n",
        "num_batchs = math.ceil(len(training_data) / batch_size)\n",
        "num_batchs_validation = math.ceil(len(validation_set) / batch_size)\n",
        "\n",
        "history =model.fit(\n",
        "    gen_batch(\n",
        "        training_data, batch_size=batch_size, repeat=True\n",
        "    ),\n",
        "    steps_per_epoch=num_batchs,\n",
        "    epochs=30,\n",
        "    validation_data=gen_batch(\n",
        "        validation_set, batch_size=32, repeat=True\n",
        "    ),\n",
        "    validation_steps=num_batchs_validation,\n",
        ")"
      ]
    },
    {
      "cell_type": "code",
      "execution_count": 41,
      "metadata": {
        "id": "gKmBl7WPNRCZ",
        "colab": {
          "base_uri": "https://localhost:8080/",
          "height": 541
        },
        "outputId": "5fd0b0ab-4767-4f65-f7e3-6ebd362901f5"
      },
      "outputs": [
        {
          "output_type": "display_data",
          "data": {
            "text/plain": [
              "<Figure size 432x288 with 1 Axes>"
            ],
            "image/png": "[encoded data removed]"
          },
          "metadata": {
            "needs_background": "light"
          }
        },
        {
          "output_type": "display_data",
          "data": {
            "text/plain": [
              "<Figure size 432x288 with 1 Axes>"
            ],
            "image/png": "[encoded data removed]"
          },
          "metadata": {
            "needs_background": "light"
          }
        }
      ],
      "source": [
        "#showing the loss and val_los from the training data\n",
        "plot_graphs(history, \"loss\")\n",
        "#showing accuracy and val_accuracy from the training data \n",
        "plot_graphs(history, \"auc\")"
      ]
    },
    {
      "cell_type": "code",
      "execution_count": 42,
      "metadata": {
        "id": "wp1poEiLECfu"
      },
      "outputs": [],
      "source": [
        "y_pred = model.predict(\n",
        "    gen_batch(test_data, batch_size=16, shuffle=False)\n",
        ")\n",
        "y_pred = np.reshape(y_pred, -1)"
      ]
    },
    {
      "cell_type": "code",
      "execution_count": 43,
      "metadata": {
        "id": "FFkwaq29ECfu"
      },
      "outputs": [],
      "source": [
        "import pandas as pd \n",
        "submission = pd.DataFrame({'label':y_pred})\n",
        "submission.index.name = 'id'\n",
        "submission.to_csv('/content/drive/MyDrive/DM_assignment_6/output.csv')"
      ]
    },
    {
      "cell_type": "markdown",
      "source": [
        "----\n",
        "- **Ater performing the model we ralize that the model perform well comparing to the previous trial and this is expected, there is no overfitting or underfitting.** \n",
        "\n",
        "----"
      ],
      "metadata": {
        "id": "Igj4zMQmFEBl"
      }
    },
    {
      "cell_type": "markdown",
      "metadata": {
        "id": "Wb_xMM1bmpc_"
      },
      "source": [
        "#**Questions**"
      ]
    },
    {
      "cell_type": "markdown",
      "metadata": {
        "id": "0BYRD-xNmpmH"
      },
      "source": [
        "---\n",
        "**Q.1** : Based on the provided template,describe the format of the input file\n",
        "\n",
        "----"
      ]
    },
    {
      "cell_type": "markdown",
      "metadata": {
        "id": "YmwQF-9L4JRV"
      },
      "source": [
        "- SDFs (structure data files) consist of a series of molfiles joined together, together with some additional information about the compounds.Molfiles are text files which contain structure information for a single molecular compound. \n",
        "They are frequently used for sharing libraries of compound structure data.A compound record contains several distinct sections. First, there is a three-line header block. These three lines may contain:\n",
        " - The name of the molecule\n",
        " - Details of the software used to generate the compound structure\n",
        " - A comment\n",
        " >\n",
        "\n",
        "\\\n",
        "- Each row of this matrix represents a node of the graph. To assign initial features to each of these nodes, the input layer applies a linear transformation (also called projection) to the one-hot vectors which encode the node representations. Giving a brief recap of the linear transformation.\n",
        " >\n",
        "\\\n",
        "\n",
        "- An SDF file contains a database which is usually called compact relational database. An SDF file contains all the database related information and the SQL Server Compact is a light weight and free database engine which is used to manage the .sdf files. The .sdf file size shouldn’t exceed the limit of 4 GB of size. The SDF files don’t store the information about stored procedures, triggers or views. Applications using an SQL CE database need not specify the path to an SDF file in the ADO.NET connection string, instead it can be mentioned as |DataDirectory|\\database_name.sdf, defining the data directory being defined in the assembly manifest for the application The .sdf naming convention is optional, and any extension can be used to save the file. Setting up a password for the database file is an optional step. To compress or repair the database the file should be saved with the option of the\n",
        "\n"
      ]
    },
    {
      "cell_type": "markdown",
      "metadata": {
        "id": "3dIlKAok4A-5"
      },
      "source": [
        "\n",
        "----\n",
        "\n",
        "**Q.2** : **What are the input tensors to the neural network model (their meaning, not just symbol)? What is each of their dims and their meaning (e.g. batch_size)?**\n",
        "\n",
        "----"
      ]
    },
    {
      "cell_type": "markdown",
      "metadata": {
        "id": "OeWD9eJB4IwM"
      },
      "source": [
        "```\n",
        "gnn_input = GNNInput(\n",
        "    node_features=embeded,\n",
        "    adjacency_lists=(edge,),\n",
        "    node_to_graph_map=node2graph, \n",
        "    num_graphs=num_graph,\n",
        ")\n",
        "```\n",
        ">  \n",
        "\n",
        "- node_features= embeded \n",
        "  - the first input contains a vector of the words after we change it by using the function Embadding, And the output dimention is 20 \n",
        "  >\n",
        "\n",
        "- adjacency_lists=(edge)\n",
        "  - the edges are what conects one nodes , their dimention is an arry of two values .\n",
        ">\n",
        "\n",
        "- node_to_graph_map=node2graph\n",
        "  - shows how max_nodes_len,number of edges on one batch \n",
        ">\n",
        "- num_graphs=num_graph\n",
        "  - number of samples, their dimention is n+1\n",
        "\n",
        "\n",
        " \n",
        "  \n",
        " * *name:*\t\n",
        "    * it is An optional name string for the layer. \n",
        "    * Should be unique in a model (do not reuse the same name twice).\n",
        "    * It will be autogenerated if it isn't provided.\n",
        "\n",
        "* *dtype:*\n",
        "    *\tThe data type expected by the input, as a string (float32, float64, int32...)\n",
        "\n",
        "* *batch_size:*\t\n",
        "    * optional static batch size (integer).\n",
        "\n",
        "* **sparse:** \n",
        "    * A boolean specifying whether the placeholder to be created is sparse. Only one of 'ragged' and 'sparse' can be True.\n",
        "    \n",
        "* *tensor:* \n",
        "    * Optional existing tensor to wrap into the Input layer. If set, the layer will not create a placeholder tensor.\n",
        "\n",
        "\n",
        "  * *ragged:*\n",
        "    * A boolean specifying whether the placeholder to be created is ragged. Only one of 'ragged' and 'sparse' can be True.\n",
        "    * In this case, values of 'None' in the 'shape' argument represent ragged dimensions\n",
        "\n",
        "\n",
        " * *shape:*\n",
        "    * A shape tuple (integers).\n",
        "    * not including the batch size.\n",
        "    * Elements of this tuple can be None; 'None' elements represent dimensions where the shape is not known."
      ]
    },
    {
      "cell_type": "markdown",
      "metadata": {
        "id": "OwLFszp6mpum"
      },
      "source": [
        "----\n",
        "**Q.3** : **For each dim of gnn_out , what does it symbolize? For each dim of `avg`, what does it symbolize?**\n",
        "\n",
        "----\n"
      ]
    },
    {
      "cell_type": "markdown",
      "metadata": {
        "id": "5S85HUTOyTf2"
      },
      "source": [
        "`GNNInput`:  **named tuple as input, which encapsulates initial node features, adjacency lists, and auxiliary information.**\n",
        "\n",
        "- **`hidden_dim`** : sets the size of the output of all message passing layers.\n",
        "\n",
        "- **`layer_input_dropout_rate`** : sets the dropout rate (during training) for the input of each message passing layer.\n",
        "\n",
        "- **`residual_every_num_layers`** : sets how often a residual connection is inserted between message passing layers. Concretely, a value of k means that every layer l that is a multiple of k (and only those!) will not receive the outputs of layer l-1 as input, but instead the mean of the outputs of layers l-1 and l-k.\n",
        "\n",
        "- **`use_inter_layer_layernorm`** : is a boolean flag indicating if LayerNorm should be used between different message passing layers.\n",
        "\n",
        "- **`dense_every_num_layers`** : configures how often a per-node representation dense layer is inserted between the message passing layers. Setting this to a large value (greather than \"num_layers\") means that no dense layers are inserted at all.\n",
        "\n",
        "- **`dense_intermediate_layer_activation`** : configures the activation function used after the dense layer; the default of \"tanh\" can help stabilise training of very deep GNNs.\n",
        "\n",
        "- **`global_exchange_every_num_layers`**  : configures how often a graph-level exchange of information is performed. For this, a graph level representation (see tf2_gnn.layers.NodesToGraphRepresentation below) is computed and then used to update the representation of each node. The style of this update is configured by \"global_exchange_mode\", offering three modes:\n",
        "\n",
        "- **`mean`**, : which just computes the arithmetic mean of the node and graph-level representation.\n",
        "\n",
        "\n",
        "- **`mlp`**, : which computes a new representation using an MLP that gets the concatenation of node and graph level representations as input.\n",
        "\n",
        "- **`gru`**, : which uses a GRU cell that gets the old node representation as state and the graph representation as input.\n",
        "\n",
        "**avg**\n",
        "\n",
        "\n",
        "- **`data`** : A Tensor. Must be one of the following types: float32, float64, int32, uint8, int16, int8, complex64, int64, qint8, quint8, qint32, bfloat16, uint16, complex128, half, uint32, uint64.\n",
        "\n",
        "- **`segment_ids`** : A Tensor. Must be one of the following types: int32, int64. A 1-D tensor whose size is equal to the size of data's first dimension. Values should be sorted and can be repeated.\n",
        "\n",
        "- **`name`** : A name for the operation (optional)."
      ]
    },
    {
      "cell_type": "markdown",
      "metadata": {
        "id": "eV0VjlBYyTij"
      },
      "source": [
        "---\n",
        "Q.4 : **What is the difference between segment_mean and tf.reduce_mean? For each dim of pred, what does it symbolize?**\n",
        "\n",
        "---"
      ]
    },
    {
      "cell_type": "markdown",
      "metadata": {
        "id": "snqqZsSWyTlM"
      },
      "source": [
        "**segment_mean**\n",
        "\n",
        "\n",
        "- **data** :\tA Tensor. Must be one of the following types: float32, float64, int32, uint8, int16, int8, complex64, int64, qint8, quint8, qint32, bfloat16, uint16, complex128, half, uint32, uint64.\n",
        "\n",
        "- **segment_ids**\t: A Tensor. Must be one of the following types: int32, int64. A 1-D tensor whose size is equal to the size of data's first dimension. Values should be sorted and can be repeated.\n",
        "\n",
        "- **name** :\tA name for the operation (optional).\n",
        "\n",
        "-----\n",
        "\n",
        "**tf.reduce_mean**\n",
        "\n",
        "tensorflow.reduce_mean is the same as numpy.mean. It creates an operation in the underlying tensorflow graph which computes the mean of a tensor.\n",
        "\n",
        "\n",
        "\n",
        "**input_tensor** :\tThe tensor to reduce. Should have numeric type.\n",
        ">\n",
        "**axis** :\tThe dimensions to reduce. If None (the default), reduces all dimensions. Must be in the range [-rank(input_tensor),rank(input_tensor)).\n",
        "\n",
        ">\n",
        "**keepdims** :\tIf true, retains reduced dimensions with length 1.\n",
        "name\tA name for the operation (optional)."
      ]
    },
    {
      "cell_type": "markdown",
      "metadata": {
        "id": "vKPzZifSJFzT"
      },
      "source": [
        "--- \n",
        "**What is the motivation/theory/idea to use multiple gcn layers comparing to just one? How many layers were used in the template?**\n",
        "\n",
        "---"
      ]
    },
    {
      "cell_type": "markdown",
      "metadata": {
        "id": "f4hWugubJF4v"
      },
      "source": [
        "Expanding the neighbourhood for label propagation by adding multiple GCN layers can improve\n",
        "geolocation by accessing information from friends\n",
        "that are multiple hops away, but it might also lead\n",
        "to propagation of noisy information to users from\n",
        "an exponentially increasing number of expanded\n",
        "neighbourhood members. To control the required\n",
        "balance of how much neighbourhood information\n",
        "should be passed to a node, we use layer-wise gates\n",
        "similar to highway networks.\n",
        "\n",
        ">\n",
        ">\n",
        "\n",
        "**there is two layers used in the template.** "
      ]
    },
    {
      "cell_type": "markdown",
      "metadata": {
        "id": "hUepdxlvRGl3"
      },
      "source": [
        "**refreance**\n",
        "\n",
        "- https://towardsdatascience.com/a-beginners-guide-to-artificial-neural-network-using-tensor-flow-keras-41ccd575a876\n",
        "\n",
        "- https://machinelearningmastery.com/use-word-embedding-layers-deep-learning-keras/\n",
        "\n",
        "- https://www.tensorflow.org/api_docs/python/tf/math/segment_mean\n",
        "\n",
        "- https://www.tensorflow.org/api_docs/python/tf/math/reduce_mean\n",
        "\n",
        "- https://github.com/microsoft/tf2-gnn/blob/master/README.md#schlichtkrull-et-al-2017\n",
        "\n",
        "- https://towardsdatascience.com/understanding-the-building-blocks-of-graph-neural-networks-intro-56627f0719d5\n",
        "\n",
        "- https://machinelearningmastery.com/use-word-embedding-layers-deep-learning-keras/"
      ]
    }
  ],
  "metadata": {
    "accelerator": "GPU",
    "colab": {
      "collapsed_sections": [
        "MzoMaCdte43K",
        "NO8Udy-V0zWQ",
        "xmBsJZQUJ2U6",
        "bGWFermAxvH0",
        "rd3nPTlLguxX",
        "E1I67FY8ueZW",
        "c7S57dUZu0Da",
        "-3Obd3wFu6Uv",
        "opBdvwpYu-wq",
        "fVJKCQRVvNJS",
        "aobhtP_zBwAB",
        "mLyUaMgxCDUV",
        "GyBjpV4wCKtO",
        "aTuvA4UIdqmh",
        "F6Hth4LxvY00",
        "v7jc0mfXvdAH",
        "N-fcY8Yjvi8G",
        "1ABmjPxxvolT",
        "Wb_xMM1bmpc_"
      ],
      "name": "Assignment_6.ipynb",
      "toc_visible": true,
      "provenance": []
    },
    "kernelspec": {
      "display_name": "Python 3",
      "name": "python3"
    },
    "language_info": {
      "name": "python"
    },
    "widgets": {
      "application/vnd.jupyter.widget-state+json": {
        "2e1f2d6fa6ea41cdae1ff240a00b65b8": {
          "model_module": "@jupyter-widgets/controls",
          "model_name": "HBoxModel",
          "model_module_version": "1.5.0",
          "state": {
            "_dom_classes": [],
            "_model_module": "@jupyter-widgets/controls",
            "_model_module_version": "1.5.0",
            "_model_name": "HBoxModel",
            "_view_count": null,
            "_view_module": "@jupyter-widgets/controls",
            "_view_module_version": "1.5.0",
            "_view_name": "HBoxView",
            "box_style": "",
            "children": [
              "IPY_MODEL_d620108d64984df4aeee809f591dfc8f",
              "IPY_MODEL_3511a5058ec44e1e89920150ca3fc3b3",
              "IPY_MODEL_ff4499885dae45a5bddf93f00d6a1e32"
            ],
            "layout": "IPY_MODEL_08b5757765694e12b50d9801d86aba3c"
          }
        },
        "d620108d64984df4aeee809f591dfc8f": {
          "model_module": "@jupyter-widgets/controls",
          "model_name": "HTMLModel",
          "model_module_version": "1.5.0",
          "state": {
            "_dom_classes": [],
            "_model_module": "@jupyter-widgets/controls",
            "_model_module_version": "1.5.0",
            "_model_name": "HTMLModel",
            "_view_count": null,
            "_view_module": "@jupyter-widgets/controls",
            "_view_module_version": "1.5.0",
            "_view_name": "HTMLView",
            "description": "",
            "description_tooltip": null,
            "layout": "IPY_MODEL_f26341c94b484b0aa52eeb3a74389571",
            "placeholder": "​",
            "style": "IPY_MODEL_67ace2ea65fb473cac983a80497719de",
            "value": "100%"
          }
        },
        "3511a5058ec44e1e89920150ca3fc3b3": {
          "model_module": "@jupyter-widgets/controls",
          "model_name": "FloatProgressModel",
          "model_module_version": "1.5.0",
          "state": {
            "_dom_classes": [],
            "_model_module": "@jupyter-widgets/controls",
            "_model_module_version": "1.5.0",
            "_model_name": "FloatProgressModel",
            "_view_count": null,
            "_view_module": "@jupyter-widgets/controls",
            "_view_module_version": "1.5.0",
            "_view_name": "ProgressView",
            "bar_style": "success",
            "description": "",
            "description_tooltip": null,
            "layout": "IPY_MODEL_5eb8099719904325b3abf0b5101058f6",
            "max": 25024,
            "min": 0,
            "orientation": "horizontal",
            "style": "IPY_MODEL_8e5f94a033e24ce880a5a2136177a39a",
            "value": 25024
          }
        },
        "ff4499885dae45a5bddf93f00d6a1e32": {
          "model_module": "@jupyter-widgets/controls",
          "model_name": "HTMLModel",
          "model_module_version": "1.5.0",
          "state": {
            "_dom_classes": [],
            "_model_module": "@jupyter-widgets/controls",
            "_model_module_version": "1.5.0",
            "_model_name": "HTMLModel",
            "_view_count": null,
            "_view_module": "@jupyter-widgets/controls",
            "_view_module_version": "1.5.0",
            "_view_name": "HTMLView",
            "description": "",
            "description_tooltip": null,
            "layout": "IPY_MODEL_1f4c7fb287264d22a6349aa8f3b6974a",
            "placeholder": "​",
            "style": "IPY_MODEL_8acd8b1bf3a94573bf455237760f58ff",
            "value": " 25024/25024 [00:05&lt;00:00, 3514.68it/s]"
          }
        },
        "08b5757765694e12b50d9801d86aba3c": {
          "model_module": "@jupyter-widgets/base",
          "model_name": "LayoutModel",
          "model_module_version": "1.2.0",
          "state": {
            "_model_module": "@jupyter-widgets/base",
            "_model_module_version": "1.2.0",
            "_model_name": "LayoutModel",
            "_view_count": null,
            "_view_module": "@jupyter-widgets/base",
            "_view_module_version": "1.2.0",
            "_view_name": "LayoutView",
            "align_content": null,
            "align_items": null,
            "align_self": null,
            "border": null,
            "bottom": null,
            "display": null,
            "flex": null,
            "flex_flow": null,
            "grid_area": null,
            "grid_auto_columns": null,
            "grid_auto_flow": null,
            "grid_auto_rows": null,
            "grid_column": null,
            "grid_gap": null,
            "grid_row": null,
            "grid_template_areas": null,
            "grid_template_columns": null,
            "grid_template_rows": null,
            "height": null,
            "justify_content": null,
            "justify_items": null,
            "left": null,
            "margin": null,
            "max_height": null,
            "max_width": null,
            "min_height": null,
            "min_width": null,
            "object_fit": null,
            "object_position": null,
            "order": null,
            "overflow": null,
            "overflow_x": null,
            "overflow_y": null,
            "padding": null,
            "right": null,
            "top": null,
            "visibility": null,
            "width": null
          }
        },
        "f26341c94b484b0aa52eeb3a74389571": {
          "model_module": "@jupyter-widgets/base",
          "model_name": "LayoutModel",
          "model_module_version": "1.2.0",
          "state": {
            "_model_module": "@jupyter-widgets/base",
            "_model_module_version": "1.2.0",
            "_model_name": "LayoutModel",
            "_view_count": null,
            "_view_module": "@jupyter-widgets/base",
            "_view_module_version": "1.2.0",
            "_view_name": "LayoutView",
            "align_content": null,
            "align_items": null,
            "align_self": null,
            "border": null,
            "bottom": null,
            "display": null,
            "flex": null,
            "flex_flow": null,
            "grid_area": null,
            "grid_auto_columns": null,
            "grid_auto_flow": null,
            "grid_auto_rows": null,
            "grid_column": null,
            "grid_gap": null,
            "grid_row": null,
            "grid_template_areas": null,
            "grid_template_columns": null,
            "grid_template_rows": null,
            "height": null,
            "justify_content": null,
            "justify_items": null,
            "left": null,
            "margin": null,
            "max_height": null,
            "max_width": null,
            "min_height": null,
            "min_width": null,
            "object_fit": null,
            "object_position": null,
            "order": null,
            "overflow": null,
            "overflow_x": null,
            "overflow_y": null,
            "padding": null,
            "right": null,
            "top": null,
            "visibility": null,
            "width": null
          }
        },
        "67ace2ea65fb473cac983a80497719de": {
          "model_module": "@jupyter-widgets/controls",
          "model_name": "DescriptionStyleModel",
          "model_module_version": "1.5.0",
          "state": {
            "_model_module": "@jupyter-widgets/controls",
            "_model_module_version": "1.5.0",
            "_model_name": "DescriptionStyleModel",
            "_view_count": null,
            "_view_module": "@jupyter-widgets/base",
            "_view_module_version": "1.2.0",
            "_view_name": "StyleView",
            "description_width": ""
          }
        },
        "5eb8099719904325b3abf0b5101058f6": {
          "model_module": "@jupyter-widgets/base",
          "model_name": "LayoutModel",
          "model_module_version": "1.2.0",
          "state": {
            "_model_module": "@jupyter-widgets/base",
            "_model_module_version": "1.2.0",
            "_model_name": "LayoutModel",
            "_view_count": null,
            "_view_module": "@jupyter-widgets/base",
            "_view_module_version": "1.2.0",
            "_view_name": "LayoutView",
            "align_content": null,
            "align_items": null,
            "align_self": null,
            "border": null,
            "bottom": null,
            "display": null,
            "flex": null,
            "flex_flow": null,
            "grid_area": null,
            "grid_auto_columns": null,
            "grid_auto_flow": null,
            "grid_auto_rows": null,
            "grid_column": null,
            "grid_gap": null,
            "grid_row": null,
            "grid_template_areas": null,
            "grid_template_columns": null,
            "grid_template_rows": null,
            "height": null,
            "justify_content": null,
            "justify_items": null,
            "left": null,
            "margin": null,
            "max_height": null,
            "max_width": null,
            "min_height": null,
            "min_width": null,
            "object_fit": null,
            "object_position": null,
            "order": null,
            "overflow": null,
            "overflow_x": null,
            "overflow_y": null,
            "padding": null,
            "right": null,
            "top": null,
            "visibility": null,
            "width": null
          }
        },
        "8e5f94a033e24ce880a5a2136177a39a": {
          "model_module": "@jupyter-widgets/controls",
          "model_name": "ProgressStyleModel",
          "model_module_version": "1.5.0",
          "state": {
            "_model_module": "@jupyter-widgets/controls",
            "_model_module_version": "1.5.0",
            "_model_name": "ProgressStyleModel",
            "_view_count": null,
            "_view_module": "@jupyter-widgets/base",
            "_view_module_version": "1.2.0",
            "_view_name": "StyleView",
            "bar_color": null,
            "description_width": ""
          }
        },
        "1f4c7fb287264d22a6349aa8f3b6974a": {
          "model_module": "@jupyter-widgets/base",
          "model_name": "LayoutModel",
          "model_module_version": "1.2.0",
          "state": {
            "_model_module": "@jupyter-widgets/base",
            "_model_module_version": "1.2.0",
            "_model_name": "LayoutModel",
            "_view_count": null,
            "_view_module": "@jupyter-widgets/base",
            "_view_module_version": "1.2.0",
            "_view_name": "LayoutView",
            "align_content": null,
            "align_items": null,
            "align_self": null,
            "border": null,
            "bottom": null,
            "display": null,
            "flex": null,
            "flex_flow": null,
            "grid_area": null,
            "grid_auto_columns": null,
            "grid_auto_flow": null,
            "grid_auto_rows": null,
            "grid_column": null,
            "grid_gap": null,
            "grid_row": null,
            "grid_template_areas": null,
            "grid_template_columns": null,
            "grid_template_rows": null,
            "height": null,
            "justify_content": null,
            "justify_items": null,
            "left": null,
            "margin": null,
            "max_height": null,
            "max_width": null,
            "min_height": null,
            "min_width": null,
            "object_fit": null,
            "object_position": null,
            "order": null,
            "overflow": null,
            "overflow_x": null,
            "overflow_y": null,
            "padding": null,
            "right": null,
            "top": null,
            "visibility": null,
            "width": null
          }
        },
        "8acd8b1bf3a94573bf455237760f58ff": {
          "model_module": "@jupyter-widgets/controls",
          "model_name": "DescriptionStyleModel",
          "model_module_version": "1.5.0",
          "state": {
            "_model_module": "@jupyter-widgets/controls",
            "_model_module_version": "1.5.0",
            "_model_name": "DescriptionStyleModel",
            "_view_count": null,
            "_view_module": "@jupyter-widgets/base",
            "_view_module_version": "1.2.0",
            "_view_name": "StyleView",
            "description_width": ""
          }
        },
        "07cd11c68cfd4742bdc7903059a1e69d": {
          "model_module": "@jupyter-widgets/controls",
          "model_name": "HBoxModel",
          "model_module_version": "1.5.0",
          "state": {
            "_dom_classes": [],
            "_model_module": "@jupyter-widgets/controls",
            "_model_module_version": "1.5.0",
            "_model_name": "HBoxModel",
            "_view_count": null,
            "_view_module": "@jupyter-widgets/controls",
            "_view_module_version": "1.5.0",
            "_view_name": "HBoxView",
            "box_style": "",
            "children": [
              "IPY_MODEL_968dc281291247439c78a09ec83940ce",
              "IPY_MODEL_869123889ccd4dd68e3a4dffbb11b1d3",
              "IPY_MODEL_8679447dce22466ca0977dc693e93984"
            ],
            "layout": "IPY_MODEL_6ac9fe6e6aef4b2eafbf950d9c1fbb0a"
          }
        },
        "968dc281291247439c78a09ec83940ce": {
          "model_module": "@jupyter-widgets/controls",
          "model_name": "HTMLModel",
          "model_module_version": "1.5.0",
          "state": {
            "_dom_classes": [],
            "_model_module": "@jupyter-widgets/controls",
            "_model_module_version": "1.5.0",
            "_model_name": "HTMLModel",
            "_view_count": null,
            "_view_module": "@jupyter-widgets/controls",
            "_view_module_version": "1.5.0",
            "_view_name": "HTMLView",
            "description": "",
            "description_tooltip": null,
            "layout": "IPY_MODEL_84a4af0904484e669edae62077eee35d",
            "placeholder": "​",
            "style": "IPY_MODEL_eb8446811ff14444962144fb813c5c3f",
            "value": "100%"
          }
        },
        "869123889ccd4dd68e3a4dffbb11b1d3": {
          "model_module": "@jupyter-widgets/controls",
          "model_name": "FloatProgressModel",
          "model_module_version": "1.5.0",
          "state": {
            "_dom_classes": [],
            "_model_module": "@jupyter-widgets/controls",
            "_model_module_version": "1.5.0",
            "_model_name": "FloatProgressModel",
            "_view_count": null,
            "_view_module": "@jupyter-widgets/controls",
            "_view_module_version": "1.5.0",
            "_view_name": "ProgressView",
            "bar_style": "success",
            "description": "",
            "description_tooltip": null,
            "layout": "IPY_MODEL_9e44dc2429ab4f78a2989db617d8fc1f",
            "max": 12326,
            "min": 0,
            "orientation": "horizontal",
            "style": "IPY_MODEL_d4441ad41a384a23a8c9fefe72490f42",
            "value": 12326
          }
        },
        "8679447dce22466ca0977dc693e93984": {
          "model_module": "@jupyter-widgets/controls",
          "model_name": "HTMLModel",
          "model_module_version": "1.5.0",
          "state": {
            "_dom_classes": [],
            "_model_module": "@jupyter-widgets/controls",
            "_model_module_version": "1.5.0",
            "_model_name": "HTMLModel",
            "_view_count": null,
            "_view_module": "@jupyter-widgets/controls",
            "_view_module_version": "1.5.0",
            "_view_name": "HTMLView",
            "description": "",
            "description_tooltip": null,
            "layout": "IPY_MODEL_8bbfea81ac4e42929adf2590f562d3bf",
            "placeholder": "​",
            "style": "IPY_MODEL_76e7ed1bb9fe44a4877d242b875e2d28",
            "value": " 12326/12326 [00:01&lt;00:00, 6271.56it/s]"
          }
        },
        "6ac9fe6e6aef4b2eafbf950d9c1fbb0a": {
          "model_module": "@jupyter-widgets/base",
          "model_name": "LayoutModel",
          "model_module_version": "1.2.0",
          "state": {
            "_model_module": "@jupyter-widgets/base",
            "_model_module_version": "1.2.0",
            "_model_name": "LayoutModel",
            "_view_count": null,
            "_view_module": "@jupyter-widgets/base",
            "_view_module_version": "1.2.0",
            "_view_name": "LayoutView",
            "align_content": null,
            "align_items": null,
            "align_self": null,
            "border": null,
            "bottom": null,
            "display": null,
            "flex": null,
            "flex_flow": null,
            "grid_area": null,
            "grid_auto_columns": null,
            "grid_auto_flow": null,
            "grid_auto_rows": null,
            "grid_column": null,
            "grid_gap": null,
            "grid_row": null,
            "grid_template_areas": null,
            "grid_template_columns": null,
            "grid_template_rows": null,
            "height": null,
            "justify_content": null,
            "justify_items": null,
            "left": null,
            "margin": null,
            "max_height": null,
            "max_width": null,
            "min_height": null,
            "min_width": null,
            "object_fit": null,
            "object_position": null,
            "order": null,
            "overflow": null,
            "overflow_x": null,
            "overflow_y": null,
            "padding": null,
            "right": null,
            "top": null,
            "visibility": null,
            "width": null
          }
        },
        "84a4af0904484e669edae62077eee35d": {
          "model_module": "@jupyter-widgets/base",
          "model_name": "LayoutModel",
          "model_module_version": "1.2.0",
          "state": {
            "_model_module": "@jupyter-widgets/base",
            "_model_module_version": "1.2.0",
            "_model_name": "LayoutModel",
            "_view_count": null,
            "_view_module": "@jupyter-widgets/base",
            "_view_module_version": "1.2.0",
            "_view_name": "LayoutView",
            "align_content": null,
            "align_items": null,
            "align_self": null,
            "border": null,
            "bottom": null,
            "display": null,
            "flex": null,
            "flex_flow": null,
            "grid_area": null,
            "grid_auto_columns": null,
            "grid_auto_flow": null,
            "grid_auto_rows": null,
            "grid_column": null,
            "grid_gap": null,
            "grid_row": null,
            "grid_template_areas": null,
            "grid_template_columns": null,
            "grid_template_rows": null,
            "height": null,
            "justify_content": null,
            "justify_items": null,
            "left": null,
            "margin": null,
            "max_height": null,
            "max_width": null,
            "min_height": null,
            "min_width": null,
            "object_fit": null,
            "object_position": null,
            "order": null,
            "overflow": null,
            "overflow_x": null,
            "overflow_y": null,
            "padding": null,
            "right": null,
            "top": null,
            "visibility": null,
            "width": null
          }
        },
        "eb8446811ff14444962144fb813c5c3f": {
          "model_module": "@jupyter-widgets/controls",
          "model_name": "DescriptionStyleModel",
          "model_module_version": "1.5.0",
          "state": {
            "_model_module": "@jupyter-widgets/controls",
            "_model_module_version": "1.5.0",
            "_model_name": "DescriptionStyleModel",
            "_view_count": null,
            "_view_module": "@jupyter-widgets/base",
            "_view_module_version": "1.2.0",
            "_view_name": "StyleView",
            "description_width": ""
          }
        },
        "9e44dc2429ab4f78a2989db617d8fc1f": {
          "model_module": "@jupyter-widgets/base",
          "model_name": "LayoutModel",
          "model_module_version": "1.2.0",
          "state": {
            "_model_module": "@jupyter-widgets/base",
            "_model_module_version": "1.2.0",
            "_model_name": "LayoutModel",
            "_view_count": null,
            "_view_module": "@jupyter-widgets/base",
            "_view_module_version": "1.2.0",
            "_view_name": "LayoutView",
            "align_content": null,
            "align_items": null,
            "align_self": null,
            "border": null,
            "bottom": null,
            "display": null,
            "flex": null,
            "flex_flow": null,
            "grid_area": null,
            "grid_auto_columns": null,
            "grid_auto_flow": null,
            "grid_auto_rows": null,
            "grid_column": null,
            "grid_gap": null,
            "grid_row": null,
            "grid_template_areas": null,
            "grid_template_columns": null,
            "grid_template_rows": null,
            "height": null,
            "justify_content": null,
            "justify_items": null,
            "left": null,
            "margin": null,
            "max_height": null,
            "max_width": null,
            "min_height": null,
            "min_width": null,
            "object_fit": null,
            "object_position": null,
            "order": null,
            "overflow": null,
            "overflow_x": null,
            "overflow_y": null,
            "padding": null,
            "right": null,
            "top": null,
            "visibility": null,
            "width": null
          }
        },
        "d4441ad41a384a23a8c9fefe72490f42": {
          "model_module": "@jupyter-widgets/controls",
          "model_name": "ProgressStyleModel",
          "model_module_version": "1.5.0",
          "state": {
            "_model_module": "@jupyter-widgets/controls",
            "_model_module_version": "1.5.0",
            "_model_name": "ProgressStyleModel",
            "_view_count": null,
            "_view_module": "@jupyter-widgets/base",
            "_view_module_version": "1.2.0",
            "_view_name": "StyleView",
            "bar_color": null,
            "description_width": ""
          }
        },
        "8bbfea81ac4e42929adf2590f562d3bf": {
          "model_module": "@jupyter-widgets/base",
          "model_name": "LayoutModel",
          "model_module_version": "1.2.0",
          "state": {
            "_model_module": "@jupyter-widgets/base",
            "_model_module_version": "1.2.0",
            "_model_name": "LayoutModel",
            "_view_count": null,
            "_view_module": "@jupyter-widgets/base",
            "_view_module_version": "1.2.0",
            "_view_name": "LayoutView",
            "align_content": null,
            "align_items": null,
            "align_self": null,
            "border": null,
            "bottom": null,
            "display": null,
            "flex": null,
            "flex_flow": null,
            "grid_area": null,
            "grid_auto_columns": null,
            "grid_auto_flow": null,
            "grid_auto_rows": null,
            "grid_column": null,
            "grid_gap": null,
            "grid_row": null,
            "grid_template_areas": null,
            "grid_template_columns": null,
            "grid_template_rows": null,
            "height": null,
            "justify_content": null,
            "justify_items": null,
            "left": null,
            "margin": null,
            "max_height": null,
            "max_width": null,
            "min_height": null,
            "min_width": null,
            "object_fit": null,
            "object_position": null,
            "order": null,
            "overflow": null,
            "overflow_x": null,
            "overflow_y": null,
            "padding": null,
            "right": null,
            "top": null,
            "visibility": null,
            "width": null
          }
        },
        "76e7ed1bb9fe44a4877d242b875e2d28": {
          "model_module": "@jupyter-widgets/controls",
          "model_name": "DescriptionStyleModel",
          "model_module_version": "1.5.0",
          "state": {
            "_model_module": "@jupyter-widgets/controls",
            "_model_module_version": "1.5.0",
            "_model_name": "DescriptionStyleModel",
            "_view_count": null,
            "_view_module": "@jupyter-widgets/base",
            "_view_module_version": "1.2.0",
            "_view_name": "StyleView",
            "description_width": ""
          }
        }
      }
    }
  },
  "nbformat": 4,
  "nbformat_minor": 0
}